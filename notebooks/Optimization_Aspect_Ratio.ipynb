{
 "cells": [
  {
   "cell_type": "markdown",
   "id": "3baf7b85-237a-4f28-9e1a-e1834960375b",
   "metadata": {},
   "source": [
    "### Import packages"
   ]
  },
  {
   "cell_type": "code",
   "execution_count": 2,
   "id": "a4719eb0-681b-4c7c-8800-8044858dba80",
   "metadata": {},
   "outputs": [],
   "source": [
    "# Scientific computing\n",
    "import numpy as np\n",
    "\n",
    "# Visualisation\n",
    "import matplotlib.pyplot as plt\n",
    "\n",
    "# Import the storage tank Class\n",
    "from cryoevap.storage_tanks import Tank\n",
    "\n",
    "# Import Cryogen class\n",
    "from cryoevap.cryogens import Cryogen"
   ]
  },
  {
   "cell_type": "markdown",
   "id": "e82b4863-ffdd-4da8-b8fe-e47508f62581",
   "metadata": {},
   "source": [
    "### Define all Variables"
   ]
  },
  {
   "cell_type": "code",
   "execution_count": 22,
   "id": "65edf9de-0f4e-4898-bef7-9c0ff071f3ca",
   "metadata": {
    "scrolled": true
   },
   "outputs": [],
   "source": [
    "# Cylindrical storage tank properties\n",
    "Q_roof = 0 # Roof heat ingress / W\n",
    "T_air = 293.15 # Temperature of the environment K\n",
    "\n",
    "# Set overall heat transfer coefficient through the walls for liquid and vapour\n",
    "U_L = 2e-2 # W/m2/K\n",
    "U_V = 2e-2 # W/m2/K\n",
    "\n",
    "# Specify wall heat partitioning fraction\n",
    "eta_w= 0.7\n",
    "\n",
    "# Specify tank operating pressure\n",
    "P = 101325 # Pa\n",
    "\n",
    "# Generate aspect ratio range\n",
    "a = np.linspace(0.1,10,100)\n",
    "\n",
    "### Variables of interest\n",
    "\n",
    "# Vertically orientated cylindrical tank volume\n",
    "V_tank = 165000 #m^3 | values of 80, 60000 and 165000\n",
    "\n",
    "# Initial liquid filling / Dimensionless\n",
    "LF = 0.80 # values of 0.95, 0.80 and 0.30\n",
    "\n",
    "# Specify heat transfer rate at the bottom\n",
    "# This will represent the heat conduction from the piping system\n",
    "Q_b = 60000 # W, 0 for V 80, 1000 for V 60000 and 60000 for V 165000\n",
    "\n",
    "q_b = 13.09\n",
    "\n",
    "\n",
    "# Initialize cryogen\n",
    "Compound = \"hydrogen\" # hydrogen, methane, ammonia, nitrogen\n",
    "\n",
    "C_cryo = Cryogen(name = Compound)\n",
    "C_cryo.set_coolprops(P)"
   ]
  },
  {
   "cell_type": "markdown",
   "id": "a759671f-274a-4eae-bf15-1f634dd7a22e",
   "metadata": {},
   "source": [
    "### Generate data"
   ]
  },
  {
   "cell_type": "code",
   "execution_count": 23,
   "id": "d9a4ea56-2795-4f47-b42a-6babe92cec68",
   "metadata": {},
   "outputs": [],
   "source": [
    "#Boil-off ratio list for plotting\n",
    "BOR_plot = []\n",
    "\n",
    "# Generate tanks in Aspect Ratio range\n",
    "for Aspect_R in a:\n",
    "    # Calcular diametro interno\n",
    "    d_i = ((4 * V_tank)/(np.pi * Aspect_R))**(1/3) # internal diameter / m\n",
    "    d_o = d_i * 1.02 # external diameter / m\n",
    "    # Initialize tank\n",
    "    mid_tank = Tank(d_i, d_o, V_tank, LF)\n",
    "\n",
    "    Q_b=q_b*mid_tank.A_T\n",
    "    \n",
    "    mid_tank.set_HeatTransProps(U_L, U_V, T_air, Q_b, Q_roof, eta_w)\n",
    "\n",
    "    mid_tank.U_roof = U_V\n",
    "    \n",
    "    # Set cryogen\n",
    "    mid_tank.cryogen = C_cryo\n",
    "    \n",
    "    # Calculate BOR\n",
    "    BOR = (mid_tank.b_l_dot * 24 * 3600) / (mid_tank.V * mid_tank.LF * mid_tank.cryogen.rho_L)\n",
    "    \n",
    "    # Save BOR value\n",
    "    BOR_plot.append(BOR*100)\n",
    "    #rint(\"BOR = %.3f %% | B_l = %.3f \" % (BOR * 100, mid_tank.b_l_dot))\n",
    "    #print(f\"Aspect Ratio:{Aspect_R:.3f}, Altura: {mid_tank.l:.3f} , Diametro interno:{mid_tank.d_i:.3f}, Volumen:{mid_tank.V} \\n\")\n"
   ]
  },
  {
   "cell_type": "markdown",
   "id": "e1c45022-fbd4-496a-ba1d-a5277786a9bc",
   "metadata": {},
   "source": [
    "### Show and save data plot"
   ]
  },
  {
   "cell_type": "code",
   "execution_count": 24,
   "id": "ac580129-76f6-4956-ae19-df533d9113fc",
   "metadata": {},
   "outputs": [
    {
     "data": {
      "image/png": "[encoded data removed]",
      "text/plain": [
       "<Figure size 640x480 with 1 Axes>"
      ]
     },
     "metadata": {},
     "output_type": "display_data"
    }
   ],
   "source": [
    "# Create a plot\n",
    "plt.plot(a, BOR_plot,\"ro\")\n",
    "\n",
    "# Add labels and title\n",
    "plt.xlabel('Razon de aspecto | a')\n",
    "plt.ylabel('Boil-off Ratio | %')\n",
    "plt.title(f'Tank Volume: {V_tank}, Liquid Filling: {LF*100}%, Compound: {Compound}')\n",
    "\n",
    "# Display the plot\n",
    "\n",
    "plt.savefig(f'{Compound}/V_{V_tank}_LF_{LF*100}_C_{Compound}.png')\n",
    "plt.show()"
   ]
  },
  {
   "cell_type": "markdown",
   "id": "3192a5e6-5623-4883-bfc9-8c0be9d65808",
   "metadata": {},
   "source": [
    "### Optimization"
   ]
  },
  {
   "cell_type": "code",
   "execution_count": 25,
   "id": "78769b19-7aa7-493d-b1e4-86d47cab99ba",
   "metadata": {},
   "outputs": [
    {
     "name": "stdout",
     "output_type": "stream",
     "text": [
      "a = 1.000, BOR=0.134\n",
      "a = 1.000, BOR=0.134\n",
      "a = 1.078, BOR=0.137\n",
      "a = 1.078, BOR=0.137\n",
      "a = 0.323, BOR=0.097\n",
      "a = 0.323, BOR=0.097\n",
      "a = 0.143, BOR=0.078\n",
      "a = 0.143, BOR=0.078\n",
      "a = 0.105, BOR=0.072\n",
      "a = 0.105, BOR=0.072\n",
      "`gtol` termination condition is satisfied.\n",
      "Number of iterations: 11, function evaluations: 10, CG iterations: 4, optimality: 8.58e-09, constraint violation: 0.00e+00, execution time: 0.049 s.\n"
     ]
    },
    {
     "name": "stderr",
     "output_type": "stream",
     "text": [
      "/tmp/ipykernel_6268/1834571699.py:26: DeprecationWarning: Conversion of an array with ndim > 0 to a scalar is deprecated, and will error in future. Ensure you extract a single element from your array before performing this operation. (Deprecated NumPy 1.25.)\n",
      "  print(\"a = %.3f, BOR=%.3f\" % (AR, BOR*100))\n"
     ]
    }
   ],
   "source": [
    "from scipy.optimize import Bounds, minimize\n",
    "\n",
    "# Minimum and maximum practical ranges\n",
    "# of the aspect ratio\n",
    "bounds = Bounds([0.1], [10])\n",
    "\n",
    "# Define objective function\n",
    "def BOR_function(AR):\n",
    "    # Update aspect ratio\n",
    "    # Calculate internal diameter\n",
    "    d_i = ((4 * V_tank)/(np.pi * AR))**(1/3) # internal diameter / m\n",
    "    d_o = d_i + 0.4 # external diameter / m\n",
    "    \n",
    "    # Initialize tank\n",
    "    mid_tank = Tank(d_i, d_o, V_tank, LF)\n",
    "    mid_tank.set_HeatTransProps(U_L, U_V, T_air, Q_b, Q_roof, eta_w)\n",
    "\n",
    "    mid_tank.U_roof = U_V\n",
    "    \n",
    "    # Set cryogen\n",
    "    mid_tank.cryogen = C_cryo\n",
    "    \n",
    "    # Calculate BOR\n",
    "    BOR = (mid_tank.b_l_dot * 24 * 3600) / (mid_tank.V * mid_tank.LF * mid_tank.cryogen.rho_L)\n",
    "    \n",
    "    print(\"a = %.3f, BOR=%.3f\" % (AR, BOR*100))\n",
    "    return BOR  \n",
    "\n",
    "# Initial liquid filling to optimise\n",
    "\n",
    "x0 = 1 \n",
    "res = minimize(BOR_function, x0, method='trust-constr', options={'verbose': 1}, bounds=bounds)"
   ]
  },
  {
   "cell_type": "code",
   "execution_count": 86,
   "id": "0a7c8e01-3514-40f3-b79a-8be444bb2150",
   "metadata": {},
   "outputs": [
    {
     "data": {
      "text/plain": [
       "           message: `gtol` termination condition is satisfied.\n",
       "           success: True\n",
       "            status: 1\n",
       "               fun: 0.004822906999416551\n",
       "                 x: [ 1.004e-01]\n",
       "               nit: 13\n",
       "              nfev: 14\n",
       "              njev: 7\n",
       "              nhev: 0\n",
       "          cg_niter: 6\n",
       "      cg_stop_cond: 1\n",
       "              grad: [ 1.606e-02]\n",
       "   lagrangian_grad: [ 3.627e-11]\n",
       "            constr: [array([ 1.004e-01])]\n",
       "               jac: [<1x1 sparse matrix of type '<class 'numpy.float64'>'\n",
       "                    \twith 1 stored elements in Compressed Sparse Row format>]\n",
       "       constr_nfev: [0]\n",
       "       constr_njev: [0]\n",
       "       constr_nhev: [0]\n",
       "                 v: [array([-1.606e-02])]\n",
       "            method: tr_interior_point\n",
       "        optimality: 3.626570918568994e-11\n",
       "  constr_violation: 0.0\n",
       "    execution_time: 0.03733229637145996\n",
       "         tr_radius: 48624.27194620506\n",
       "    constr_penalty: 1.0\n",
       " barrier_parameter: 6.400000000000003e-06\n",
       " barrier_tolerance: 6.400000000000003e-06\n",
       "             niter: 13"
      ]
     },
     "execution_count": 86,
     "metadata": {},
     "output_type": "execute_result"
    }
   ],
   "source": [
    "res"
   ]
  },
  {
   "cell_type": "code",
   "execution_count": null,
   "id": "2b8698c1-b40f-4e5e-aef4-5578df976fce",
   "metadata": {},
   "outputs": [],
   "source": []
  }
 ],
 "metadata": {
  "kernelspec": {
   "display_name": "Python 3 (ipykernel)",
   "language": "python",
   "name": "python3"
  },
  "language_info": {
   "codemirror_mode": {
    "name": "ipython",
    "version": 3
   },
   "file_extension": ".py",
   "mimetype": "text/x-python",
   "name": "python",
   "nbconvert_exporter": "python",
   "pygments_lexer": "ipython3",
   "version": "3.9.19"
  }
 },
 "nbformat": 4,
 "nbformat_minor": 5
}
