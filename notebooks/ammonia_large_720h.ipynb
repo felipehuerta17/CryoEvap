{
 "cells": [
  {
   "cell_type": "markdown",
   "metadata": {},
   "source": [
    "#### Case opti-4: Isobaric evaporation of ammonia in a large tank for long-term storage\n"
   ]
  },
  {
   "cell_type": "code",
   "execution_count": null,
   "metadata": {},
   "outputs": [],
   "source": [
    "# Scientific computing\n",
    "import numpy as np\n",
    "\n",
    "# Visualisation\n",
    "import matplotlib.pyplot as plt\n",
    "\n",
    "## Module imports\n",
    "# Import the storage tank Class\n",
    "from cryoevap.storage_tanks import Tank\n",
    "\n",
    "# Import Cryogen class\n",
    "from cryoevap.cryogens import Cryogen"
   ]
  },
  {
   "cell_type": "markdown",
   "metadata": {},
   "source": [
    "#### Setup tank and cryogen properties"
   ]
  },
  {
   "cell_type": "code",
   "execution_count": null,
   "metadata": {},
   "outputs": [],
   "source": [
    "# LNG tank properties\n",
    "Q_roof = 0 # Roof heat ingress / W\n",
    "T_air = 298.15 # Temperature of the environment K\n",
    "\n",
    "#V_tank = 60000 # Tank volume / m^3\n",
    "V_tank = 165000 # Tank volume / m^3\n",
    "\n",
    "a = 0.7077\n",
    "d_i = ((4 * V_tank)/(np.pi * a))**(1/3) # internal diameter / m\n",
    "# Thickness of the in % of the internal diameter\n",
    "ST = 1.02\n",
    "d_o = d_i * ST # external diameter / m\n",
    "\n",
    "# Set overall heat transfer coefficient through the walls for liquid and vapour\n",
    "U_L = 0.08 # 0.08 # W/m2/K\n",
    "U_V = 0.08 # 0.08 # W/m2/K\n",
    "\n",
    "# Initial liquid filling / Dimensionless\n",
    "LF = 0.95 \n",
    "\n",
    "# Specify tank operating pressure\n",
    "P = 100000 # Pa\n",
    "\n",
    "# Initialize large-scale tank\n",
    "large_tank = Tank(d_i, d_o, V_tank, LF)\n",
    "large_tank.set_HeatTransProps(U_L, U_V, T_air, Q_b_fixed = None, Q_roof = 0, eta_w = 0.90)\n",
    "\n",
    "# Initialise cryogen\n",
    "cryogen = Cryogen(name = \"ammonia\")\n",
    "cryogen.set_coolprops(P)\n",
    "\n",
    "# Set cryogen\n",
    "large_tank.cryogen = cryogen\n",
    "\n",
    "# Calculate initial evaporation rate\n",
    "print(\"The initial evaporation rate of \" + cryogen.name + \" is %.1f kg/h\" % (large_tank.b_l_dot * 3600))"
   ]
  },
  {
   "cell_type": "markdown",
   "metadata": {},
   "source": [
    "Calculate initial evaporation rate and transient period"
   ]
  },
  {
   "cell_type": "code",
   "execution_count": null,
   "metadata": {},
   "outputs": [],
   "source": [
    "# Calculate initial evaporation rate\n",
    "print(\"The initial evaporation rate of \" + cryogen.name + \" is %.1f kg/h\" % (large_tank.b_l_dot * 3600))\n",
    "\n",
    "# Estimate transient period duration\n",
    "print(\"Transient period = %.3f s \" % large_tank.tau)\n",
    "\n",
    "# Minimum number of hours to achieve steady state \n",
    "tau_h = (np.floor(large_tank.tau / 3600) + 1)\n",
    "\n",
    "# Print simulation time of the transient period for short-term storage\n",
    "print(\"Simulation time: %.0i h\" % tau_h )\n",
    "\n",
    "# Calculate boil-off rate\n",
    "BOR = (large_tank.b_l_dot * 24 * 3600) / (large_tank.V * large_tank.LF * large_tank.cryogen.rho_L)\n",
    "print(\"BOR = %.3f %%\" % (BOR * 100))"
   ]
  },
  {
   "cell_type": "code",
   "execution_count": null,
   "metadata": {},
   "outputs": [],
   "source": [
    "large_tank.Q_b"
   ]
  },
  {
   "cell_type": "markdown",
   "metadata": {},
   "source": [
    "#### Simulation setup and execution"
   ]
  },
  {
   "cell_type": "code",
   "execution_count": null,
   "metadata": {},
   "outputs": [],
   "source": [
    "# Define vertical spacing\n",
    "dz = 0.1\n",
    "\n",
    "# Calculate number of nodes\n",
    "n_z = 1 + int(np.round(large_tank.l_V/dz, 0))\n",
    "\n",
    "# Define dimensionless computational grid\n",
    "large_tank.z_grid = np.linspace(0, 1, n_z)\n",
    "\n",
    "# Insulated roof\n",
    "large_tank.U_roof = 0\n",
    "\n",
    "# Define evaporation time as 720 hours\n",
    "evap_time = 3600 * 720\n",
    "\n",
    "# Time step to record data, relevant for plotting integrated quantities\n",
    "# such as the vapour to liquid heat transfer rate, Q_VL\n",
    "large_tank.time_interval = 3600\n",
    "\n",
    "# Time step to plot each vapour temperature profile\n",
    "large_tank.plot_interval = evap_time/6\n",
    "\n",
    "# Simulate the evaporation\n",
    "large_tank.evaporate(evap_time)"
   ]
  },
  {
   "cell_type": "markdown",
   "metadata": {},
   "source": [
    "#### Visualisation of results"
   ]
  },
  {
   "cell_type": "markdown",
   "metadata": {},
   "source": [
    "#### Vapour temperature"
   ]
  },
  {
   "cell_type": "code",
   "execution_count": null,
   "metadata": {},
   "outputs": [],
   "source": [
    "# Visualise the plot\n",
    "large_tank.plot_tv(t_unit='h')"
   ]
  },
  {
   "cell_type": "markdown",
   "metadata": {},
   "source": [
    "Visualise liquid and vapour heat ingresses, $\\dot{Q}_{\\text{L}}$ and  $\\dot{Q}_{\\text{V}}$.\n",
    "\n",
    "The plot also shows the vapour to liquid heat ingress, $\\dot{Q}_{VL}$, and  the partition of the vapour heat ingress that is transferred to the interface by the wall directly, $\\dot{Q}_{\\text{V,w}}$"
   ]
  },
  {
   "cell_type": "code",
   "execution_count": null,
   "metadata": {},
   "outputs": [],
   "source": [
    "large_tank.plot_Q(unit='kW', t_unit='h')"
   ]
  },
  {
   "cell_type": "markdown",
   "metadata": {},
   "source": [
    "#### Plot liquid volume"
   ]
  },
  {
   "cell_type": "code",
   "execution_count": null,
   "metadata": {},
   "outputs": [],
   "source": [
    "large_tank.plot_V_L()"
   ]
  },
  {
   "cell_type": "code",
   "execution_count": null,
   "metadata": {},
   "outputs": [],
   "source": [
    "large_tank.plot_BOG(unit='kg/h', t_unit='w')"
   ]
  },
  {
   "cell_type": "markdown",
   "metadata": {},
   "source": [
    "Optional: CSV data export\n",
    "\n",
    "If evaporation data is intended to be post-processed in another software, it can be exported readily with the help of the Pandas package."
   ]
  },
  {
   "cell_type": "code",
   "execution_count": null,
   "metadata": {},
   "outputs": [],
   "source": [
    "# Import pandas \n",
    "import pandas as pd"
   ]
  },
  {
   "cell_type": "code",
   "execution_count": null,
   "metadata": {},
   "outputs": [],
   "source": [
    "# Create dataframe from dictionary\n",
    "df_evap = pd.DataFrame.from_dict(large_tank.data)\n",
    "\n",
    "# Save file to the current working directory\n",
    "df_evap.to_csv('methane_165000m3.csv')\n",
    "\n",
    "# Show the first five columns of the dataframe in console\n",
    "df_evap.head()"
   ]
  },
  {
   "cell_type": "code",
   "execution_count": null,
   "metadata": {},
   "outputs": [],
   "source": [
    "# BOR = (1 - large_tank.data['V_L'][-1]/large_tank.data['V_L'][0])* (86400/large_tank.data['Time'][-1])\n",
    "BOR = large_tank.BOR()\n",
    "print(\"BOR = %.3e %%\" % (100 * BOR))"
   ]
  },
  {
   "cell_type": "code",
   "execution_count": null,
   "metadata": {},
   "outputs": [],
   "source": [
    "large_tank.BOR()"
   ]
  },
  {
   "cell_type": "code",
   "execution_count": null,
   "metadata": {},
   "outputs": [],
   "source": [
    "large_tank.data['Time'][-1]"
   ]
  },
  {
   "cell_type": "code",
   "execution_count": null,
   "metadata": {},
   "outputs": [],
   "source": [
    "large_tank.plot_tv_BOG(t_unit='w')"
   ]
  },
  {
   "cell_type": "markdown",
   "metadata": {},
   "source": [
    "Objective function"
   ]
  },
  {
   "cell_type": "markdown",
   "metadata": {},
   "source": [
    "#### References\n",
    "\n"
   ]
  },
  {
   "cell_type": "markdown",
   "metadata": {},
   "source": [
    "F. Huerta, V. Vesovic, A realistic vapour phase heat transfer model for the weathering of LNG stored in large tanks, Energy, 174 (2019) 280-291."
   ]
  }
 ],
 "metadata": {
  "@webio": {
   "lastCommId": null,
   "lastKernelId": null
  },
  "kernelspec": {
   "display_name": "cryoenv",
   "language": "python",
   "name": "python3"
  },
  "language_info": {
   "codemirror_mode": {
    "name": "ipython",
    "version": 3
   },
   "file_extension": ".py",
   "mimetype": "text/x-python",
   "name": "python",
   "nbconvert_exporter": "python",
   "pygments_lexer": "ipython3",
   "version": "3.10.4"
  }
 },
 "nbformat": 4,
 "nbformat_minor": 2
}
