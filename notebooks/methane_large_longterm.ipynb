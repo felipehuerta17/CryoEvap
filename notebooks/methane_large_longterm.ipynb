{
 "cells": [
  {
   "cell_type": "markdown",
   "metadata": {},
   "source": [
    "#### Case 3: Isobaric evaporation of LNG in a large tank for long-term storage\n",
    "\n",
    "This notebook sets up the isobaric evaporation of liquefied natural gas (LNG) in a 165,000 m $^3$ storage tank. This tank is representative of large-scale storage in above-ground tanks found in regasification terminals.\n",
    "\n",
    "\n",
    "#### Determination of the wall heat partitioning from $T_{BOG} - T_{L} $\n",
    "\n",
    "The following superheat data has been collected with two thermocouples, one at the liquid and one at the tank top in industrial storage tanks. \n",
    "\n",
    "- Sharafian (2019) reported a vapour superheat of 15 K, but didn't include the initial liquid filling.\n",
    "- Industrial data shows a vapour superheating immediately after the evaporation for a LF = 90% of the following levels:\n",
    "    - (-132 - -141) = 9 °C\n",
    "    - (-130.5 - -141.2)= 10.7 °C\n",
    "\n",
    "Hence, a range of 9 - 15 °C is representative of vapour superheating under low liquid levels. Assuming thermal equilibrium at the vapour liquid interface, $\\Delta T_{sh} = T_{BOG} - T_{V,i} = T_{BOG} - T_{L} $, where $T_{V,i}$ is the vapour temperature at the interface."
   ]
  },
  {
   "cell_type": "code",
   "execution_count": 1,
   "metadata": {},
   "outputs": [],
   "source": [
    "# Ensure that python finds the submodules\n",
    "# import sys\n",
    "# sys.path.append(\"..\") # Adds higher directory to python modules path.\n",
    "\n",
    "# Scientific computing\n",
    "import numpy as np\n",
    "\n",
    "# Visualisation\n",
    "import matplotlib.pyplot as plt\n",
    "\n",
    "## Module imports\n",
    "# Import the storage tank Class\n",
    "from cryoevap.storage_tanks import Tank\n",
    "\n",
    "# Import Cryogen class\n",
    "from cryoevap.cryogens import Cryogen"
   ]
  },
  {
   "cell_type": "markdown",
   "metadata": {},
   "source": [
    "#### Setup tank and cryogen properties"
   ]
  },
  {
   "cell_type": "code",
   "execution_count": null,
   "metadata": {},
   "outputs": [],
   "source": [
    "# LNG tank properties\n",
    "Q_roof = 0 # Roof heat ingress / W\n",
    "d_i = 76.4 # Internal diameter / m\n",
    "d_o = 80   # External diameter / m\n",
    "T_air = 298.15 # Temperature of the environment K\n",
    "\n",
    "# Set overall heat transfer coefficient through the walls for liquid and vapour\n",
    "U_L = 0.19 # W/m2/K\n",
    "U_V = 0.19 # W/m2/K\n",
    "\n",
    "\n",
    "# Specify heat transfer rate at the bottom to prevent ground heating\n",
    "Q_b = 60000 # W, \n",
    "\n",
    "# Vertically orientated cylindrical tank volume\n",
    "V_tank = 165000 #m^3\n",
    "\n",
    "# Initial liquid filling / Dimensionless\n",
    "LF = 0.55 \n",
    "\n",
    "# Specify tank operating pressure\n",
    "P = 116325 # Pa\n",
    "\n",
    "# Initialize large-scale tank\n",
    "large_tank = Tank(d_i, d_o, V_tank, LF)\n",
    "large_tank.set_HeatTransProps(U_L, U_V, T_air, Q_b_fixed = Q_b, Q_roof = 0, eta_w = 0.70)\n",
    "\n",
    "# Initialise cryogen\n",
    "methane = Cryogen(name = \"methane\")\n",
    "methane.set_coolprops(P)\n",
    "\n",
    "# Set cryogen\n",
    "large_tank.cryogen = methane\n",
    "\n",
    "# Calculate initial evaporation rate\n",
    "print(\"The initial evaporation rate of \" + methane.name + \" is %.1f kg/h\" % (large_tank.b_l_dot * 3600))"
   ]
  },
  {
   "cell_type": "markdown",
   "metadata": {},
   "source": [
    "Calculate initial evaporation rate and transient period"
   ]
  },
  {
   "cell_type": "code",
   "execution_count": null,
   "metadata": {},
   "outputs": [],
   "source": [
    "# Calculate initial evaporation rate\n",
    "print(\"The initial evaporation rate of \" + methane.name + \" is %.1f kg/h\" % (large_tank.b_l_dot * 3600))\n",
    "\n",
    "# Estimate transient period duration\n",
    "print(\"Transient period = %.3f s \" % large_tank.tau)\n",
    "\n",
    "# Minimum number of hours to achieve steady state \n",
    "tau_h = (np.floor(large_tank.tau / 3600) + 1)\n",
    "\n",
    "# Print simulation time of the transient period for short-term storage\n",
    "print(\"Simulation time: %.0i h\" % tau_h )\n",
    "\n",
    "# Calculate boil-off rate\n",
    "BOR = (large_tank.b_l_dot * 24 * 3600) / (large_tank.V * large_tank.LF * large_tank.cryogen.rho_L)\n",
    "print(\"BOR = %.3f %%\" % (BOR * 100))"
   ]
  },
  {
   "cell_type": "markdown",
   "metadata": {},
   "source": [
    "#### Simulation setup and execution"
   ]
  },
  {
   "cell_type": "code",
   "execution_count": 4,
   "metadata": {},
   "outputs": [],
   "source": [
    "# Define vertical spacing\n",
    "dz = 0.2\n",
    "\n",
    "# Calculate number of nodes\n",
    "n_z = 1 + int(np.round(large_tank.l_V/dz, 0))\n",
    "\n",
    "# Define dimensionless computational grid\n",
    "large_tank.z_grid = np.linspace(0, 1, n_z)\n",
    "\n",
    "# Insulated roof\n",
    "large_tank.U_roof = 0\n",
    "\n",
    "# Define evaporation time as 48 weeks\n",
    "evap_time = 3600 * 24 * 7 * 48\n",
    "\n",
    "# Time step to record data, relevant for plotting integrated quantities\n",
    "# such as the vapour to liquid heat transfer rate, Q_VL\n",
    "large_tank.time_interval = 3600\n",
    "\n",
    "# Time step to plot each vapour temperature profile\n",
    "large_tank.plot_interval = evap_time/6\n",
    "\n",
    "# Simulate the evaporation\n",
    "large_tank.evaporate(evap_time)"
   ]
  },
  {
   "cell_type": "markdown",
   "metadata": {},
   "source": [
    "#### Visualisation of results"
   ]
  },
  {
   "cell_type": "markdown",
   "metadata": {},
   "source": [
    "#### Vapour temperature"
   ]
  },
  {
   "cell_type": "code",
   "execution_count": null,
   "metadata": {},
   "outputs": [],
   "source": [
    "# Visualise the plot\n",
    "large_tank.plot_tv(t_unit='w')"
   ]
  },
  {
   "cell_type": "markdown",
   "metadata": {},
   "source": [
    "Visualise liquid and vapour heat ingresses, $\\dot{Q}_{\\text{L}}$ and  $\\dot{Q}_{\\text{V}}$.\n",
    "\n",
    "The plot also shows the vapour to liquid heat ingress, $\\dot{Q}_{VL}$, and  the partition of the vapour heat ingress that is transferred to the interface by the wall directly, $\\dot{Q}_{\\text{V,w}}$"
   ]
  },
  {
   "cell_type": "code",
   "execution_count": null,
   "metadata": {},
   "outputs": [],
   "source": [
    "large_tank.plot_Q(unit='kW', t_unit='w')"
   ]
  },
  {
   "cell_type": "markdown",
   "metadata": {},
   "source": [
    "#### Plot liquid volume"
   ]
  },
  {
   "cell_type": "code",
   "execution_count": null,
   "metadata": {},
   "outputs": [],
   "source": [
    "large_tank.plot_V_L()"
   ]
  },
  {
   "cell_type": "code",
   "execution_count": null,
   "metadata": {},
   "outputs": [],
   "source": [
    "large_tank.plot_BOG(unit='kg/h', t_unit='w')"
   ]
  },
  {
   "cell_type": "code",
   "execution_count": null,
   "metadata": {},
   "outputs": [],
   "source": [
    "large_tank.plot_tv_BOG(t_unit='min')"
   ]
  },
  {
   "cell_type": "markdown",
   "metadata": {},
   "source": [
    "#### References\n",
    "\n"
   ]
  },
  {
   "cell_type": "markdown",
   "metadata": {},
   "source": [
    "F. Huerta, V. Vesovic, A realistic vapour phase heat transfer model for the weathering of LNG stored in large tanks, Energy, 174 (2019) 280-291."
   ]
  }
 ],
 "metadata": {
  "@webio": {
   "lastCommId": null,
   "lastKernelId": null
  },
  "kernelspec": {
   "display_name": "base",
   "language": "python",
   "name": "python3"
  },
  "language_info": {
   "codemirror_mode": {
    "name": "ipython",
    "version": 3
   },
   "file_extension": ".py",
   "mimetype": "text/x-python",
   "name": "python",
   "nbconvert_exporter": "python",
   "pygments_lexer": "ipython3",
   "version": "3.9.13"
  }
 },
 "nbformat": 4,
 "nbformat_minor": 2
}
