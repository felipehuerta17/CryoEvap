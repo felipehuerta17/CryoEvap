{
 "cells": [
  {
   "cell_type": "code",
   "execution_count": 9,
   "id": "42f318c6",
   "metadata": {},
   "outputs": [
    {
     "name": "stdout",
     "output_type": "stream",
     "text": [
      "Specific heat at constant volume (Cv) of hydrogen at 4°C: 10134.05 J/kg·K\n"
     ]
    }
   ],
   "source": [
    "import CoolProp.CoolProp as CP\n",
    "\n",
    "# Define the fluid and state properties\n",
    "fluid = 'Hydrogen'\n",
    "temperature = (281+292)/2  # Convert Celsius to Kelvin\n",
    "\n",
    "pressure = 1e5\n",
    "\n",
    "# Calculate specific heat at constant volume (Cv) in J/kg.K\n",
    "cv = CP.PropsSI('CVMASS', 'T', temperature, 'P', pressure, fluid)\n",
    "\n",
    "# Output the result\n",
    "print(f\"Specific heat at constant volume (Cv) of hydrogen at 4°C: {cv:.2f} J/kg·K\")\n"
   ]
  },
  {
   "cell_type": "code",
   "execution_count": null,
   "id": "a95ce4a8",
   "metadata": {},
   "outputs": [],
   "source": []
  }
 ],
 "metadata": {
  "kernelspec": {
   "display_name": "Python 3 (ipykernel)",
   "language": "python",
   "name": "python3"
  },
  "language_info": {
   "codemirror_mode": {
    "name": "ipython",
    "version": 3
   },
   "file_extension": ".py",
   "mimetype": "text/x-python",
   "name": "python",
   "nbconvert_exporter": "python",
   "pygments_lexer": "ipython3",
   "version": "3.10.4"
  }
 },
 "nbformat": 4,
 "nbformat_minor": 5
}
