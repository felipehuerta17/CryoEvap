{
 "cells": [
  {
   "cell_type": "markdown",
   "metadata": {},
   "source": [
    "#### Case 2: Liquid hydrogen ($LH_2$) in a 2033 $\\text{m}^3$ tank\n",
    "\n",
    "This application corresponds to liquid hydrogen storage in the NASA's Space Launch System. It consists of a 2033 $m^3$ storage tank [NASA](https://www.energy.gov/sites/default/files/2021-10/new-lh2-sphere.pdf) in a tank with 8.4 m diameter and 40 m height. It will be assumed the following operation scenarios:\n",
    "\n",
    "* Daily boil-off rate of 0.1%  \n",
    "* Storage at atmospheric pressure with continuous removal of boil-off gas\n",
    "\n",
    "For purposes of the example, it is assumed that the storage tank is passively insulated with perlite."
   ]
  },
  {
   "cell_type": "code",
   "execution_count": 1,
   "metadata": {},
   "outputs": [],
   "source": [
    "# Ensure that python finds the submodules\n",
    "import sys\n",
    "sys.path.append(\"..\") # Adds higher directory to python modules path.\n",
    "\n",
    "# Scientific computing\n",
    "import numpy as np\n",
    "\n",
    "# Visualisation\n",
    "import matplotlib.pyplot as plt\n",
    "\n",
    "# Import the storage tank Class\n",
    "from cryoevap.storage_tanks import Tank\n",
    "\n",
    "# Import Cryogen class\n",
    "from cryoevap.cryogens import Cryogen"
   ]
  },
  {
   "cell_type": "markdown",
   "metadata": {},
   "source": [
    "#### Setup tank and cryogen properties\n"
   ]
  },
  {
   "cell_type": "code",
   "execution_count": 2,
   "metadata": {},
   "outputs": [],
   "source": [
    "# Cylindrical storage tank properties\n",
    "Q_roof = 0 # Roof heat ingress / W\n",
    "d_i = 8 # Internal diameter / m\n",
    "d_o = 8.4   # External diameter / m\n",
    "T_air = 293.15 # Temperature of the environment K\n",
    "\n",
    "# Set overall heat transfer coefficient through the walls for liquid and vapour\n",
    "U_L = 3.73e-3 # W/m2/K\n",
    "U_V = 3.73e-3 # 3.73e-3 # W/m2/K\n",
    "\n",
    "# Specify heat transfer rate at the bottom\n",
    "# This will represent the heat conduction from the piping system\n",
    "Q_b = 100 # W, \n",
    "# Q_b = 0\n",
    "\n",
    "# Vertically orientated cylindrical tank volume\n",
    "V_tank = 2033 #m^3\n",
    "\n",
    "# Initial liquid filling / Dimensionless\n",
    "LF = 0.50 \n",
    "\n",
    "# Specify tank operating pressure\n",
    "P = 101325 # Pa\n",
    "\n",
    "# Initialize mid-scale tank\n",
    "mid_tank = Tank(d_i, d_o, V_tank, LF)\n",
    "mid_tank.set_HeatTransProps(U_L, U_V, T_air, Q_b, Q_roof, eta_w= 0.8)\n",
    "\n",
    "# Keep the tank roof insulated\n",
    "mid_tank.U_roof = 0\n",
    "\n",
    "# Initialise cryogen\n",
    "hydrogen = Cryogen(name = \"hydrogen\")\n",
    "hydrogen.set_coolprops(P)\n",
    "\n",
    "# Set cryogen\n",
    "mid_tank.cryogen = hydrogen"
   ]
  },
  {
   "cell_type": "markdown",
   "metadata": {},
   "source": [
    "Calculate initial evaporation rate and transient period"
   ]
  },
  {
   "cell_type": "code",
   "execution_count": null,
   "metadata": {},
   "outputs": [],
   "source": [
    "# Calculate initial evaporation rate\n",
    "print(\"The initial evaporation rate of \" + hydrogen.name + \" is %.1f kg/h\" % (mid_tank.b_l_dot * 3600))\n",
    "\n",
    "# Estimate transient period duration\n",
    "print(\"Transient period = %.3f s \" % mid_tank.tau)\n",
    "\n",
    "# Minimum number of hours to achieve steady state \n",
    "tau_h = (np.floor(mid_tank.tau / 3600) + 1)\n",
    "\n",
    "# Print simulation time of the transient period for short-term storage\n",
    "print(\"Simulation time: %.0i h\" % tau_h )\n",
    "\n",
    "# Calculate boil-off rate\n",
    "BOR = (mid_tank.b_l_dot * 24 * 3600) / (mid_tank.V * mid_tank.LF * mid_tank.cryogen.rho_L)\n",
    "print(\"BOR = %.3f %%\" % (BOR * 100))"
   ]
  },
  {
   "cell_type": "markdown",
   "metadata": {},
   "source": [
    "### Simulation setup and execution"
   ]
  },
  {
   "cell_type": "code",
   "execution_count": 4,
   "metadata": {},
   "outputs": [],
   "source": [
    "# Define vertical spacing\n",
    "dz = 0.1\n",
    "\n",
    "# Calculate number of nodes\n",
    "n_z = 1 + int(np.round(mid_tank.l_V/dz, 0))\n",
    "\n",
    "# Define dimensionless computational grid\n",
    "mid_tank.z_grid = np.linspace(0, 1, n_z)\n",
    "\n",
    "# Define evaporation time as the transient period\n",
    "evap_time = 3600 * tau_h * 2\n",
    "# evap_time = 3600 \n",
    "\n",
    "# Time step to plot each vapour temperature profile\n",
    "mid_tank.plot_interval = evap_time/6\n",
    "\n",
    "# Time step to record data, relevant for plotting integrated quantities such as\n",
    "# the vapour to liquid heat transfer rate, Q_VL\n",
    "mid_tank.time_interval = 60\n",
    "\n",
    "mid_tank.evaporate(evap_time)"
   ]
  },
  {
   "cell_type": "markdown",
   "metadata": {},
   "source": [
    "### Visualisation of results"
   ]
  },
  {
   "cell_type": "markdown",
   "metadata": {},
   "source": [
    "#### Vapour temperature"
   ]
  },
  {
   "cell_type": "code",
   "execution_count": null,
   "metadata": {},
   "outputs": [],
   "source": [
    "mid_tank.plot_tv(t_unit='h')"
   ]
  },
  {
   "cell_type": "markdown",
   "metadata": {},
   "source": [
    "Visualise liquid and vapour heat ingresses, $\\dot{Q}_{\\text{L}}$ and  $\\dot{Q}_{\\text{V}}$.\n",
    "\n",
    "The plot also shows the vapour to liquid heat ingress, $\\dot{Q}_{VL}$, and  the partition of the vapour heat ingress that is transferred to the interface by the wall directly, $\\dot{Q}_{\\text{V,w}}$"
   ]
  },
  {
   "cell_type": "code",
   "execution_count": null,
   "metadata": {},
   "outputs": [],
   "source": [
    "# Specify y-axis units as W, and time units to hours\n",
    "mid_tank.plot_Q(unit = 'W', t_unit = 'h')"
   ]
  },
  {
   "cell_type": "markdown",
   "metadata": {},
   "source": [
    "#### Plot liquid volume"
   ]
  },
  {
   "cell_type": "code",
   "execution_count": null,
   "metadata": {},
   "outputs": [],
   "source": [
    "mid_tank.plot_V_L(t_unit='h')"
   ]
  },
  {
   "cell_type": "markdown",
   "metadata": {},
   "source": [
    "#### Plot evaporation rate, $\\dot{B}_{\\text{L}}$, and boil-off gas rate, $\\dot{B}_{}$"
   ]
  },
  {
   "cell_type": "code",
   "execution_count": null,
   "metadata": {},
   "outputs": [],
   "source": [
    "mid_tank.plot_BOG(unit='kg/h', t_unit='h')"
   ]
  },
  {
   "cell_type": "code",
   "execution_count": null,
   "metadata": {},
   "outputs": [],
   "source": [
    "alpha_V = (mid_tank.cryogen.k_V_avg /\n",
    "           (mid_tank.cryogen.rho_V_avg * mid_tank.cryogen.cp_V_avg))\n",
    "\n",
    "Pe = mid_tank.v_z * mid_tank.l_V/alpha_V\n",
    "print(\"Pe = %.3f\" % Pe)"
   ]
  },
  {
   "cell_type": "markdown",
   "metadata": {},
   "source": [
    "We also calculate the relative dominance of the wall heating source terms through the dimensionless parameters\n",
    "\n",
    "$$\\Pi_1 = \\frac{S l^2}{\\alpha}; \\Pi_2 = \\frac{Sl}{\\bar{v}_z} $$\n",
    "\n",
    "Where \n",
    "$$ S = \\frac{4U_V d_o}{\\rho_V \\hat{c}_p d_i^2} \\times \\frac{l_0^2}{\\alpha} $$"
   ]
  },
  {
   "cell_type": "code",
   "execution_count": null,
   "metadata": {},
   "outputs": [],
   "source": [
    "Pi_1 = 4 * mid_tank.U_V * mid_tank.d_o / (mid_tank.d_i**2 *\n",
    "                                      mid_tank.cryogen.rho_V_avg * \n",
    "                                      mid_tank.cryogen.cp_V_avg *\n",
    "                                      alpha_V) * mid_tank.l_V**2\n",
    "Pi_2 = Pi_1/Pe\n",
    "print(\"Pi_1 = %.3f\" % Pi_1)\n",
    "print(\"Pi_2 = %.3f\" % Pi_2)"
   ]
  },
  {
   "cell_type": "markdown",
   "metadata": {},
   "source": [
    "Plot average vapour and boil-off gas temperature"
   ]
  },
  {
   "cell_type": "code",
   "execution_count": null,
   "metadata": {},
   "outputs": [],
   "source": [
    "mid_tank.plot_tv_BOG(t_unit='min')"
   ]
  },
  {
   "cell_type": "markdown",
   "metadata": {},
   "source": [
    "#### References\n",
    "\n",
    "U.S. Department of Energy. (2021, October). DOE/NASA Advances in Liquid Hydrogen Storage Workshop. Retrieved from [https://www.energy.gov/sites/default/files/2021-10/new-lh2-sphere.pdf]"
   ]
  }
 ],
 "metadata": {
  "@webio": {
   "lastCommId": null,
   "lastKernelId": null
  },
  "kernelspec": {
   "display_name": "base",
   "language": "python",
   "name": "python3"
  },
  "language_info": {
   "codemirror_mode": {
    "name": "ipython",
    "version": 3
   },
   "file_extension": ".py",
   "mimetype": "text/x-python",
   "name": "python",
   "nbconvert_exporter": "python",
   "pygments_lexer": "ipython3",
   "version": "3.9.13"
  }
 },
 "nbformat": 4,
 "nbformat_minor": 2
}
