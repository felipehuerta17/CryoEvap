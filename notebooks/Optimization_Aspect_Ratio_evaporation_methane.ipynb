{
 "cells": [
  {
   "cell_type": "markdown",
   "id": "3baf7b85-237a-4f28-9e1a-e1834960375b",
   "metadata": {},
   "source": [
    "### Import packages"
   ]
  },
  {
   "cell_type": "code",
   "execution_count": 14,
   "id": "a4719eb0-681b-4c7c-8800-8044858dba80",
   "metadata": {},
   "outputs": [],
   "source": [
    "# Scientific computing\n",
    "import numpy as np\n",
    "\n",
    "# Visualisation\n",
    "import matplotlib.pyplot as plt\n",
    "\n",
    "# Import the storage tank Class\n",
    "from cryoevap.storage_tanks import Tank\n",
    "\n",
    "# Import Cryogen class\n",
    "from cryoevap.cryogens import Cryogen"
   ]
  },
  {
   "cell_type": "markdown",
   "id": "e82b4863-ffdd-4da8-b8fe-e47508f62581",
   "metadata": {},
   "source": [
    "### Define all Variables"
   ]
  },
  {
   "cell_type": "code",
   "execution_count": 15,
   "id": "65edf9de-0f4e-4898-bef7-9c0ff071f3ca",
   "metadata": {
    "scrolled": true
   },
   "outputs": [],
   "source": [
    "# Cylindrical storage tank properties\n",
    "Q_roof = 0 # Roof heat ingress / W\n",
    "T_air = 298.15 # Temperature of the environment K\n",
    "\n",
    "# Set overall heat transfer coefficient through the walls for liquid and vapour\n",
    "U_L = 0.1 # W/m2/K\n",
    "U_V = 0.1 # W/m2/K\n",
    "\n",
    "# Specify wall heat partitioning fraction\n",
    "eta_w= 0.9\n",
    "\n",
    "# Specify tank operating pressure\n",
    "P = 116325 # Pa\n",
    "\n",
    "# Vertically orientated cylindrical tank volume\n",
    "V_tank = 165000 #m^3 | values of 80, 60000 and 165000\n",
    "\n",
    "a = 0.8     # Shape factor\n",
    "ST = 1.02   # Thickness to diameter ratio\n",
    "d_i = ((4 * V_tank)/(np.pi * a))**(1/3) # internal diameter / m\n",
    "d_o = d_i * ST # external diameter / m\n",
    "\n",
    "# Initial liquid filling / Dimensionless\n",
    "LF = 0.95 # values of 0.95, 0.80 and 0.30\n",
    "\n",
    "# Especify compound in the tank\n",
    "Compound = \"methane\" # hydrogen, methane, ammonia, nitrogen\n",
    "\n",
    "# Set cryogen\n",
    "cryo = Cryogen(name = Compound)\n",
    "\n",
    "cryo.set_coolprops(P)\n",
    "\n",
    "mid_tank = Tank(d_i, d_o, V_tank, LF)\n",
    "\n",
    "# mid_tank.cryogen.set_coolprops(P)\n",
    "\n",
    "mid_tank.set_HeatTransProps(U_L, U_V, T_air, Q_b_fixed = None, Q_roof = Q_roof, eta_w = eta_w)\n",
    "\n",
    "mid_tank.U_roof = U_V\n",
    "\n",
    "# Set cryogen\n",
    "mid_tank.cryogen = Cryogen(name = Compound)\n",
    "\n",
    "mid_tank.cryogen.set_coolprops(P)"
   ]
  },
  {
   "cell_type": "code",
   "execution_count": 16,
   "id": "0607fe29",
   "metadata": {},
   "outputs": [
    {
     "data": {
      "text/plain": [
       "18.97860560094081"
      ]
     },
     "execution_count": 16,
     "metadata": {},
     "output_type": "execute_result"
    }
   ],
   "source": [
    "mid_tank.tau / 3600"
   ]
  },
  {
   "cell_type": "code",
   "execution_count": 32,
   "id": "c884756a-7f82-4ada-aacd-4e3685b18215",
   "metadata": {},
   "outputs": [
    {
     "name": "stdout",
     "output_type": "stream",
     "text": [
      "Simulation time: 720 h\n"
     ]
    }
   ],
   "source": [
    "# Define evaporation time to simulate\n",
    "hours = 720\n",
    "evap_time = 3600 * hours\n",
    "\n",
    "# Thickness of the in % of the internal diameter\n",
    "# ST = 1.02\n",
    "\n",
    "# Show sim duration\n",
    "print(f\"Simulation time: {hours} h\")"
   ]
  },
  {
   "cell_type": "code",
   "execution_count": 33,
   "id": "03219866-e70a-49af-82a2-a5633001d5de",
   "metadata": {
    "scrolled": true
   },
   "outputs": [],
   "source": [
    "# #from scipy.optimize import Bounds, minimize\n",
    "\n",
    "# # Minimum and maximum practical ranges\n",
    "# # of the aspect ratio\n",
    "# bounds = Bounds([0.1], [10])\n",
    "\n",
    "# # Define objective function\n",
    "# def BOR_function(a):\n",
    "#     # Update aspect ratio\n",
    "#     # Calculate internal diameter\n",
    "#     d_i = ((4 * V_tank)/(np.pi * a))**(1/3) # internal diameter / m\n",
    "#     d_o = d_i * ST # external diameter / m\n",
    "    \n",
    "#     # Initialize tank\n",
    "#     mid_tank = Tank(d_i, d_o, V_tank, LF)\n",
    "\n",
    "#     Q_b=q_b*mid_tank.A_T\n",
    "    \n",
    "#     mid_tank.set_HeatTransProps(U_L, U_V, T_air, Q_b, Q_roof, eta_w)\n",
    "\n",
    "#     mid_tank.U_roof = U_V\n",
    "    \n",
    "#     # Set cryogen\n",
    "#     mid_tank.cryogen = Cryogen(name = Compound)\n",
    "    \n",
    "#     mid_tank.cryogen.set_coolprops(P)\n",
    "    \n",
    "#     # Define vertical spacing\n",
    "#     dz = 0.003\n",
    "\n",
    "#     # Calculate number of nodes\n",
    "    \n",
    "#     n_z = 1 + int(np.round(mid_tank.l_V/dz, 0))\n",
    "\n",
    "#     # Define dimensionless computational grid\n",
    "#     mid_tank.z_grid = np.linspace(0, 1, n_z)\n",
    "#     print(len(mid_tank.z_grid))\n",
    "#     # Execute simulation\n",
    "#     mid_tank.evaporate(evap_time)\n",
    "    \n",
    "#     # Calculate BOR\n",
    "#     BOR = 1 - mid_tank.data['V_L'][-1] / mid_tank.data['V_L'][0]\n",
    "\n",
    "#     print(\"a = %.3f, BOR=%.3e\" % (a, BOR))\n",
    "    \n",
    "#     return BOR\n",
    "\n",
    "# # Initial liquid filling to optimise\n",
    "\n",
    "# x0 = 1 \n",
    "# res = minimize(BOR_function, x0, method='trust-constr', options={'verbose': 1}, bounds=bounds)\n",
    "\n",
    "# if res.success:\n",
    "#    print(f\"\\nOptimum found for Tank Volume: {V_tank}, Liquid Filling: {LF*100}%, Compound: {Compound}\" + f\"\\nAspect Ratio = {res.x[0]:.3f}\" + f\"\\nBOR = {res.fun*100:.3f} %\")"
   ]
  },
  {
   "cell_type": "code",
   "execution_count": 35,
   "id": "656126c0-a887-4569-a13f-ad820f7fe09a",
   "metadata": {},
   "outputs": [
    {
     "name": "stdout",
     "output_type": "stream",
     "text": [
      "26\n",
      "a = 0.500, BOR=1.912e-02\n",
      "26\n",
      "a = 0.511, BOR=1.912e-02\n",
      "27\n",
      "a = 0.522, BOR=1.913e-02\n",
      "27\n",
      "a = 0.533, BOR=1.913e-02\n",
      "27\n",
      "a = 0.544, BOR=1.914e-02\n",
      "28\n",
      "a = 0.556, BOR=1.915e-02\n",
      "28\n",
      "a = 0.567, BOR=1.916e-02\n",
      "28\n",
      "a = 0.578, BOR=1.917e-02\n",
      "29\n",
      "a = 0.589, BOR=1.919e-02\n",
      "29\n",
      "a = 0.600, BOR=1.920e-02\n",
      "Simulation end\n"
     ]
    }
   ],
   "source": [
    "#Boil-off ratio list for plotting\n",
    "BOR_plot = []\n",
    "\n",
    "# Generate aspect ratio range\n",
    "AR = np.linspace(0.45, 0.55, 11)\n",
    "\n",
    "# Generate tanks in Aspect Ratio range\n",
    "for a in AR:\n",
    "    # Update aspect ratio\n",
    "    # Calculate internal diameter\n",
    "    d_i = ((4 * V_tank)/(np.pi * a))**(1/3) # internal diameter / m\n",
    "    d_o = d_i * ST # external diameter / m\n",
    "    \n",
    "    # Initialize tank\n",
    "    mid_tank = Tank(d_i, d_o, V_tank, LF)\n",
    "\n",
    "    # Q_b=q_b * mid_tank.A_T\n",
    "    \n",
    "    mid_tank.set_HeatTransProps(U_L, U_V, T_air, Q_b_fixed = None, Q_roof = Q_roof, eta_w = eta_w)\n",
    "\n",
    "    mid_tank.U_roof = U_V\n",
    "    \n",
    "    # Set cryogen\n",
    "    mid_tank.cryogen = Cryogen(name = Compound)\n",
    "    \n",
    "    mid_tank.cryogen.set_coolprops(P)\n",
    "    \n",
    "    # Define vertical spacing\n",
    "    dz = 0.075\n",
    "\n",
    "    # Calculate number of nodes\n",
    "    n_z = 1 + int(np.round(mid_tank.l_V/dz, 0))\n",
    "\n",
    "    # Define dimensionless computational grid\n",
    "    mid_tank.z_grid = np.linspace(0, 1, n_z)\n",
    "    print(len(mid_tank.z_grid))\n",
    "    # Execute simulation\n",
    "    mid_tank.evaporate(evap_time)\n",
    "    \n",
    "    # Calculate BOR\n",
    "    BOR = 1 - mid_tank.data['V_L'][-1] / mid_tank.data['V_L'][0]\n",
    "    \n",
    "    # Save BOR value\n",
    "    BOR_plot.append(BOR*100)\n",
    "    \n",
    "    print(\"a = %.3f, BOR=%.3e\" % (a, BOR))\n",
    "    # print(\"BOR = %.3f %% | B_l = %.3f \" % (BOR * 100, mid_tank.b_l_dot))\n",
    "    # print(f\"Aspect Ratio:{a:.3f}, Altura: {mid_tank.l:.3f} , Diámetro interno:{mid_tank.d_i:.3f}, Volumen:{mid_tank.V} \\n\")\n",
    "print(\"Simulation end\")"
   ]
  },
  {
   "cell_type": "code",
   "execution_count": 31,
   "id": "12f60128",
   "metadata": {},
   "outputs": [
    {
     "data": {
      "text/plain": [
       "20"
      ]
     },
     "execution_count": 31,
     "metadata": {},
     "output_type": "execute_result"
    }
   ],
   "source": [
    "n_z"
   ]
  },
  {
   "cell_type": "code",
   "execution_count": 25,
   "id": "4094f088",
   "metadata": {},
   "outputs": [
    {
     "data": {
      "text/plain": [
       "0.9439168497069254"
      ]
     },
     "execution_count": 25,
     "metadata": {},
     "output_type": "execute_result"
    }
   ],
   "source": [
    "mid_tank.LF"
   ]
  },
  {
   "cell_type": "code",
   "execution_count": 24,
   "id": "5f0d85ca-828e-4a1b-9956-b8ff7a1072db",
   "metadata": {},
   "outputs": [
    {
     "data": {
      "image/png": "[encoded data removed]",
      "text/plain": [
       "<Figure size 432x288 with 1 Axes>"
      ]
     },
     "metadata": {
      "needs_background": "light"
     },
     "output_type": "display_data"
    }
   ],
   "source": [
    "# Create a plot\n",
    "plt.plot(AR, BOR_plot,\"ro\")\n",
    "\n",
    "# Add labels and title\n",
    "plt.xlabel('Aspect Ratio | a')\n",
    "plt.ylabel('Boil-off Ratio | %')\n",
    "plt.title(f'Tank Volume: {V_tank}, Liquid Filling: {LF*100}%, Compound: {Compound}')\n",
    "\n",
    "\n",
    "# Save the plot\n",
    "# plt.savefig(f'{Compound}/V_{V_tank}_LF_{LF*100}_C_{Compound}_evap.png')\n",
    "\n",
    "# Display the plot\n",
    "plt.show()"
   ]
  },
  {
   "cell_type": "code",
   "execution_count": 21,
   "id": "9f74e43f-012b-49f1-aaa5-a73ddbd77dc5",
   "metadata": {},
   "outputs": [
    {
     "data": {
      "text/plain": [
       "72095.06879511033"
      ]
     },
     "execution_count": 21,
     "metadata": {},
     "output_type": "execute_result"
    }
   ],
   "source": [
    "mid_tank.Q_b"
   ]
  },
  {
   "cell_type": "code",
   "execution_count": 22,
   "id": "90d91dfc",
   "metadata": {},
   "outputs": [
    {
     "data": {
      "text/plain": [
       "0.1"
      ]
     },
     "execution_count": 22,
     "metadata": {},
     "output_type": "execute_result"
    }
   ],
   "source": [
    "mid_tank.U_L"
   ]
  },
  {
   "cell_type": "code",
   "execution_count": 23,
   "id": "ba12a2df",
   "metadata": {},
   "outputs": [
    {
     "data": {
      "text/plain": [
       "72095.06879511033"
      ]
     },
     "execution_count": 23,
     "metadata": {},
     "output_type": "execute_result"
    }
   ],
   "source": [
    "mid_tank.U_L*mid_tank.A_T*(T_air - mid_tank.cryogen.T_sat)"
   ]
  },
  {
   "cell_type": "code",
   "execution_count": null,
   "id": "157f0130",
   "metadata": {},
   "outputs": [],
   "source": []
  }
 ],
 "metadata": {
  "kernelspec": {
   "display_name": "cryoenv",
   "language": "python",
   "name": "python3"
  },
  "language_info": {
   "codemirror_mode": {
    "name": "ipython",
    "version": 3
   },
   "file_extension": ".py",
   "mimetype": "text/x-python",
   "name": "python",
   "nbconvert_exporter": "python",
   "pygments_lexer": "ipython3",
   "version": "3.10.4"
  }
 },
 "nbformat": 4,
 "nbformat_minor": 5
}
