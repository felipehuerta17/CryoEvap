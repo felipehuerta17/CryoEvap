{
 "cells": [
  {
   "cell_type": "markdown",
   "id": "3baf7b85-237a-4f28-9e1a-e1834960375b",
   "metadata": {},
   "source": [
    "### Import packages"
   ]
  },
  {
   "cell_type": "code",
   "execution_count": 1,
   "id": "a4719eb0-681b-4c7c-8800-8044858dba80",
   "metadata": {},
   "outputs": [],
   "source": [
    "# Scientific computing\n",
    "import numpy as np\n",
    "\n",
    "# Visualisation\n",
    "import matplotlib.pyplot as plt\n",
    "\n",
    "# data structure\n",
    "import pandas as pd\n",
    "\n",
    "# Import the storage tank Class\n",
    "from cryoevap.storage_tanks import Tank\n",
    "\n",
    "# Import Cryogen class\n",
    "from cryoevap.cryogens import Cryogen"
   ]
  },
  {
   "cell_type": "markdown",
   "id": "e82b4863-ffdd-4da8-b8fe-e47508f62581",
   "metadata": {},
   "source": [
    "### Define all Variables"
   ]
  },
  {
   "cell_type": "code",
   "execution_count": 2,
   "id": "65edf9de-0f4e-4898-bef7-9c0ff071f3ca",
   "metadata": {
    "scrolled": true
   },
   "outputs": [],
   "source": [
    "# Cylindrical storage tank properties\n",
    "Q_roof = 0 # Roof heat ingress / W\n",
    "T_air = 298.15 # Temperature of the environment K\n",
    "\n",
    "# Set overall heat transfer coefficient through the walls for liquid and vapour\n",
    "U_L = 8e-2 # W/m2/K\n",
    "U_V = 8e-2 # W/m2/K\n",
    "\n",
    "# Specify wall heat partitioning fraction\n",
    "eta_w= 0.9\n",
    "\n",
    "# Specify tank operating pressure\n",
    "P = 100000 # Pa\n",
    "\n",
    "### Variables of interest\n",
    "\n",
    "# Vertically orientated cylindrical tank volume\n",
    "V_tank = 165000 #m^3 | \n",
    "\n",
    "# Initial liquid filling / Dimensionless\n",
    "LFs = [0.3, 0.95] # values of 0.95 and 0.30\n",
    "\n",
    "# especify compound in the tank\n",
    "Compound = \"ammonia\" # hydrogen, methane, ammonia, nitrogen\n",
    "\n",
    "# Especify if the data should be saved in the output.xlxs excel\n",
    "sv = True"
   ]
  },
  {
   "cell_type": "code",
   "execution_count": 3,
   "id": "c884756a-7f82-4ada-aacd-4e3685b18215",
   "metadata": {},
   "outputs": [
    {
     "name": "stdout",
     "output_type": "stream",
     "text": [
      "Simulation time: [720, 48] h\n"
     ]
    }
   ],
   "source": [
    "# Define evaporation time to simulate\n",
    "hours = [24 * 30, 24 * 2] #[24 * 2, 24 * 30]\n",
    "evap_times = [x * 3600 for x in hours]\n",
    "# helpful variables\n",
    "mults = [1 , 2 , 3]\n",
    "# Thickness of the in % of the internal diameter\n",
    "ST = 1.02\n",
    "\n",
    "\n",
    "# Show sim duration\n",
    "print(f\"Simulation time: {hours} h\")"
   ]
  },
  {
   "cell_type": "code",
   "execution_count": 4,
   "id": "03219866-e70a-49af-82a2-a5633001d5de",
   "metadata": {
    "scrolled": true
   },
   "outputs": [],
   "source": [
    "# Define objective function\n",
    "def BOR_function(a):\n",
    "    # Update aspect ratio\n",
    "    # Calculate internal diameter\n",
    "    d_i = ((4 * V_tank)/(np.pi * a))**(1/3) # internal diameter / m\n",
    "    d_o = d_i * ST # external diameter / m\n",
    "    \n",
    "    # Initialize tank\n",
    "    mid_tank = Tank(d_i, d_o, V_tank, LF)\n",
    "\n",
    "    # Set cryogen\n",
    "    mid_tank.cryogen = Cryogen(name = Compound)\n",
    "    \n",
    "    mid_tank.cryogen.set_coolprops(P)\n",
    "\n",
    "    # Heat flux\n",
    "    q_b = mult*U_L*(T_air-mid_tank.cryogen.T_sat)  \n",
    "    \n",
    "    Q_b=q_b*mid_tank.A_T\n",
    "    \n",
    "    #Set Heat transfer propierties\n",
    "    mid_tank.set_HeatTransProps(U_L, U_V, T_air, Q_b, Q_roof, eta_w)\n",
    "\n",
    "    mid_tank.U_roof = U_V\n",
    "    \n",
    "    # Define vertical spacing\n",
    "    # dz = 0.05 # 0.1 0.01 0.001\n",
    "    # Calculate number of nodes\n",
    "    \n",
    "    # n_z = 1 + int(np.round(mid_tank.l_V/dz, 0))\n",
    "\n",
    "    n_z = 50\n",
    "    \n",
    "    # Define dimensionless computational grid\n",
    "    mid_tank.z_grid = np.linspace(0, 1, n_z)\n",
    "    \n",
    "    # Execute simulation\n",
    "    mid_tank.evaporate(evap_time)\n",
    "    \n",
    "    # Calculate BOR\n",
    "    BOR = (1 - mid_tank.data['V_L'][-1] / mid_tank.data['V_L'][0])*(86400/mid_tank.data[\"Time\"][-1])\n",
    "\n",
    "    print(\"a = %.3f, BOR=%.3e\" % (a, BOR))\n",
    "    \n",
    "    return BOR"
   ]
  },
  {
   "cell_type": "code",
   "execution_count": 5,
   "id": "006f0ee7-07cd-4274-bafc-65f063161e36",
   "metadata": {
    "scrolled": true
   },
   "outputs": [
    {
     "name": "stdout",
     "output_type": "stream",
     "text": [
      "\n",
      "Optimum search for Tank Volume: 165000, Liquid Filling: 30.0%, Compound: ammonia, time: 720.0 hrs\n"
     ]
    },
    {
     "name": "stderr",
     "output_type": "stream",
     "text": [
      "/tmp/ipykernel_30122/974823457.py:43: DeprecationWarning: Conversion of an array with ndim > 0 to a scalar is deprecated, and will error in future. Ensure you extract a single element from your array before performing this operation. (Deprecated NumPy 1.25.)\n",
      "  print(\"a = %.3f, BOR=%.3e\" % (a, BOR))\n"
     ]
    },
    {
     "name": "stdout",
     "output_type": "stream",
     "text": [
      "a = 1.000, BOR=3.120e-03\n",
      "a = 1.000, BOR=3.120e-03\n",
      "a = 1.067, BOR=3.134e-03\n",
      "a = 1.067, BOR=3.134e-03\n",
      "a = 0.598, BOR=3.089e-03\n",
      "a = 0.598, BOR=3.089e-03\n",
      "a = 0.822, BOR=3.090e-03\n",
      "a = 0.822, BOR=3.090e-03\n",
      "a = 0.761, BOR=3.084e-03\n",
      "a = 0.761, BOR=3.084e-03\n",
      "a = 0.688, BOR=3.082e-03\n",
      "a = 0.688, BOR=3.082e-03\n",
      "a = 0.703, BOR=3.082e-03\n",
      "a = 0.703, BOR=3.082e-03\n",
      "a = 0.696, BOR=3.082e-03\n",
      "a = 0.696, BOR=3.082e-03\n",
      "a = 0.694, BOR=3.082e-03\n",
      "a = 0.694, BOR=3.082e-03\n",
      "a = 0.694, BOR=3.082e-03\n",
      "a = 0.694, BOR=3.082e-03\n",
      "a = 0.694, BOR=3.082e-03\n",
      "a = 0.694, BOR=3.082e-03\n",
      "`gtol` termination condition is satisfied.\n",
      "Number of iterations: 20, function evaluations: 22, CG iterations: 10, optimality: 3.88e-09, constraint violation: 0.00e+00, execution time: 1.6e+02 s.\n",
      "\n",
      "^^^^^^^^^^^^^^^^^^^^^^^^^^^^^^\n",
      "Data was saved.\n",
      "^^^^^^^^^^^^^^^^^^^^^^^^^^^^^^\n",
      "\n",
      "Optimum found for Tank Volume: 165000, Liquid Filling: 30.0%, Compound: ammonia\n",
      "Aspect Ratio = 0.694\n",
      "BOR = 0.308 %\n",
      "\n",
      "Optimum search for Tank Volume: 165000, Liquid Filling: 30.0%, Compound: ammonia, time: 48.0 hrs\n"
     ]
    },
    {
     "name": "stderr",
     "output_type": "stream",
     "text": [
      "/tmp/ipykernel_30122/974823457.py:43: DeprecationWarning: Conversion of an array with ndim > 0 to a scalar is deprecated, and will error in future. Ensure you extract a single element from your array before performing this operation. (Deprecated NumPy 1.25.)\n",
      "  print(\"a = %.3f, BOR=%.3e\" % (a, BOR))\n"
     ]
    },
    {
     "name": "stdout",
     "output_type": "stream",
     "text": [
      "a = 1.000, BOR=2.305e-04\n",
      "a = 1.000, BOR=2.305e-04\n",
      "a = 1.067, BOR=2.324e-04\n",
      "a = 1.067, BOR=2.324e-04\n",
      "a = 0.324, BOR=2.284e-04\n",
      "a = 0.324, BOR=2.284e-04\n",
      "a = 0.324, BOR=2.284e-04\n",
      "a = 0.324, BOR=2.284e-04\n"
     ]
    },
    {
     "name": "stderr",
     "output_type": "stream",
     "text": [
      "/home/milcaito/anaconda3/lib/python3.9/site-packages/scipy/optimize/_differentiable_functions.py:231: UserWarning: delta_grad == 0.0. Check if the approximated function is linear. If the function is linear better results can be obtained by defining the Hessian as zero instead of using quasi-Newton approximations.\n",
      "  self.H.update(self.x - self.x_prev, self.g - self.g_prev)\n"
     ]
    },
    {
     "name": "stdout",
     "output_type": "stream",
     "text": [
      "a = 0.930, BOR=2.286e-04\n",
      "a = 0.930, BOR=2.286e-04\n",
      "a = 0.832, BOR=2.262e-04\n",
      "a = 0.832, BOR=2.262e-04\n",
      "a = 0.490, BOR=2.220e-04\n",
      "a = 0.490, BOR=2.220e-04\n",
      "a = 0.664, BOR=2.228e-04\n",
      "a = 0.664, BOR=2.228e-04\n",
      "a = 0.584, BOR=2.219e-04\n",
      "a = 0.584, BOR=2.219e-04\n",
      "a = 0.545, BOR=2.218e-04\n",
      "a = 0.545, BOR=2.218e-04\n",
      "a = 0.540, BOR=2.218e-04\n",
      "a = 0.540, BOR=2.218e-04\n",
      "`gtol` termination condition is satisfied.\n",
      "Number of iterations: 20, function evaluations: 22, CG iterations: 9, optimality: 9.79e-10, constraint violation: 0.00e+00, execution time: 4e+01 s.\n",
      "\n",
      "^^^^^^^^^^^^^^^^^^^^^^^^^^^^^^\n",
      "Data was saved.\n",
      "^^^^^^^^^^^^^^^^^^^^^^^^^^^^^^\n",
      "\n",
      "Optimum found for Tank Volume: 165000, Liquid Filling: 30.0%, Compound: ammonia\n",
      "Aspect Ratio = 0.540\n",
      "BOR = 0.022 %\n",
      "\n",
      "Optimum search for Tank Volume: 165000, Liquid Filling: 95.0%, Compound: ammonia, time: 720.0 hrs\n"
     ]
    },
    {
     "name": "stderr",
     "output_type": "stream",
     "text": [
      "/tmp/ipykernel_30122/974823457.py:43: DeprecationWarning: Conversion of an array with ndim > 0 to a scalar is deprecated, and will error in future. Ensure you extract a single element from your array before performing this operation. (Deprecated NumPy 1.25.)\n",
      "  print(\"a = %.3f, BOR=%.3e\" % (a, BOR))\n"
     ]
    },
    {
     "name": "stdout",
     "output_type": "stream",
     "text": [
      "a = 1.000, BOR=1.162e-03\n",
      "a = 1.000, BOR=1.162e-03\n",
      "a = 1.067, BOR=1.172e-03\n",
      "a = 1.067, BOR=1.172e-03\n",
      "a = 0.105, BOR=2.168e-03\n",
      "a = 0.105, BOR=2.168e-03\n",
      "a = 0.105, BOR=2.168e-03\n",
      "a = 0.105, BOR=2.168e-03\n",
      "a = 1.067, BOR=1.172e-03\n",
      "a = 1.067, BOR=1.172e-03\n",
      "a = 1.067, BOR=1.172e-03\n",
      "a = 1.067, BOR=1.172e-03\n"
     ]
    },
    {
     "ename": "KeyboardInterrupt",
     "evalue": "",
     "output_type": "error",
     "traceback": [
      "\u001b[0;31m---------------------------------------------------------------------------\u001b[0m",
      "\u001b[0;31mKeyboardInterrupt\u001b[0m                         Traceback (most recent call last)",
      "Cell \u001b[0;32mIn[5], line 15\u001b[0m\n\u001b[1;32m     13\u001b[0m \u001b[38;5;28;01mfor\u001b[39;00m evap_time \u001b[38;5;129;01min\u001b[39;00m evap_times:\n\u001b[1;32m     14\u001b[0m     \u001b[38;5;28mprint\u001b[39m(\u001b[38;5;124mf\u001b[39m\u001b[38;5;124m\"\u001b[39m\u001b[38;5;130;01m\\n\u001b[39;00m\u001b[38;5;124mOptimum search for Tank Volume: \u001b[39m\u001b[38;5;132;01m{\u001b[39;00mV_tank\u001b[38;5;132;01m}\u001b[39;00m\u001b[38;5;124m, Liquid Filling: \u001b[39m\u001b[38;5;132;01m{\u001b[39;00mLF\u001b[38;5;241m*\u001b[39m\u001b[38;5;241m100\u001b[39m\u001b[38;5;132;01m}\u001b[39;00m\u001b[38;5;124m%, Compound: \u001b[39m\u001b[38;5;132;01m{\u001b[39;00mCompound\u001b[38;5;132;01m}\u001b[39;00m\u001b[38;5;124m, time: \u001b[39m\u001b[38;5;132;01m{\u001b[39;00mevap_time\u001b[38;5;241m/\u001b[39m\u001b[38;5;241m3600\u001b[39m\u001b[38;5;132;01m}\u001b[39;00m\u001b[38;5;124m hrs\u001b[39m\u001b[38;5;124m\"\u001b[39m)\n\u001b[0;32m---> 15\u001b[0m     res \u001b[38;5;241m=\u001b[39m \u001b[43mminimize\u001b[49m\u001b[43m(\u001b[49m\u001b[43mBOR_function\u001b[49m\u001b[43m,\u001b[49m\u001b[43m \u001b[49m\u001b[43mx0\u001b[49m\u001b[43m,\u001b[49m\u001b[43m \u001b[49m\u001b[43mmethod\u001b[49m\u001b[38;5;241;43m=\u001b[39;49m\u001b[38;5;124;43m'\u001b[39;49m\u001b[38;5;124;43mtrust-constr\u001b[39;49m\u001b[38;5;124;43m'\u001b[39;49m\u001b[43m,\u001b[49m\u001b[43mtol\u001b[49m\u001b[38;5;241;43m=\u001b[39;49m\u001b[38;5;241;43m1e-8\u001b[39;49m\u001b[43m \u001b[49m\u001b[43m,\u001b[49m\u001b[43m \u001b[49m\u001b[43moptions\u001b[49m\u001b[38;5;241;43m=\u001b[39;49m\u001b[43m{\u001b[49m\u001b[38;5;124;43m'\u001b[39;49m\u001b[38;5;124;43mverbose\u001b[39;49m\u001b[38;5;124;43m'\u001b[39;49m\u001b[43m:\u001b[49m\u001b[43m \u001b[49m\u001b[38;5;241;43m1\u001b[39;49m\u001b[43m}\u001b[49m\u001b[43m,\u001b[49m\u001b[43m \u001b[49m\u001b[43mbounds\u001b[49m\u001b[38;5;241;43m=\u001b[39;49m\u001b[43mbounds\u001b[49m\u001b[43m)\u001b[49m\n\u001b[1;32m     17\u001b[0m     \u001b[38;5;66;03m# Calculate internal diameter for optimum\u001b[39;00m\n\u001b[1;32m     18\u001b[0m     d_i \u001b[38;5;241m=\u001b[39m ((\u001b[38;5;241m4\u001b[39m \u001b[38;5;241m*\u001b[39m V_tank)\u001b[38;5;241m/\u001b[39m(np\u001b[38;5;241m.\u001b[39mpi \u001b[38;5;241m*\u001b[39m res\u001b[38;5;241m.\u001b[39mx[\u001b[38;5;241m0\u001b[39m]))\u001b[38;5;241m*\u001b[39m\u001b[38;5;241m*\u001b[39m(\u001b[38;5;241m1\u001b[39m\u001b[38;5;241m/\u001b[39m\u001b[38;5;241m3\u001b[39m) \u001b[38;5;66;03m# internal diameter / m\u001b[39;00m\n",
      "File \u001b[0;32m~/anaconda3/lib/python3.9/site-packages/scipy/optimize/_minimize.py:725\u001b[0m, in \u001b[0;36mminimize\u001b[0;34m(fun, x0, args, method, jac, hess, hessp, bounds, constraints, tol, callback, options)\u001b[0m\n\u001b[1;32m    722\u001b[0m     res \u001b[38;5;241m=\u001b[39m _minimize_slsqp(fun, x0, args, jac, bounds,\n\u001b[1;32m    723\u001b[0m                           constraints, callback\u001b[38;5;241m=\u001b[39mcallback, \u001b[38;5;241m*\u001b[39m\u001b[38;5;241m*\u001b[39moptions)\n\u001b[1;32m    724\u001b[0m \u001b[38;5;28;01melif\u001b[39;00m meth \u001b[38;5;241m==\u001b[39m \u001b[38;5;124m'\u001b[39m\u001b[38;5;124mtrust-constr\u001b[39m\u001b[38;5;124m'\u001b[39m:\n\u001b[0;32m--> 725\u001b[0m     res \u001b[38;5;241m=\u001b[39m \u001b[43m_minimize_trustregion_constr\u001b[49m\u001b[43m(\u001b[49m\u001b[43mfun\u001b[49m\u001b[43m,\u001b[49m\u001b[43m \u001b[49m\u001b[43mx0\u001b[49m\u001b[43m,\u001b[49m\u001b[43m \u001b[49m\u001b[43margs\u001b[49m\u001b[43m,\u001b[49m\u001b[43m \u001b[49m\u001b[43mjac\u001b[49m\u001b[43m,\u001b[49m\u001b[43m \u001b[49m\u001b[43mhess\u001b[49m\u001b[43m,\u001b[49m\u001b[43m \u001b[49m\u001b[43mhessp\u001b[49m\u001b[43m,\u001b[49m\n\u001b[1;32m    726\u001b[0m \u001b[43m                                       \u001b[49m\u001b[43mbounds\u001b[49m\u001b[43m,\u001b[49m\u001b[43m \u001b[49m\u001b[43mconstraints\u001b[49m\u001b[43m,\u001b[49m\n\u001b[1;32m    727\u001b[0m \u001b[43m                                       \u001b[49m\u001b[43mcallback\u001b[49m\u001b[38;5;241;43m=\u001b[39;49m\u001b[43mcallback\u001b[49m\u001b[43m,\u001b[49m\u001b[43m \u001b[49m\u001b[38;5;241;43m*\u001b[39;49m\u001b[38;5;241;43m*\u001b[39;49m\u001b[43moptions\u001b[49m\u001b[43m)\u001b[49m\n\u001b[1;32m    728\u001b[0m \u001b[38;5;28;01melif\u001b[39;00m meth \u001b[38;5;241m==\u001b[39m \u001b[38;5;124m'\u001b[39m\u001b[38;5;124mdogleg\u001b[39m\u001b[38;5;124m'\u001b[39m:\n\u001b[1;32m    729\u001b[0m     res \u001b[38;5;241m=\u001b[39m _minimize_dogleg(fun, x0, args, jac, hess,\n\u001b[1;32m    730\u001b[0m                            callback\u001b[38;5;241m=\u001b[39mcallback, \u001b[38;5;241m*\u001b[39m\u001b[38;5;241m*\u001b[39moptions)\n",
      "File \u001b[0;32m~/anaconda3/lib/python3.9/site-packages/scipy/optimize/_trustregion_constr/minimize_trustregion_constr.py:528\u001b[0m, in \u001b[0;36m_minimize_trustregion_constr\u001b[0;34m(fun, x0, args, grad, hess, hessp, bounds, constraints, xtol, gtol, barrier_tol, sparse_jacobian, callback, maxiter, verbose, finite_diff_rel_step, initial_constr_penalty, initial_tr_radius, initial_barrier_parameter, initial_barrier_tolerance, factorization_method, disp)\u001b[0m\n\u001b[1;32m    519\u001b[0m     _, result \u001b[38;5;241m=\u001b[39m equality_constrained_sqp(\n\u001b[1;32m    520\u001b[0m         fun_and_constr, grad_and_jac, lagrangian_hess,\n\u001b[1;32m    521\u001b[0m         x0, objective\u001b[38;5;241m.\u001b[39mf, objective\u001b[38;5;241m.\u001b[39mg,\n\u001b[0;32m   (...)\u001b[0m\n\u001b[1;32m    524\u001b[0m         initial_constr_penalty, initial_tr_radius,\n\u001b[1;32m    525\u001b[0m         factorization_method)\n\u001b[1;32m    527\u001b[0m \u001b[38;5;28;01melif\u001b[39;00m method \u001b[38;5;241m==\u001b[39m \u001b[38;5;124m'\u001b[39m\u001b[38;5;124mtr_interior_point\u001b[39m\u001b[38;5;124m'\u001b[39m:\n\u001b[0;32m--> 528\u001b[0m     _, result \u001b[38;5;241m=\u001b[39m \u001b[43mtr_interior_point\u001b[49m\u001b[43m(\u001b[49m\n\u001b[1;32m    529\u001b[0m \u001b[43m        \u001b[49m\u001b[43mobjective\u001b[49m\u001b[38;5;241;43m.\u001b[39;49m\u001b[43mfun\u001b[49m\u001b[43m,\u001b[49m\u001b[43m \u001b[49m\u001b[43mobjective\u001b[49m\u001b[38;5;241;43m.\u001b[39;49m\u001b[43mgrad\u001b[49m\u001b[43m,\u001b[49m\u001b[43m \u001b[49m\u001b[43mlagrangian_hess\u001b[49m\u001b[43m,\u001b[49m\n\u001b[1;32m    530\u001b[0m \u001b[43m        \u001b[49m\u001b[43mn_vars\u001b[49m\u001b[43m,\u001b[49m\u001b[43m \u001b[49m\u001b[43mcanonical\u001b[49m\u001b[38;5;241;43m.\u001b[39;49m\u001b[43mn_ineq\u001b[49m\u001b[43m,\u001b[49m\u001b[43m \u001b[49m\u001b[43mcanonical\u001b[49m\u001b[38;5;241;43m.\u001b[39;49m\u001b[43mn_eq\u001b[49m\u001b[43m,\u001b[49m\n\u001b[1;32m    531\u001b[0m \u001b[43m        \u001b[49m\u001b[43mcanonical\u001b[49m\u001b[38;5;241;43m.\u001b[39;49m\u001b[43mfun\u001b[49m\u001b[43m,\u001b[49m\u001b[43m \u001b[49m\u001b[43mcanonical\u001b[49m\u001b[38;5;241;43m.\u001b[39;49m\u001b[43mjac\u001b[49m\u001b[43m,\u001b[49m\n\u001b[1;32m    532\u001b[0m \u001b[43m        \u001b[49m\u001b[43mx0\u001b[49m\u001b[43m,\u001b[49m\u001b[43m \u001b[49m\u001b[43mobjective\u001b[49m\u001b[38;5;241;43m.\u001b[39;49m\u001b[43mf\u001b[49m\u001b[43m,\u001b[49m\u001b[43m \u001b[49m\u001b[43mobjective\u001b[49m\u001b[38;5;241;43m.\u001b[39;49m\u001b[43mg\u001b[49m\u001b[43m,\u001b[49m\n\u001b[1;32m    533\u001b[0m \u001b[43m        \u001b[49m\u001b[43mc_ineq0\u001b[49m\u001b[43m,\u001b[49m\u001b[43m \u001b[49m\u001b[43mJ_ineq0\u001b[49m\u001b[43m,\u001b[49m\u001b[43m \u001b[49m\u001b[43mc_eq0\u001b[49m\u001b[43m,\u001b[49m\u001b[43m \u001b[49m\u001b[43mJ_eq0\u001b[49m\u001b[43m,\u001b[49m\n\u001b[1;32m    534\u001b[0m \u001b[43m        \u001b[49m\u001b[43mstop_criteria\u001b[49m\u001b[43m,\u001b[49m\n\u001b[1;32m    535\u001b[0m \u001b[43m        \u001b[49m\u001b[43mcanonical\u001b[49m\u001b[38;5;241;43m.\u001b[39;49m\u001b[43mkeep_feasible\u001b[49m\u001b[43m,\u001b[49m\n\u001b[1;32m    536\u001b[0m \u001b[43m        \u001b[49m\u001b[43mxtol\u001b[49m\u001b[43m,\u001b[49m\u001b[43m \u001b[49m\u001b[43mstate\u001b[49m\u001b[43m,\u001b[49m\u001b[43m \u001b[49m\u001b[43minitial_barrier_parameter\u001b[49m\u001b[43m,\u001b[49m\n\u001b[1;32m    537\u001b[0m \u001b[43m        \u001b[49m\u001b[43minitial_barrier_tolerance\u001b[49m\u001b[43m,\u001b[49m\n\u001b[1;32m    538\u001b[0m \u001b[43m        \u001b[49m\u001b[43minitial_constr_penalty\u001b[49m\u001b[43m,\u001b[49m\u001b[43m \u001b[49m\u001b[43minitial_tr_radius\u001b[49m\u001b[43m,\u001b[49m\n\u001b[1;32m    539\u001b[0m \u001b[43m        \u001b[49m\u001b[43mfactorization_method\u001b[49m\u001b[43m)\u001b[49m\n\u001b[1;32m    541\u001b[0m \u001b[38;5;66;03m# Status 3 occurs when the callback function requests termination,\u001b[39;00m\n\u001b[1;32m    542\u001b[0m \u001b[38;5;66;03m# this is assumed to not be a success.\u001b[39;00m\n\u001b[1;32m    543\u001b[0m result\u001b[38;5;241m.\u001b[39msuccess \u001b[38;5;241m=\u001b[39m \u001b[38;5;28;01mTrue\u001b[39;00m \u001b[38;5;28;01mif\u001b[39;00m result\u001b[38;5;241m.\u001b[39mstatus \u001b[38;5;129;01min\u001b[39;00m (\u001b[38;5;241m1\u001b[39m, \u001b[38;5;241m2\u001b[39m) \u001b[38;5;28;01melse\u001b[39;00m \u001b[38;5;28;01mFalse\u001b[39;00m\n",
      "File \u001b[0;32m~/anaconda3/lib/python3.9/site-packages/scipy/optimize/_trustregion_constr/tr_interior_point.py:321\u001b[0m, in \u001b[0;36mtr_interior_point\u001b[0;34m(fun, grad, lagr_hess, n_vars, n_ineq, n_eq, constr, jac, x0, fun0, grad0, constr_ineq0, jac_ineq0, constr_eq0, jac_eq0, stop_criteria, enforce_feasibility, xtol, state, initial_barrier_parameter, initial_tolerance, initial_penalty, initial_trust_radius, factorization_method)\u001b[0m\n\u001b[1;32m    318\u001b[0m \u001b[38;5;66;03m# Solves a sequence of barrier problems\u001b[39;00m\n\u001b[1;32m    319\u001b[0m \u001b[38;5;28;01mwhile\u001b[39;00m \u001b[38;5;28;01mTrue\u001b[39;00m:\n\u001b[1;32m    320\u001b[0m     \u001b[38;5;66;03m# Solve SQP subproblem\u001b[39;00m\n\u001b[0;32m--> 321\u001b[0m     z, state \u001b[38;5;241m=\u001b[39m \u001b[43mequality_constrained_sqp\u001b[49m\u001b[43m(\u001b[49m\n\u001b[1;32m    322\u001b[0m \u001b[43m        \u001b[49m\u001b[43msubprob\u001b[49m\u001b[38;5;241;43m.\u001b[39;49m\u001b[43mfunction_and_constraints\u001b[49m\u001b[43m,\u001b[49m\n\u001b[1;32m    323\u001b[0m \u001b[43m        \u001b[49m\u001b[43msubprob\u001b[49m\u001b[38;5;241;43m.\u001b[39;49m\u001b[43mgradient_and_jacobian\u001b[49m\u001b[43m,\u001b[49m\n\u001b[1;32m    324\u001b[0m \u001b[43m        \u001b[49m\u001b[43msubprob\u001b[49m\u001b[38;5;241;43m.\u001b[39;49m\u001b[43mlagrangian_hessian\u001b[49m\u001b[43m,\u001b[49m\n\u001b[1;32m    325\u001b[0m \u001b[43m        \u001b[49m\u001b[43mz\u001b[49m\u001b[43m,\u001b[49m\u001b[43m \u001b[49m\u001b[43mfun0_subprob\u001b[49m\u001b[43m,\u001b[49m\u001b[43m \u001b[49m\u001b[43mgrad0_subprob\u001b[49m\u001b[43m,\u001b[49m\n\u001b[1;32m    326\u001b[0m \u001b[43m        \u001b[49m\u001b[43mconstr0_subprob\u001b[49m\u001b[43m,\u001b[49m\u001b[43m \u001b[49m\u001b[43mjac0_subprob\u001b[49m\u001b[43m,\u001b[49m\u001b[43m \u001b[49m\u001b[43msubprob\u001b[49m\u001b[38;5;241;43m.\u001b[39;49m\u001b[43mstop_criteria\u001b[49m\u001b[43m,\u001b[49m\n\u001b[1;32m    327\u001b[0m \u001b[43m        \u001b[49m\u001b[43mstate\u001b[49m\u001b[43m,\u001b[49m\u001b[43m \u001b[49m\u001b[43minitial_penalty\u001b[49m\u001b[43m,\u001b[49m\u001b[43m \u001b[49m\u001b[43mtrust_radius\u001b[49m\u001b[43m,\u001b[49m\n\u001b[1;32m    328\u001b[0m \u001b[43m        \u001b[49m\u001b[43mfactorization_method\u001b[49m\u001b[43m,\u001b[49m\u001b[43m \u001b[49m\u001b[43mtrust_lb\u001b[49m\u001b[43m,\u001b[49m\u001b[43m \u001b[49m\u001b[43mtrust_ub\u001b[49m\u001b[43m,\u001b[49m\u001b[43m \u001b[49m\u001b[43msubprob\u001b[49m\u001b[38;5;241;43m.\u001b[39;49m\u001b[43mscaling\u001b[49m\u001b[43m)\u001b[49m\n\u001b[1;32m    329\u001b[0m     \u001b[38;5;28;01mif\u001b[39;00m subprob\u001b[38;5;241m.\u001b[39mterminate:\n\u001b[1;32m    330\u001b[0m         \u001b[38;5;28;01mbreak\u001b[39;00m\n",
      "File \u001b[0;32m~/anaconda3/lib/python3.9/site-packages/scipy/optimize/_trustregion_constr/equality_constrained_sqp.py:147\u001b[0m, in \u001b[0;36mequality_constrained_sqp\u001b[0;34m(fun_and_constr, grad_and_jac, lagr_hess, x0, fun0, grad0, constr0, jac0, stop_criteria, state, initial_penalty, initial_trust_radius, factorization_method, trust_lb, trust_ub, scaling)\u001b[0m\n\u001b[1;32m    145\u001b[0m \u001b[38;5;66;03m# Evaluate function and constraints at trial point\u001b[39;00m\n\u001b[1;32m    146\u001b[0m x_next \u001b[38;5;241m=\u001b[39m x \u001b[38;5;241m+\u001b[39m S\u001b[38;5;241m.\u001b[39mdot(d)\n\u001b[0;32m--> 147\u001b[0m f_next, b_next \u001b[38;5;241m=\u001b[39m \u001b[43mfun_and_constr\u001b[49m\u001b[43m(\u001b[49m\u001b[43mx_next\u001b[49m\u001b[43m)\u001b[49m\n\u001b[1;32m    148\u001b[0m \u001b[38;5;66;03m# Compute merit function at trial point\u001b[39;00m\n\u001b[1;32m    149\u001b[0m merit_function_next \u001b[38;5;241m=\u001b[39m f_next \u001b[38;5;241m+\u001b[39m penalty\u001b[38;5;241m*\u001b[39mnorm(b_next)\n",
      "File \u001b[0;32m~/anaconda3/lib/python3.9/site-packages/scipy/optimize/_trustregion_constr/tr_interior_point.py:82\u001b[0m, in \u001b[0;36mBarrierSubproblem.function_and_constraints\u001b[0;34m(self, z)\u001b[0m\n\u001b[1;32m     80\u001b[0m s \u001b[38;5;241m=\u001b[39m \u001b[38;5;28mself\u001b[39m\u001b[38;5;241m.\u001b[39mget_slack(z)\n\u001b[1;32m     81\u001b[0m \u001b[38;5;66;03m# Compute function and constraints\u001b[39;00m\n\u001b[0;32m---> 82\u001b[0m f \u001b[38;5;241m=\u001b[39m \u001b[38;5;28;43mself\u001b[39;49m\u001b[38;5;241;43m.\u001b[39;49m\u001b[43mfun\u001b[49m\u001b[43m(\u001b[49m\u001b[43mx\u001b[49m\u001b[43m)\u001b[49m\n\u001b[1;32m     83\u001b[0m c_eq, c_ineq \u001b[38;5;241m=\u001b[39m \u001b[38;5;28mself\u001b[39m\u001b[38;5;241m.\u001b[39mconstr(x)\n\u001b[1;32m     84\u001b[0m \u001b[38;5;66;03m# Return objective function and constraints\u001b[39;00m\n",
      "File \u001b[0;32m~/anaconda3/lib/python3.9/site-packages/scipy/optimize/_differentiable_functions.py:277\u001b[0m, in \u001b[0;36mScalarFunction.fun\u001b[0;34m(self, x)\u001b[0m\n\u001b[1;32m    275\u001b[0m \u001b[38;5;28;01mdef\u001b[39;00m \u001b[38;5;21mfun\u001b[39m(\u001b[38;5;28mself\u001b[39m, x):\n\u001b[1;32m    276\u001b[0m     \u001b[38;5;28;01mif\u001b[39;00m \u001b[38;5;129;01mnot\u001b[39;00m np\u001b[38;5;241m.\u001b[39marray_equal(x, \u001b[38;5;28mself\u001b[39m\u001b[38;5;241m.\u001b[39mx):\n\u001b[0;32m--> 277\u001b[0m         \u001b[38;5;28;43mself\u001b[39;49m\u001b[38;5;241;43m.\u001b[39;49m\u001b[43m_update_x_impl\u001b[49m\u001b[43m(\u001b[49m\u001b[43mx\u001b[49m\u001b[43m)\u001b[49m\n\u001b[1;32m    278\u001b[0m     \u001b[38;5;28mself\u001b[39m\u001b[38;5;241m.\u001b[39m_update_fun()\n\u001b[1;32m    279\u001b[0m     \u001b[38;5;28;01mreturn\u001b[39;00m \u001b[38;5;28mself\u001b[39m\u001b[38;5;241m.\u001b[39mf\n",
      "File \u001b[0;32m~/anaconda3/lib/python3.9/site-packages/scipy/optimize/_differentiable_functions.py:248\u001b[0m, in \u001b[0;36mScalarFunction.__init__.<locals>.update_x\u001b[0;34m(x)\u001b[0m\n\u001b[1;32m    246\u001b[0m \u001b[38;5;28mself\u001b[39m\u001b[38;5;241m.\u001b[39mg_updated \u001b[38;5;241m=\u001b[39m \u001b[38;5;28;01mFalse\u001b[39;00m\n\u001b[1;32m    247\u001b[0m \u001b[38;5;28mself\u001b[39m\u001b[38;5;241m.\u001b[39mH_updated \u001b[38;5;241m=\u001b[39m \u001b[38;5;28;01mFalse\u001b[39;00m\n\u001b[0;32m--> 248\u001b[0m \u001b[38;5;28;43mself\u001b[39;49m\u001b[38;5;241;43m.\u001b[39;49m\u001b[43m_update_hess\u001b[49m\u001b[43m(\u001b[49m\u001b[43m)\u001b[49m\n",
      "File \u001b[0;32m~/anaconda3/lib/python3.9/site-packages/scipy/optimize/_differentiable_functions.py:272\u001b[0m, in \u001b[0;36mScalarFunction._update_hess\u001b[0;34m(self)\u001b[0m\n\u001b[1;32m    270\u001b[0m \u001b[38;5;28;01mdef\u001b[39;00m \u001b[38;5;21m_update_hess\u001b[39m(\u001b[38;5;28mself\u001b[39m):\n\u001b[1;32m    271\u001b[0m     \u001b[38;5;28;01mif\u001b[39;00m \u001b[38;5;129;01mnot\u001b[39;00m \u001b[38;5;28mself\u001b[39m\u001b[38;5;241m.\u001b[39mH_updated:\n\u001b[0;32m--> 272\u001b[0m         \u001b[38;5;28;43mself\u001b[39;49m\u001b[38;5;241;43m.\u001b[39;49m\u001b[43m_update_hess_impl\u001b[49m\u001b[43m(\u001b[49m\u001b[43m)\u001b[49m\n\u001b[1;32m    273\u001b[0m         \u001b[38;5;28mself\u001b[39m\u001b[38;5;241m.\u001b[39mH_updated \u001b[38;5;241m=\u001b[39m \u001b[38;5;28;01mTrue\u001b[39;00m\n",
      "File \u001b[0;32m~/anaconda3/lib/python3.9/site-packages/scipy/optimize/_differentiable_functions.py:230\u001b[0m, in \u001b[0;36mScalarFunction.__init__.<locals>.update_hess\u001b[0;34m()\u001b[0m\n\u001b[1;32m    229\u001b[0m \u001b[38;5;28;01mdef\u001b[39;00m \u001b[38;5;21mupdate_hess\u001b[39m():\n\u001b[0;32m--> 230\u001b[0m     \u001b[38;5;28;43mself\u001b[39;49m\u001b[38;5;241;43m.\u001b[39;49m\u001b[43m_update_grad\u001b[49m\u001b[43m(\u001b[49m\u001b[43m)\u001b[49m\n\u001b[1;32m    231\u001b[0m     \u001b[38;5;28mself\u001b[39m\u001b[38;5;241m.\u001b[39mH\u001b[38;5;241m.\u001b[39mupdate(\u001b[38;5;28mself\u001b[39m\u001b[38;5;241m.\u001b[39mx \u001b[38;5;241m-\u001b[39m \u001b[38;5;28mself\u001b[39m\u001b[38;5;241m.\u001b[39mx_prev, \u001b[38;5;28mself\u001b[39m\u001b[38;5;241m.\u001b[39mg \u001b[38;5;241m-\u001b[39m \u001b[38;5;28mself\u001b[39m\u001b[38;5;241m.\u001b[39mg_prev)\n",
      "File \u001b[0;32m~/anaconda3/lib/python3.9/site-packages/scipy/optimize/_differentiable_functions.py:267\u001b[0m, in \u001b[0;36mScalarFunction._update_grad\u001b[0;34m(self)\u001b[0m\n\u001b[1;32m    265\u001b[0m \u001b[38;5;28;01mdef\u001b[39;00m \u001b[38;5;21m_update_grad\u001b[39m(\u001b[38;5;28mself\u001b[39m):\n\u001b[1;32m    266\u001b[0m     \u001b[38;5;28;01mif\u001b[39;00m \u001b[38;5;129;01mnot\u001b[39;00m \u001b[38;5;28mself\u001b[39m\u001b[38;5;241m.\u001b[39mg_updated:\n\u001b[0;32m--> 267\u001b[0m         \u001b[38;5;28;43mself\u001b[39;49m\u001b[38;5;241;43m.\u001b[39;49m\u001b[43m_update_grad_impl\u001b[49m\u001b[43m(\u001b[49m\u001b[43m)\u001b[49m\n\u001b[1;32m    268\u001b[0m         \u001b[38;5;28mself\u001b[39m\u001b[38;5;241m.\u001b[39mg_updated \u001b[38;5;241m=\u001b[39m \u001b[38;5;28;01mTrue\u001b[39;00m\n",
      "File \u001b[0;32m~/anaconda3/lib/python3.9/site-packages/scipy/optimize/_differentiable_functions.py:179\u001b[0m, in \u001b[0;36mScalarFunction.__init__.<locals>.update_grad\u001b[0;34m()\u001b[0m\n\u001b[1;32m    178\u001b[0m \u001b[38;5;28;01mdef\u001b[39;00m \u001b[38;5;21mupdate_grad\u001b[39m():\n\u001b[0;32m--> 179\u001b[0m     \u001b[38;5;28;43mself\u001b[39;49m\u001b[38;5;241;43m.\u001b[39;49m\u001b[43m_update_fun\u001b[49m\u001b[43m(\u001b[49m\u001b[43m)\u001b[49m\n\u001b[1;32m    180\u001b[0m     \u001b[38;5;28mself\u001b[39m\u001b[38;5;241m.\u001b[39mngev \u001b[38;5;241m+\u001b[39m\u001b[38;5;241m=\u001b[39m \u001b[38;5;241m1\u001b[39m\n\u001b[1;32m    181\u001b[0m     \u001b[38;5;28mself\u001b[39m\u001b[38;5;241m.\u001b[39mg \u001b[38;5;241m=\u001b[39m approx_derivative(fun_wrapped, \u001b[38;5;28mself\u001b[39m\u001b[38;5;241m.\u001b[39mx, f0\u001b[38;5;241m=\u001b[39m\u001b[38;5;28mself\u001b[39m\u001b[38;5;241m.\u001b[39mf,\n\u001b[1;32m    182\u001b[0m                                \u001b[38;5;241m*\u001b[39m\u001b[38;5;241m*\u001b[39mfinite_diff_options)\n",
      "File \u001b[0;32m~/anaconda3/lib/python3.9/site-packages/scipy/optimize/_differentiable_functions.py:262\u001b[0m, in \u001b[0;36mScalarFunction._update_fun\u001b[0;34m(self)\u001b[0m\n\u001b[1;32m    260\u001b[0m \u001b[38;5;28;01mdef\u001b[39;00m \u001b[38;5;21m_update_fun\u001b[39m(\u001b[38;5;28mself\u001b[39m):\n\u001b[1;32m    261\u001b[0m     \u001b[38;5;28;01mif\u001b[39;00m \u001b[38;5;129;01mnot\u001b[39;00m \u001b[38;5;28mself\u001b[39m\u001b[38;5;241m.\u001b[39mf_updated:\n\u001b[0;32m--> 262\u001b[0m         \u001b[38;5;28;43mself\u001b[39;49m\u001b[38;5;241;43m.\u001b[39;49m\u001b[43m_update_fun_impl\u001b[49m\u001b[43m(\u001b[49m\u001b[43m)\u001b[49m\n\u001b[1;32m    263\u001b[0m         \u001b[38;5;28mself\u001b[39m\u001b[38;5;241m.\u001b[39mf_updated \u001b[38;5;241m=\u001b[39m \u001b[38;5;28;01mTrue\u001b[39;00m\n",
      "File \u001b[0;32m~/anaconda3/lib/python3.9/site-packages/scipy/optimize/_differentiable_functions.py:163\u001b[0m, in \u001b[0;36mScalarFunction.__init__.<locals>.update_fun\u001b[0;34m()\u001b[0m\n\u001b[1;32m    162\u001b[0m \u001b[38;5;28;01mdef\u001b[39;00m \u001b[38;5;21mupdate_fun\u001b[39m():\n\u001b[0;32m--> 163\u001b[0m     \u001b[38;5;28mself\u001b[39m\u001b[38;5;241m.\u001b[39mf \u001b[38;5;241m=\u001b[39m \u001b[43mfun_wrapped\u001b[49m\u001b[43m(\u001b[49m\u001b[38;5;28;43mself\u001b[39;49m\u001b[38;5;241;43m.\u001b[39;49m\u001b[43mx\u001b[49m\u001b[43m)\u001b[49m\n",
      "File \u001b[0;32m~/anaconda3/lib/python3.9/site-packages/scipy/optimize/_differentiable_functions.py:145\u001b[0m, in \u001b[0;36mScalarFunction.__init__.<locals>.fun_wrapped\u001b[0;34m(x)\u001b[0m\n\u001b[1;32m    141\u001b[0m \u001b[38;5;28mself\u001b[39m\u001b[38;5;241m.\u001b[39mnfev \u001b[38;5;241m+\u001b[39m\u001b[38;5;241m=\u001b[39m \u001b[38;5;241m1\u001b[39m\n\u001b[1;32m    142\u001b[0m \u001b[38;5;66;03m# Send a copy because the user may overwrite it.\u001b[39;00m\n\u001b[1;32m    143\u001b[0m \u001b[38;5;66;03m# Overwriting results in undefined behaviour because\u001b[39;00m\n\u001b[1;32m    144\u001b[0m \u001b[38;5;66;03m# fun(self.x) will change self.x, with the two no longer linked.\u001b[39;00m\n\u001b[0;32m--> 145\u001b[0m fx \u001b[38;5;241m=\u001b[39m \u001b[43mfun\u001b[49m\u001b[43m(\u001b[49m\u001b[43mnp\u001b[49m\u001b[38;5;241;43m.\u001b[39;49m\u001b[43mcopy\u001b[49m\u001b[43m(\u001b[49m\u001b[43mx\u001b[49m\u001b[43m)\u001b[49m\u001b[43m,\u001b[49m\u001b[43m \u001b[49m\u001b[38;5;241;43m*\u001b[39;49m\u001b[43margs\u001b[49m\u001b[43m)\u001b[49m\n\u001b[1;32m    146\u001b[0m \u001b[38;5;66;03m# Make sure the function returns a true scalar\u001b[39;00m\n\u001b[1;32m    147\u001b[0m \u001b[38;5;28;01mif\u001b[39;00m \u001b[38;5;129;01mnot\u001b[39;00m np\u001b[38;5;241m.\u001b[39misscalar(fx):\n",
      "Cell \u001b[0;32mIn[4], line 38\u001b[0m, in \u001b[0;36mBOR_function\u001b[0;34m(a)\u001b[0m\n\u001b[1;32m     35\u001b[0m mid_tank\u001b[38;5;241m.\u001b[39mz_grid \u001b[38;5;241m=\u001b[39m np\u001b[38;5;241m.\u001b[39mlinspace(\u001b[38;5;241m0\u001b[39m, \u001b[38;5;241m1\u001b[39m, n_z)\n\u001b[1;32m     37\u001b[0m \u001b[38;5;66;03m# Execute simulation\u001b[39;00m\n\u001b[0;32m---> 38\u001b[0m \u001b[43mmid_tank\u001b[49m\u001b[38;5;241;43m.\u001b[39;49m\u001b[43mevaporate\u001b[49m\u001b[43m(\u001b[49m\u001b[43mevap_time\u001b[49m\u001b[43m)\u001b[49m\n\u001b[1;32m     40\u001b[0m \u001b[38;5;66;03m# Calculate BOR\u001b[39;00m\n\u001b[1;32m     41\u001b[0m BOR \u001b[38;5;241m=\u001b[39m \u001b[38;5;241m1\u001b[39m \u001b[38;5;241m-\u001b[39m mid_tank\u001b[38;5;241m.\u001b[39mdata[\u001b[38;5;124m'\u001b[39m\u001b[38;5;124mV_L\u001b[39m\u001b[38;5;124m'\u001b[39m][\u001b[38;5;241m-\u001b[39m\u001b[38;5;241m1\u001b[39m] \u001b[38;5;241m/\u001b[39m mid_tank\u001b[38;5;241m.\u001b[39mdata[\u001b[38;5;124m'\u001b[39m\u001b[38;5;124mV_L\u001b[39m\u001b[38;5;124m'\u001b[39m][\u001b[38;5;241m0\u001b[39m]\n",
      "File \u001b[0;32m~/anaconda3/lib/python3.9/site-packages/cryoevap/storage_tanks/tank.py:127\u001b[0m, in \u001b[0;36mTank.evaporate\u001b[0;34m(self, t_f)\u001b[0m\n\u001b[1;32m    124\u001b[0m IC \u001b[38;5;241m=\u001b[39m np\u001b[38;5;241m.\u001b[39mappend(VL_0, Tv_0)\n\u001b[1;32m    126\u001b[0m \u001b[38;5;66;03m# Integrate\u001b[39;00m\n\u001b[0;32m--> 127\u001b[0m sol \u001b[38;5;241m=\u001b[39m \u001b[43msolve_ivp\u001b[49m\u001b[43m(\u001b[49m\u001b[38;5;28;43mself\u001b[39;49m\u001b[38;5;241;43m.\u001b[39;49m\u001b[43msys_isobaric\u001b[49m\u001b[43m,\u001b[49m\u001b[43m \u001b[49m\u001b[43m(\u001b[49m\u001b[38;5;241;43m0\u001b[39;49m\u001b[43m,\u001b[49m\u001b[43m \u001b[49m\u001b[43mt_f\u001b[49m\u001b[43m)\u001b[49m\u001b[43m,\u001b[49m\u001b[43m \u001b[49m\u001b[43mIC\u001b[49m\u001b[43m,\u001b[49m\u001b[43m \u001b[49m\u001b[43mt_eval\u001b[49m\u001b[43m \u001b[49m\u001b[38;5;241;43m=\u001b[39;49m\u001b[43m \u001b[49m\u001b[43mt_eval\u001b[49m\u001b[43m,\u001b[49m\u001b[43m \u001b[49m\u001b[43mmethod\u001b[49m\u001b[38;5;241;43m=\u001b[39;49m\u001b[38;5;124;43m'\u001b[39;49m\u001b[38;5;124;43mRK45\u001b[39;49m\u001b[38;5;124;43m'\u001b[39;49m\u001b[43m,\u001b[49m\u001b[43m \u001b[49m\u001b[43matol\u001b[49m\u001b[38;5;241;43m=\u001b[39;49m\u001b[38;5;241;43m1e-6\u001b[39;49m\u001b[43m,\u001b[49m\u001b[43m \u001b[49m\u001b[43mrtol\u001b[49m\u001b[38;5;241;43m=\u001b[39;49m\u001b[38;5;241;43m1e-6\u001b[39;49m\u001b[43m)\u001b[49m        \n\u001b[1;32m    129\u001b[0m \u001b[38;5;66;03m# Set tank solution object with the volume and vapour temperature profiles\u001b[39;00m\n\u001b[1;32m    130\u001b[0m \u001b[38;5;66;03m# as a function of time\u001b[39;00m\n\u001b[1;32m    131\u001b[0m \u001b[38;5;28mself\u001b[39m\u001b[38;5;241m.\u001b[39msol \u001b[38;5;241m=\u001b[39m sol\n",
      "File \u001b[0;32m~/anaconda3/lib/python3.9/site-packages/scipy/integrate/_ivp/ivp.py:655\u001b[0m, in \u001b[0;36msolve_ivp\u001b[0;34m(fun, t_span, y0, method, t_eval, dense_output, events, vectorized, args, **options)\u001b[0m\n\u001b[1;32m    653\u001b[0m status \u001b[38;5;241m=\u001b[39m \u001b[38;5;28;01mNone\u001b[39;00m\n\u001b[1;32m    654\u001b[0m \u001b[38;5;28;01mwhile\u001b[39;00m status \u001b[38;5;129;01mis\u001b[39;00m \u001b[38;5;28;01mNone\u001b[39;00m:\n\u001b[0;32m--> 655\u001b[0m     message \u001b[38;5;241m=\u001b[39m \u001b[43msolver\u001b[49m\u001b[38;5;241;43m.\u001b[39;49m\u001b[43mstep\u001b[49m\u001b[43m(\u001b[49m\u001b[43m)\u001b[49m\n\u001b[1;32m    657\u001b[0m     \u001b[38;5;28;01mif\u001b[39;00m solver\u001b[38;5;241m.\u001b[39mstatus \u001b[38;5;241m==\u001b[39m \u001b[38;5;124m'\u001b[39m\u001b[38;5;124mfinished\u001b[39m\u001b[38;5;124m'\u001b[39m:\n\u001b[1;32m    658\u001b[0m         status \u001b[38;5;241m=\u001b[39m \u001b[38;5;241m0\u001b[39m\n",
      "File \u001b[0;32m~/anaconda3/lib/python3.9/site-packages/scipy/integrate/_ivp/base.py:197\u001b[0m, in \u001b[0;36mOdeSolver.step\u001b[0;34m(self)\u001b[0m\n\u001b[1;32m    195\u001b[0m \u001b[38;5;28;01melse\u001b[39;00m:\n\u001b[1;32m    196\u001b[0m     t \u001b[38;5;241m=\u001b[39m \u001b[38;5;28mself\u001b[39m\u001b[38;5;241m.\u001b[39mt\n\u001b[0;32m--> 197\u001b[0m     success, message \u001b[38;5;241m=\u001b[39m \u001b[38;5;28;43mself\u001b[39;49m\u001b[38;5;241;43m.\u001b[39;49m\u001b[43m_step_impl\u001b[49m\u001b[43m(\u001b[49m\u001b[43m)\u001b[49m\n\u001b[1;32m    199\u001b[0m     \u001b[38;5;28;01mif\u001b[39;00m \u001b[38;5;129;01mnot\u001b[39;00m success:\n\u001b[1;32m    200\u001b[0m         \u001b[38;5;28mself\u001b[39m\u001b[38;5;241m.\u001b[39mstatus \u001b[38;5;241m=\u001b[39m \u001b[38;5;124m'\u001b[39m\u001b[38;5;124mfailed\u001b[39m\u001b[38;5;124m'\u001b[39m\n",
      "File \u001b[0;32m~/anaconda3/lib/python3.9/site-packages/scipy/integrate/_ivp/rk.py:144\u001b[0m, in \u001b[0;36mRungeKutta._step_impl\u001b[0;34m(self)\u001b[0m\n\u001b[1;32m    141\u001b[0m h \u001b[38;5;241m=\u001b[39m t_new \u001b[38;5;241m-\u001b[39m t\n\u001b[1;32m    142\u001b[0m h_abs \u001b[38;5;241m=\u001b[39m np\u001b[38;5;241m.\u001b[39mabs(h)\n\u001b[0;32m--> 144\u001b[0m y_new, f_new \u001b[38;5;241m=\u001b[39m \u001b[43mrk_step\u001b[49m\u001b[43m(\u001b[49m\u001b[38;5;28;43mself\u001b[39;49m\u001b[38;5;241;43m.\u001b[39;49m\u001b[43mfun\u001b[49m\u001b[43m,\u001b[49m\u001b[43m \u001b[49m\u001b[43mt\u001b[49m\u001b[43m,\u001b[49m\u001b[43m \u001b[49m\u001b[43my\u001b[49m\u001b[43m,\u001b[49m\u001b[43m \u001b[49m\u001b[38;5;28;43mself\u001b[39;49m\u001b[38;5;241;43m.\u001b[39;49m\u001b[43mf\u001b[49m\u001b[43m,\u001b[49m\u001b[43m \u001b[49m\u001b[43mh\u001b[49m\u001b[43m,\u001b[49m\u001b[43m \u001b[49m\u001b[38;5;28;43mself\u001b[39;49m\u001b[38;5;241;43m.\u001b[39;49m\u001b[43mA\u001b[49m\u001b[43m,\u001b[49m\n\u001b[1;32m    145\u001b[0m \u001b[43m                       \u001b[49m\u001b[38;5;28;43mself\u001b[39;49m\u001b[38;5;241;43m.\u001b[39;49m\u001b[43mB\u001b[49m\u001b[43m,\u001b[49m\u001b[43m \u001b[49m\u001b[38;5;28;43mself\u001b[39;49m\u001b[38;5;241;43m.\u001b[39;49m\u001b[43mC\u001b[49m\u001b[43m,\u001b[49m\u001b[43m \u001b[49m\u001b[38;5;28;43mself\u001b[39;49m\u001b[38;5;241;43m.\u001b[39;49m\u001b[43mK\u001b[49m\u001b[43m)\u001b[49m\n\u001b[1;32m    146\u001b[0m scale \u001b[38;5;241m=\u001b[39m atol \u001b[38;5;241m+\u001b[39m np\u001b[38;5;241m.\u001b[39mmaximum(np\u001b[38;5;241m.\u001b[39mabs(y), np\u001b[38;5;241m.\u001b[39mabs(y_new)) \u001b[38;5;241m*\u001b[39m rtol\n\u001b[1;32m    147\u001b[0m error_norm \u001b[38;5;241m=\u001b[39m \u001b[38;5;28mself\u001b[39m\u001b[38;5;241m.\u001b[39m_estimate_error_norm(\u001b[38;5;28mself\u001b[39m\u001b[38;5;241m.\u001b[39mK, h, scale)\n",
      "File \u001b[0;32m~/anaconda3/lib/python3.9/site-packages/scipy/integrate/_ivp/rk.py:64\u001b[0m, in \u001b[0;36mrk_step\u001b[0;34m(fun, t, y, f, h, A, B, C, K)\u001b[0m\n\u001b[1;32m     62\u001b[0m \u001b[38;5;28;01mfor\u001b[39;00m s, (a, c) \u001b[38;5;129;01min\u001b[39;00m \u001b[38;5;28menumerate\u001b[39m(\u001b[38;5;28mzip\u001b[39m(A[\u001b[38;5;241m1\u001b[39m:], C[\u001b[38;5;241m1\u001b[39m:]), start\u001b[38;5;241m=\u001b[39m\u001b[38;5;241m1\u001b[39m):\n\u001b[1;32m     63\u001b[0m     dy \u001b[38;5;241m=\u001b[39m np\u001b[38;5;241m.\u001b[39mdot(K[:s]\u001b[38;5;241m.\u001b[39mT, a[:s]) \u001b[38;5;241m*\u001b[39m h\n\u001b[0;32m---> 64\u001b[0m     K[s] \u001b[38;5;241m=\u001b[39m \u001b[43mfun\u001b[49m\u001b[43m(\u001b[49m\u001b[43mt\u001b[49m\u001b[43m \u001b[49m\u001b[38;5;241;43m+\u001b[39;49m\u001b[43m \u001b[49m\u001b[43mc\u001b[49m\u001b[43m \u001b[49m\u001b[38;5;241;43m*\u001b[39;49m\u001b[43m \u001b[49m\u001b[43mh\u001b[49m\u001b[43m,\u001b[49m\u001b[43m \u001b[49m\u001b[43my\u001b[49m\u001b[43m \u001b[49m\u001b[38;5;241;43m+\u001b[39;49m\u001b[43m \u001b[49m\u001b[43mdy\u001b[49m\u001b[43m)\u001b[49m\n\u001b[1;32m     66\u001b[0m y_new \u001b[38;5;241m=\u001b[39m y \u001b[38;5;241m+\u001b[39m h \u001b[38;5;241m*\u001b[39m np\u001b[38;5;241m.\u001b[39mdot(K[:\u001b[38;5;241m-\u001b[39m\u001b[38;5;241m1\u001b[39m]\u001b[38;5;241m.\u001b[39mT, B)\n\u001b[1;32m     67\u001b[0m f_new \u001b[38;5;241m=\u001b[39m fun(t \u001b[38;5;241m+\u001b[39m h, y_new)\n",
      "File \u001b[0;32m~/anaconda3/lib/python3.9/site-packages/scipy/integrate/_ivp/base.py:154\u001b[0m, in \u001b[0;36mOdeSolver.__init__.<locals>.fun\u001b[0;34m(t, y)\u001b[0m\n\u001b[1;32m    152\u001b[0m \u001b[38;5;28;01mdef\u001b[39;00m \u001b[38;5;21mfun\u001b[39m(t, y):\n\u001b[1;32m    153\u001b[0m     \u001b[38;5;28mself\u001b[39m\u001b[38;5;241m.\u001b[39mnfev \u001b[38;5;241m+\u001b[39m\u001b[38;5;241m=\u001b[39m \u001b[38;5;241m1\u001b[39m\n\u001b[0;32m--> 154\u001b[0m     \u001b[38;5;28;01mreturn\u001b[39;00m \u001b[38;5;28;43mself\u001b[39;49m\u001b[38;5;241;43m.\u001b[39;49m\u001b[43mfun_single\u001b[49m\u001b[43m(\u001b[49m\u001b[43mt\u001b[49m\u001b[43m,\u001b[49m\u001b[43m \u001b[49m\u001b[43my\u001b[49m\u001b[43m)\u001b[49m\n",
      "File \u001b[0;32m~/anaconda3/lib/python3.9/site-packages/scipy/integrate/_ivp/base.py:23\u001b[0m, in \u001b[0;36mcheck_arguments.<locals>.fun_wrapped\u001b[0;34m(t, y)\u001b[0m\n\u001b[1;32m     22\u001b[0m \u001b[38;5;28;01mdef\u001b[39;00m \u001b[38;5;21mfun_wrapped\u001b[39m(t, y):\n\u001b[0;32m---> 23\u001b[0m     \u001b[38;5;28;01mreturn\u001b[39;00m np\u001b[38;5;241m.\u001b[39masarray(\u001b[43mfun\u001b[49m\u001b[43m(\u001b[49m\u001b[43mt\u001b[49m\u001b[43m,\u001b[49m\u001b[43m \u001b[49m\u001b[43my\u001b[49m\u001b[43m)\u001b[49m, dtype\u001b[38;5;241m=\u001b[39mdtype)\n",
      "File \u001b[0;32m~/anaconda3/lib/python3.9/site-packages/cryoevap/storage_tanks/tank.py:238\u001b[0m, in \u001b[0;36mTank.sys_isobaric\u001b[0;34m(self, t, y)\u001b[0m\n\u001b[1;32m    235\u001b[0m dV \u001b[38;5;241m=\u001b[39m \u001b[38;5;28mself\u001b[39m\u001b[38;5;241m.\u001b[39msys_liq_volume(t, y[\u001b[38;5;241m0\u001b[39m])\n\u001b[1;32m    236\u001b[0m \u001b[38;5;66;03m# ODE system with nodal vapour temperature derivatives\u001b[39;00m\n\u001b[1;32m    237\u001b[0m \u001b[38;5;66;03m#dT_V =  self.sys_temperature(self, t, y[1:])\u001b[39;00m\n\u001b[0;32m--> 238\u001b[0m dT_V \u001b[38;5;241m=\u001b[39m  \u001b[38;5;28;43mself\u001b[39;49m\u001b[38;5;241;43m.\u001b[39;49m\u001b[43msys_temperature\u001b[49m\u001b[43m(\u001b[49m\u001b[43mt\u001b[49m\u001b[43m,\u001b[49m\u001b[43m \u001b[49m\u001b[43my\u001b[49m\u001b[43m[\u001b[49m\u001b[38;5;241;43m1\u001b[39;49m\u001b[43m:\u001b[49m\u001b[43m]\u001b[49m\u001b[43m)\u001b[49m\n\u001b[1;32m    240\u001b[0m \u001b[38;5;66;03m# Return right hand side of the ODE system\u001b[39;00m\n\u001b[1;32m    241\u001b[0m \u001b[38;5;28;01mreturn\u001b[39;00m np\u001b[38;5;241m.\u001b[39mappend(dV, dT_V)\n",
      "File \u001b[0;32m~/anaconda3/lib/python3.9/site-packages/cryoevap/storage_tanks/tank.py:178\u001b[0m, in \u001b[0;36mTank.sys_temperature\u001b[0;34m(self, t, y)\u001b[0m\n\u001b[1;32m    174\u001b[0m \u001b[38;5;66;03m# Update average vapour density, thermal conductivity\u001b[39;00m\n\u001b[1;32m    175\u001b[0m \u001b[38;5;66;03m# and specific heat capacity using the Simpson's rule\u001b[39;00m\n\u001b[1;32m    177\u001b[0m \u001b[38;5;28mself\u001b[39m\u001b[38;5;241m.\u001b[39mcryogen\u001b[38;5;241m.\u001b[39mupdate_rho_V(\u001b[38;5;28mself\u001b[39m\u001b[38;5;241m.\u001b[39mz_grid, T)\n\u001b[0;32m--> 178\u001b[0m \u001b[38;5;28;43mself\u001b[39;49m\u001b[38;5;241;43m.\u001b[39;49m\u001b[43mcryogen\u001b[49m\u001b[38;5;241;43m.\u001b[39;49m\u001b[43mupdate_k_V\u001b[49m\u001b[43m(\u001b[49m\u001b[38;5;28;43mself\u001b[39;49m\u001b[38;5;241;43m.\u001b[39;49m\u001b[43mz_grid\u001b[49m\u001b[43m,\u001b[49m\u001b[43m \u001b[49m\u001b[43mT\u001b[49m\u001b[43m)\u001b[49m\n\u001b[1;32m    179\u001b[0m \u001b[38;5;28mself\u001b[39m\u001b[38;5;241m.\u001b[39mcryogen\u001b[38;5;241m.\u001b[39mupdate_cp_V(\u001b[38;5;28mself\u001b[39m\u001b[38;5;241m.\u001b[39mz_grid, T)\n\u001b[1;32m    181\u001b[0m \u001b[38;5;66;03m# Advective velocity\u001b[39;00m\n",
      "File \u001b[0;32m~/anaconda3/lib/python3.9/site-packages/cryoevap/cryogens/cryogen.py:134\u001b[0m, in \u001b[0;36mCryogen.update_k_V\u001b[0;34m(self, z_grid, T_V)\u001b[0m\n\u001b[1;32m    131\u001b[0m T_V_shift \u001b[38;5;241m=\u001b[39m np\u001b[38;5;241m.\u001b[39mcopy(T_V)\n\u001b[1;32m    132\u001b[0m T_V_shift[\u001b[38;5;241m0\u001b[39m] \u001b[38;5;241m=\u001b[39m T_V_shift[\u001b[38;5;241m0\u001b[39m] \u001b[38;5;241m+\u001b[39m \u001b[38;5;241m1e-3\u001b[39m\n\u001b[0;32m--> 134\u001b[0m k_V \u001b[38;5;241m=\u001b[39m \u001b[43mCP\u001b[49m\u001b[38;5;241;43m.\u001b[39;49m\u001b[43mPropsSI\u001b[49m\u001b[43m(\u001b[49m\u001b[38;5;124;43m'\u001b[39;49m\u001b[38;5;124;43mL\u001b[39;49m\u001b[38;5;124;43m'\u001b[39;49m\u001b[43m,\u001b[49m\u001b[38;5;124;43m'\u001b[39;49m\u001b[38;5;124;43mP\u001b[39;49m\u001b[38;5;124;43m'\u001b[39;49m\u001b[43m,\u001b[49m\u001b[38;5;28;43mself\u001b[39;49m\u001b[38;5;241;43m.\u001b[39;49m\u001b[43mP\u001b[49m\u001b[43m,\u001b[49m\u001b[38;5;124;43m'\u001b[39;49m\u001b[38;5;124;43mT\u001b[39;49m\u001b[38;5;124;43m'\u001b[39;49m\u001b[43m,\u001b[49m\u001b[43mT_V_shift\u001b[49m\u001b[43m,\u001b[49m\u001b[43m \u001b[49m\u001b[38;5;28;43mself\u001b[39;49m\u001b[38;5;241;43m.\u001b[39;49m\u001b[43mname\u001b[49m\u001b[43m)\u001b[49m\n\u001b[1;32m    136\u001b[0m \u001b[38;5;66;03m# Update properties  if calling CoolProp was successful\u001b[39;00m\n\u001b[1;32m    137\u001b[0m \u001b[38;5;28;01mif\u001b[39;00m np\u001b[38;5;241m.\u001b[39many(np\u001b[38;5;241m.\u001b[39misnan(k_V)) \u001b[38;5;129;01mor\u001b[39;00m np\u001b[38;5;241m.\u001b[39many(np\u001b[38;5;241m.\u001b[39misinf(k_V)):\n",
      "File \u001b[0;32mCoolProp/CoolProp.pyx:391\u001b[0m, in \u001b[0;36mCoolProp.CoolProp.PropsSI\u001b[0;34m()\u001b[0m\n",
      "File \u001b[0;32mCoolProp/CoolProp.pyx:466\u001b[0m, in \u001b[0;36mCoolProp.CoolProp.PropsSI\u001b[0;34m()\u001b[0m\n",
      "File \u001b[0;32mCoolProp/CoolProp.pyx:123\u001b[0m, in \u001b[0;36mCoolProp.CoolProp.ndarray_or_iterable\u001b[0;34m()\u001b[0m\n",
      "\u001b[0;31mKeyboardInterrupt\u001b[0m: "
     ]
    }
   ],
   "source": [
    "from scipy.optimize import Bounds, minimize\n",
    "\n",
    "# Minimum and maximum practical ranges\n",
    "# of the aspect ratio\n",
    "bounds = Bounds([0.1], [5])\n",
    "\n",
    "# Initial Aspect Ratio to optimise\n",
    "x0 = 1 \n",
    "\n",
    "# Solution of the optimization \n",
    "for mult in mults:\n",
    "    for LF in LFs:\n",
    "        for evap_time in evap_times:\n",
    "            print(f\"\\nOptimum search for Tank Volume: {V_tank}, Liquid Filling: {LF*100}%, Compound: {Compound}, time: {evap_time/3600} hrs\")\n",
    "            res = minimize(BOR_function, x0, method='trust-constr',tol=1e-8 , options={'verbose': 1}, bounds=bounds)\n",
    "            \n",
    "            # Calculate internal diameter for optimum\n",
    "            d_i = ((4 * V_tank)/(np.pi * res.x[0]))**(1/3) # internal diameter / m\n",
    "            d_o = d_i * ST # external diameter / m\n",
    "            \n",
    "            # Initialize optimum tank\n",
    "            mid_tank = Tank(d_i, d_o, V_tank, LF)\n",
    "            \n",
    "            # Set cryogen\n",
    "            mid_tank.cryogen = Cryogen(name = Compound)\n",
    "            \n",
    "            mid_tank.cryogen.set_coolprops(P)\n",
    "            \n",
    "            q_b = mult*U_L*(T_air-mid_tank.cryogen.T_sat) # Heat flux proportional to the T diff of the cryogen.\n",
    "            \n",
    "            Q_b=q_b*mid_tank.A_T\n",
    "            \n",
    "            mid_tank.set_HeatTransProps(U_L, U_V, T_air, Q_b, Q_roof, eta_w)\n",
    "            \n",
    "            mid_tank.U_roof = U_V\n",
    "            \n",
    "            # Data table\n",
    "            \n",
    "            table = [[Compound, mid_tank.V, mid_tank.LF, f\"{evap_time/3600} hrs\", f\"{res.fun*100}\", f\"{res.x[0]}\",\n",
    "                        P, T_air, mid_tank.d_i, mid_tank.d_o, mid_tank.l, U_L, U_V, eta_w, mid_tank.Q_b, q_b]]\n",
    "            \n",
    "            # structure the data table\n",
    "            \n",
    "            data_table = pd.DataFrame(table, columns = [\"Cryogen\", \"Volume\", \"Liquid Filling\",\"Simulation\",\"BOR\",\"Aspect Ratio\"\n",
    "                                                    , \"Pressure (P)\", \"T_air (K)\", \"d_i\", \"d_o\", \"Height\", \"U_L\", \"U_V\", \"Eta_w\",\"Q_b\",\"q_b\"])\n",
    "            #print(Data_table)\n",
    "            \n",
    "            if sv:\n",
    "                # Send Data table to excel\n",
    "                # Try to load the existing Excel file\n",
    "                try:\n",
    "                    data_excel = pd.read_excel('Final.xlsx')\n",
    "                    \n",
    "                    # Append the row\n",
    "                    data_excel = pd.concat([data_excel, data_table], ignore_index = True)\n",
    "                    \n",
    "                    # Save the updated DataFrame back to the Excel file\n",
    "                    data_excel.to_excel('Final.xlsx', index = False)\n",
    "                except:\n",
    "                    #In case the file doesnt exist it is created\n",
    "                    data_table.to_excel('Final.xlsx', index = False)\n",
    "                print(\"\\n^^^^^^^^^^^^^^^^^^^^^^^^^^^^^^\\nData was saved.\\n^^^^^^^^^^^^^^^^^^^^^^^^^^^^^^\")\n",
    "            else:\n",
    "                print(\"^^^^^^^^^^^^^^^^^^^^^^^^^^^^^^\\nData was not saved.\\n^^^^^^^^^^^^^^^^^^^^^^^^^^^^^^\")\n",
    "                # Print a summary of the optimum if it is found\n",
    "            if res.success:\n",
    "                print(f\"\\nOptimum found for Tank Volume: {V_tank}, Liquid Filling: {LF*100}%, Compound: {Compound}\" + \n",
    "                      f\"\\nAspect Ratio = {res.x[0]:.3f}\" + f\"\\nBOR = {res.fun*100:.3f} %\")"
   ]
  },
  {
   "cell_type": "code",
   "execution_count": null,
   "id": "840ad27c-3a83-4ff7-aaa3-2f50edd7e400",
   "metadata": {},
   "outputs": [],
   "source": []
  }
 ],
 "metadata": {
  "kernelspec": {
   "display_name": "Python 3 (ipykernel)",
   "language": "python",
   "name": "python3"
  },
  "language_info": {
   "codemirror_mode": {
    "name": "ipython",
    "version": 3
   },
   "file_extension": ".py",
   "mimetype": "text/x-python",
   "name": "python",
   "nbconvert_exporter": "python",
   "pygments_lexer": "ipython3",
   "version": "3.9.19"
  }
 },
 "nbformat": 4,
 "nbformat_minor": 5
}
