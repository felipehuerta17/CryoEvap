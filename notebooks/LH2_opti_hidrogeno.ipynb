{
 "cells": [
  {
   "cell_type": "markdown",
   "metadata": {},
   "source": [
    "#### Case 2: Liquid hydrogen ($LH_2$) in a 2033 $\\text{m}^3$ tank\n",
    "\n",
    "This application corresponds to liquid hydrogen storage in the NASA's Space Launch System. It consists of a 2033 $m^3$ storage tank [NASA](https://www.energy.gov/sites/default/files/2021-10/new-lh2-sphere.pdf) in a tank with 8.4 m diameter and 40 m height. It will be assumed the following operation scenarios:\n",
    "\n",
    "* Daily boil-off rate of 0.1%  \n",
    "* Storage at atmospheric pressure with continuous removal of boil-off gas\n",
    "\n",
    "For purposes of the example, it is assumed that the storage tank is passively insulated with perlite.\n",
    "\n",
    "03/09/2024: Illustration of how to use SciPy to optimise"
   ]
  },
  {
   "cell_type": "code",
   "execution_count": 42,
   "metadata": {},
   "outputs": [],
   "source": [
    "# Scientific computing\n",
    "import numpy as np\n",
    "\n",
    "# Visualisation\n",
    "import matplotlib.pyplot as plt\n",
    "\n",
    "# Import the storage tank Class\n",
    "from cryoevap.storage_tanks import Tank\n",
    "\n",
    "# Import Cryogen class\n",
    "from cryoevap.cryogens import Cryogen"
   ]
  },
  {
   "cell_type": "markdown",
   "metadata": {},
   "source": [
    "#### Setup tank and cryogen properties\n"
   ]
  },
  {
   "cell_type": "code",
   "execution_count": 43,
   "metadata": {},
   "outputs": [],
   "source": [
    "# Cylindrical storage tank properties\n",
    "Q_roof = 0 # Roof heat ingress / W\n",
    "d_i = 8 # Internal diameter / m\n",
    "d_o = 8.4   # External diameter / m\n",
    "T_air = 293.15 # Temperature of the environment K\n",
    "\n",
    "# Set overall heat transfer coefficient through the walls for liquid and vapour\n",
    "U_L = 2e-2 # W/m2/K\n",
    "U_V = 2e-2 # W/m2/K\n",
    "\n",
    "# Specify heat transfer rate at the bottom\n",
    "# This will represent the heat conduction from the piping system\n",
    "Q_b = 100 # W, \n",
    "# Specify wall heat partitioning fraction\n",
    "eta_w= 0.8\n",
    "\n",
    "# Vertically orientated cylindrical tank volume\n",
    "V_tank = 80 #m^3\n",
    "\n",
    "\n",
    "# Initial liquid filling / Dimensionless\n",
    "LF = 0.95\n",
    "\n",
    "# Specify tank operating pressure\n",
    "P = 101325 # Pa\n",
    "\n",
    "# Initialize mid-scale tank\n",
    "mid_tank = Tank(d_i, d_o, V_tank, LF)\n",
    "mid_tank.set_HeatTransProps(U_L, U_V, T_air, Q_b, Q_roof, eta_w)\n",
    "\n",
    "# Keep the tank roof insulated\n",
    "mid_tank.U_roof = U_V\n",
    "\n",
    "# Initialise cryogen\n",
    "hydrogen = Cryogen(name = \"hydrogen\")\n",
    "hydrogen.set_coolprops(P)\n",
    "\n",
    "# Set cryogen\n",
    "mid_tank.cryogen = hydrogen"
   ]
  },
  {
   "cell_type": "markdown",
   "metadata": {},
   "source": [
    "Calculate initial evaporation rate and transient period"
   ]
  },
  {
   "cell_type": "code",
   "execution_count": 44,
   "metadata": {},
   "outputs": [
    {
     "name": "stdout",
     "output_type": "stream",
     "text": [
      "The initial evaporation rate of hydrogen is 2.6 kg/h\n",
      "Transient period = 14631.045 s \n",
      "Simulation time: 5 h\n",
      "BOR = 1.169 %\n",
      "Height:2.0 m\n"
     ]
    }
   ],
   "source": [
    "# Calculate initial evaporation rate\n",
    "print(\"The initial evaporation rate of \" + hydrogen.name + \" is %.1f kg/h\" % (mid_tank.b_l_dot * 3600))\n",
    "\n",
    "# Estimate transient period duration\n",
    "print(\"Transient period = %.3f s \" % mid_tank.tau)\n",
    "\n",
    "# Minimum number of hours to achieve steady state \n",
    "tau_h = (np.floor(mid_tank.tau / 3600) + 1)\n",
    "\n",
    "# Print simulation time of the transient period for short-term storage\n",
    "print(\"Simulation time: %.0i h\" % tau_h )\n",
    "\n",
    "# Calculate boil-off rate\n",
    "BOR = (mid_tank.b_l_dot * 24 * 3600) / (mid_tank.V * mid_tank.LF * mid_tank.cryogen.rho_L)\n",
    "print(\"BOR = %.3f %%\" % (BOR * 100))\n",
    "# Show dimensions of the tank\n",
    "tank_h = mid_tank.l\n",
    "print(f\"Height:{np.round(tank_h)} m\")"
   ]
  },
  {
   "cell_type": "markdown",
   "metadata": {},
   "source": [
    "### Simulation setup and execution"
   ]
  },
  {
   "cell_type": "markdown",
   "metadata": {},
   "source": [
    "### Define optimisation parameters"
   ]
  },
  {
   "cell_type": "code",
   "execution_count": 45,
   "metadata": {},
   "outputs": [
    {
     "name": "stdout",
     "output_type": "stream",
     "text": [
      "Simulation time: 12 h\n",
      "Grid length: 2\n"
     ]
    }
   ],
   "source": [
    "# Define vertical spacing\n",
    "dz = 0.1\n",
    "\n",
    "# Calculate number of nodes\n",
    "n_z = 1 + int(np.round(mid_tank.l_V/dz, 0))\n",
    "\n",
    "# Define dimensionless computational grid\n",
    "mid_tank.z_grid = np.linspace(0, 1, n_z)\n",
    "\n",
    "# Define evaporation time as the transient period\n",
    "hours = 24\n",
    "evap_time = 3600 * hours\n",
    "\n",
    "# Time step to plot each vapour temperature profile\n",
    "mid_tank.plot_interval = evap_time/6\n",
    "\n",
    "# Time step to record data, relevant for plotting integrated quantities such as\n",
    "# the vapour to liquid heat transfer rate, Q_VL\n",
    "mid_tank.time_interval = 60\n",
    "\n",
    "# Show simulation duration and grid\n",
    "print(f\"Simulation time: {hours} h\")\n",
    "print(f\"Grid length: {len(mid_tank.z_grid)}\")"
   ]
  },
  {
   "cell_type": "code",
   "execution_count": 23,
   "metadata": {},
   "outputs": [
    {
     "name": "stdout",
     "output_type": "stream",
     "text": [
      "BOR = 4.187 %\n",
      "Aspect Ratio:0.100, Altura: 1.006 , Diametro interno:10.062, Volumen:80 \n",
      "\n",
      "BOR = 14.316 %\n",
      "Aspect Ratio:0.345, Altura: 2.297 , Diametro interno:6.659, Volumen:80 \n",
      "\n",
      "BOR = 24.473 %\n",
      "Aspect Ratio:0.590, Altura: 3.285 , Diametro interno:5.568, Volumen:80 \n",
      "\n",
      "BOR = 34.665 %\n",
      "Aspect Ratio:0.835, Altura: 4.141 , Diametro interno:4.959, Volumen:80 \n",
      "\n",
      "BOR = 44.888 %\n",
      "Aspect Ratio:1.080, Altura: 4.916 , Diametro interno:4.552, Volumen:80 \n",
      "\n",
      "BOR = 55.141 %\n",
      "Aspect Ratio:1.325, Altura: 5.634 , Diametro interno:4.252, Volumen:80 \n",
      "\n",
      "BOR = 65.422 %\n",
      "Aspect Ratio:1.570, Altura: 6.309 , Diametro interno:4.018, Volumen:80 \n",
      "\n",
      "BOR = 75.727 %\n",
      "Aspect Ratio:1.815, Altura: 6.949 , Diametro interno:3.829, Volumen:80 \n",
      "\n",
      "BOR = 86.056 %\n",
      "Aspect Ratio:2.060, Altura: 7.561 , Diametro interno:3.670, Volumen:80 \n",
      "\n",
      "BOR = 96.407 %\n",
      "Aspect Ratio:2.305, Altura: 8.149 , Diametro interno:3.535, Volumen:80 \n",
      "\n",
      "BOR = 106.779 %\n",
      "Aspect Ratio:2.550, Altura: 8.717 , Diametro interno:3.418, Volumen:80 \n",
      "\n",
      "BOR = 117.171 %\n",
      "Aspect Ratio:2.795, Altura: 9.267 , Diametro interno:3.315, Volumen:80 \n",
      "\n",
      "BOR = 127.581 %\n",
      "Aspect Ratio:3.040, Altura: 9.801 , Diametro interno:3.224, Volumen:80 \n",
      "\n",
      "BOR = 138.010 %\n",
      "Aspect Ratio:3.285, Altura: 10.320 , Diametro interno:3.142, Volumen:80 \n",
      "\n",
      "BOR = 148.456 %\n",
      "Aspect Ratio:3.530, Altura: 10.827 , Diametro interno:3.067, Volumen:80 \n",
      "\n",
      "BOR = 158.918 %\n",
      "Aspect Ratio:3.775, Altura: 11.323 , Diametro interno:2.999, Volumen:80 \n",
      "\n",
      "BOR = 169.396 %\n",
      "Aspect Ratio:4.020, Altura: 11.807 , Diametro interno:2.937, Volumen:80 \n",
      "\n",
      "BOR = 179.890 %\n",
      "Aspect Ratio:4.265, Altura: 12.282 , Diametro interno:2.880, Volumen:80 \n",
      "\n",
      "BOR = 190.398 %\n",
      "Aspect Ratio:4.510, Altura: 12.748 , Diametro interno:2.827, Volumen:80 \n",
      "\n",
      "BOR = 200.921 %\n",
      "Aspect Ratio:4.755, Altura: 13.206 , Diametro interno:2.777, Volumen:80 \n",
      "\n",
      "BOR = 211.458 %\n",
      "Aspect Ratio:5.000, Altura: 13.656 , Diametro interno:2.731, Volumen:80 \n",
      "\n"
     ]
    }
   ],
   "source": [
    "# Generar rango de a (tasa de aspecto)\n",
    "a = np.linspace(0.1,5,21)\n",
    "\n",
    "for Aspect_R in a:\n",
    "    mid_tank.d_i = ((4 * mid_tank.V)/(np.pi * Aspect_R))**(1/3)\n",
    "    mid_tank.d_o = mid_tank.d_i + 0.2\n",
    "    mid_tank.l = ((4 * mid_tank.V * Aspect_R**2)/(np.pi ))**(1/3)\n",
    "    BOR = (mid_tank.b_l_dot * 24 * 3600) / (mid_tank.V * mid_tank.LF * mid_tank.cryogen.rho_L)\n",
    "    print(\"BOR = %.3f %%\" % (BOR * 100))\n",
    "    print(f\"Aspect Ratio:{Aspect_R:.3f}, Altura: {mid_tank.l:.3f} , Diametro interno:{mid_tank.d_i:.3f}, Volumen:{mid_tank.V} \\n\")"
   ]
  },
  {
   "cell_type": "code",
   "execution_count": 48,
   "metadata": {},
   "outputs": [
    {
     "data": {
      "image/png": "[encoded data removed]",
      "text/plain": [
       "<Figure size 640x480 with 1 Axes>"
      ]
     },
     "metadata": {},
     "output_type": "display_data"
    }
   ],
   "source": [
    "# Generar rango de a (tasa de aspecto)\n",
    "a = np.linspace(0.1,5,50)\n",
    "BOR_plot = []\n",
    "for Aspect_R in a:\n",
    "    d_i = ((4 * mid_tank.V)/(np.pi * Aspect_R))**(1/3)\n",
    "    d_o = d_i + 0.4\n",
    "    mid_tank = Tank(d_i, d_o, V_tank, LF)\n",
    "    mid_tank.set_HeatTransProps(U_L, U_V, T_air, Q_b, Q_roof, eta_w)\n",
    "\n",
    "    mid_tank.U_roof = U_V\n",
    "    # Set cryogen\n",
    "    mid_tank.cryogen = hydrogen\n",
    "    BOR = (mid_tank.b_l_dot * 24 * 3600) / (mid_tank.V * mid_tank.LF * mid_tank.cryogen.rho_L)\n",
    "    BOR_plot.append(BOR*100)\n",
    "    # print(\"BOR = %.3f %%\" % (BOR * 100))\n",
    "    # print(f\"Aspect Ratio:{Aspect_R:.3f}, Altura: {mid_tank.l:.3f} , Diametro interno:{mid_tank.d_i:.3f}, Volumen:{mid_tank.V} \\n\")\n",
    "\n",
    "# Create a plot\n",
    "plt.plot(a, BOR_plot,\"ro\")\n",
    "\n",
    "# Add labels and title\n",
    "plt.xlabel('Razon de aspecto | a')\n",
    "plt.ylabel('Boil-off Ratio | %')\n",
    "plt.title(f'Tanque V: {V_tank}, Liquid Filling: {LF}, Compound: ')\n",
    "\n",
    "# Display the plot\n",
    "plt.show()"
   ]
  },
  {
   "cell_type": "code",
   "execution_count": null,
   "metadata": {},
   "outputs": [
    {
     "name": "stderr",
     "output_type": "stream",
     "text": [
      "/tmp/ipykernel_745/4018950756.py:22: DeprecationWarning: Conversion of an array with ndim > 0 to a scalar is deprecated, and will error in future. Ensure you extract a single element from your array before performing this operation. (Deprecated NumPy 1.25.)\n",
      "  print(\"LF = %.3f, f=%.3e\" % (LF, f))\n"
     ]
    },
    {
     "name": "stdout",
     "output_type": "stream",
     "text": [
      "LF = 0.900, f=3.294e-01\n",
      "LF = 0.900, f=3.294e-01\n",
      "LF = 0.245, f=1.031e+00\n",
      "LF = 0.245, f=1.031e+00\n",
      "LF = 0.879, f=3.357e-01\n",
      "LF = 0.879, f=3.357e-01\n",
      "LF = 0.853, f=3.441e-01\n",
      "LF = 0.853, f=3.441e-01\n",
      "LF = 0.850, f=3.450e-01\n",
      "LF = 0.850, f=3.450e-01\n",
      "LF = 0.850, f=3.449e-01\n",
      "LF = 0.850, f=3.449e-01\n",
      "LF = 0.851, f=3.447e-01\n",
      "LF = 0.851, f=3.447e-01\n",
      "LF = 0.852, f=3.445e-01\n",
      "LF = 0.852, f=3.445e-01\n",
      "LF = 0.852, f=3.443e-01\n",
      "LF = 0.852, f=3.443e-01\n",
      "LF = 0.853, f=3.441e-01\n",
      "LF = 0.853, f=3.441e-01\n",
      "LF = 0.853, f=3.439e-01\n",
      "LF = 0.853, f=3.439e-01\n",
      "LF = 0.915, f=3.251e-01\n",
      "LF = 0.915, f=3.251e-01\n",
      "LF = 0.948, f=3.158e-01\n",
      "LF = 0.948, f=3.158e-01\n",
      "LF = 0.937, f=3.189e-01\n",
      "LF = 0.937, f=3.189e-01\n",
      "LF = 0.930, f=3.207e-01\n",
      "LF = 0.930, f=3.207e-01\n"
     ]
    }
   ],
   "source": [
    "from scipy.optimize import Bounds, minimize\n",
    "\n",
    "# Minimum and maximum practical ranges\n",
    "# of initial liquid filling\n",
    "\n",
    "# 5% represent ballast voyage\n",
    "# 95% is the safety limit for potential liquid thermal expansion\n",
    "bounds = Bounds([0.05], [0.95])\n",
    "\n",
    "# Define objective function\n",
    "def BOR_function(LF):\n",
    "\n",
    "    # Update liquid filling\n",
    "    mid_tank.LF = LF\n",
    "\n",
    "    # Execute simulation\n",
    "    mid_tank.evaporate(evap_time)\n",
    "\n",
    "    # Calculate objective function\n",
    "    f = 1 - mid_tank.data['V_L'][-1] / mid_tank.data['V_L'][0]\n",
    "    \n",
    "    print(\"LF = %.3f, f=%.3e\" % (LF, f))\n",
    "    return f    \n",
    "\n",
    "# Initial liquid filling to optimise\n",
    "\n",
    "x0 = 0.9 \n",
    "res = minimize(BOR_function, x0, method='trust-constr', options={'verbose': 1}, bounds=bounds)"
   ]
  },
  {
   "cell_type": "code",
   "execution_count": 17,
   "metadata": {},
   "outputs": [
    {
     "data": {
      "text/plain": [
       "           message: `gtol` termination condition is satisfied.\n",
       "           success: True\n",
       "            status: 1\n",
       "               fun: 0.03330514065585943\n",
       "                 x: [ 9.498e-01]\n",
       "               nit: 39\n",
       "              nfev: 68\n",
       "              njev: 34\n",
       "              nhev: 0\n",
       "          cg_niter: 32\n",
       "      cg_stop_cond: 1\n",
       "              grad: [-2.913e-02]\n",
       "   lagrangian_grad: [ 6.332e-11]\n",
       "            constr: [array([ 9.498e-01])]\n",
       "               jac: [<1x1 sparse matrix of type '<class 'numpy.float64'>'\n",
       "                    \twith 1 stored elements in Compressed Sparse Row format>]\n",
       "       constr_nfev: [0]\n",
       "       constr_njev: [0]\n",
       "       constr_nhev: [0]\n",
       "                 v: [array([ 2.913e-02])]\n",
       "            method: tr_interior_point\n",
       "        optimality: 6.331553684124636e-11\n",
       "  constr_violation: 0.0\n",
       "    execution_time: 4697.859582185745\n",
       "         tr_radius: 83.96823234527197\n",
       "    constr_penalty: 1.0\n",
       " barrier_parameter: 6.400000000000003e-06\n",
       " barrier_tolerance: 6.400000000000003e-06\n",
       "             niter: 39"
      ]
     },
     "execution_count": 17,
     "metadata": {},
     "output_type": "execute_result"
    }
   ],
   "source": [
    "res"
   ]
  },
  {
   "cell_type": "markdown",
   "metadata": {},
   "source": [
    "Global optimisation"
   ]
  },
  {
   "cell_type": "code",
   "execution_count": null,
   "metadata": {},
   "outputs": [
    {
     "name": "stdout",
     "output_type": "stream",
     "text": [
      "LF = 0.783, f=4.429e-01\n",
      "LF = 0.142, f=1.219e+00\n",
      "LF = 0.368, f=6.833e-01\n",
      "LF = 0.435, f=6.172e-01\n",
      "LF = 0.707, f=4.682e-01\n",
      "LF = 0.560, f=5.319e-01\n",
      "LF = 0.871, f=4.196e-01\n",
      "LF = 0.723, f=4.617e-01\n",
      "LF = 0.253, f=8.520e-01\n",
      "LF = 0.318, f=7.461e-01\n",
      "LF = 0.488, f=5.772e-01\n",
      "LF = 0.199, f=9.915e-01\n",
      "LF = 0.637, f=4.964e-01\n",
      "LF = 0.934, f=4.050e-01\n",
      "LF = 0.084, f=1.672e+00\n",
      "LF = 0.760, f=4.514e-01\n",
      "LF = 0.582, f=5.202e-01\n",
      "LF = 0.554, f=5.358e-01\n",
      "LF = 0.567, f=5.287e-01\n",
      "LF = 0.500, f=5.681e-01\n",
      "LF = 0.164, f=1.122e+00\n",
      "LF = 0.887, f=4.163e-01\n",
      "LF = 0.133, f=1.260e+00\n",
      "LF = 0.937, f=4.048e-01\n",
      "LF = 0.897, f=4.129e-01\n",
      "LF = 0.103, f=1.489e+00\n",
      "LF = 0.864, f=4.220e-01\n",
      "LF = 0.931, f=4.054e-01\n",
      "LF = 0.863, f=4.210e-01\n",
      "LF = 0.904, f=4.114e-01\n",
      "differential_evolution step 1: f(x)= 0.4047787838656154\n",
      "LF = 0.934, f=4.047e-01\n",
      "LF = 0.779, f=4.440e-01\n",
      "LF = 0.473, f=5.859e-01\n",
      "LF = 0.882, f=4.171e-01\n",
      "LF = 0.925, f=4.068e-01\n",
      "LF = 0.786, f=4.418e-01\n",
      "LF = 0.801, f=4.378e-01\n",
      "LF = 0.935, f=4.047e-01\n",
      "LF = 0.600, f=5.110e-01\n",
      "LF = 0.509, f=5.619e-01\n",
      "LF = 0.501, f=5.673e-01\n",
      "LF = 0.623, f=5.017e-01\n",
      "LF = 0.861, f=4.218e-01\n",
      "LF = 0.906, f=4.110e-01\n",
      "LF = 0.847, f=4.252e-01\n",
      "differential_evolution step 2: f(x)= 0.40470632953972585\n",
      "LF = 0.891, f=4.144e-01\n",
      "LF = 0.916, f=4.088e-01\n",
      "LF = 0.909, f=4.103e-01\n",
      "LF = 0.325, f=7.298e-01\n",
      "LF = 0.920, f=4.084e-01\n",
      "LF = 0.760, f=4.497e-01\n",
      "LF = 0.789, f=4.412e-01\n",
      "LF = 0.176, f=1.063e+00\n",
      "LF = 0.807, f=4.368e-01\n",
      "LF = 0.915, f=4.090e-01\n",
      "LF = 0.414, f=6.318e-01\n",
      "LF = 0.654, f=4.885e-01\n",
      "LF = 0.510, f=5.613e-01\n",
      "LF = 0.307, f=7.587e-01\n",
      "LF = 0.893, f=4.145e-01\n",
      "differential_evolution step 3: f(x)= 0.40470632953972585\n",
      "LF = 0.332, f=7.199e-01\n",
      "LF = 0.929, f=4.064e-01\n",
      "LF = 0.158, f=1.133e+00\n",
      "LF = 0.786, f=4.431e-01\n",
      "LF = 0.913, f=4.095e-01\n",
      "LF = 0.917, f=4.086e-01\n",
      "LF = 0.892, f=4.142e-01\n",
      "LF = 0.325, f=7.306e-01\n",
      "LF = 0.934, f=4.052e-01\n",
      "LF = 0.308, f=7.523e-01\n",
      "LF = 0.934, f=4.053e-01\n",
      "LF = 0.935, f=4.045e-01\n",
      "LF = 0.885, f=4.158e-01\n",
      "LF = 0.923, f=4.072e-01\n",
      "LF = 0.926, f=4.066e-01\n",
      "differential_evolution step 4: f(x)= 0.40447139372608587\n",
      "LF = 0.923, f=4.072e-01\n",
      "LF = 0.872, f=4.188e-01\n",
      "LF = 0.898, f=4.128e-01\n",
      "LF = 0.935, f=4.045e-01\n",
      "LF = 0.930, f=4.057e-01\n",
      "LF = 0.940, f=4.035e-01\n",
      "LF = 0.922, f=4.073e-01\n",
      "LF = 0.918, f=4.083e-01\n",
      "LF = 0.923, f=4.071e-01\n",
      "LF = 0.167, f=1.097e+00\n",
      "LF = 0.940, f=4.041e-01\n",
      "LF = 0.944, f=4.026e-01\n",
      "LF = 0.787, f=4.416e-01\n",
      "LF = 0.939, f=4.039e-01\n",
      "LF = 0.945, f=4.025e-01\n",
      "differential_evolution step 5: f(x)= 0.4024594202863617\n",
      "LF = 0.941, f=4.032e-01\n",
      "LF = 0.945, f=4.026e-01\n",
      "LF = 0.098, f=1.527e+00\n",
      "LF = 0.942, f=4.039e-01\n",
      "LF = 0.947, f=4.018e-01\n",
      "LF = 0.557, f=5.328e-01\n",
      "LF = 0.947, f=4.024e-01\n",
      "LF = 0.450, f=6.017e-01\n",
      "LF = 0.840, f=4.277e-01\n",
      "LF = 0.944, f=4.026e-01\n",
      "LF = 0.928, f=4.060e-01\n",
      "LF = 0.922, f=4.074e-01\n",
      "LF = 0.949, f=4.016e-01\n",
      "LF = 0.704, f=4.683e-01\n",
      "LF = 0.946, f=4.025e-01\n",
      "differential_evolution step 6: f(x)= 0.40158313085131603\n"
     ]
    }
   ],
   "source": [
    "from scipy.optimize import Bounds, differential_evolution\n",
    "\n",
    "# Minimum and maximum practical ranges\n",
    "# of initial liquid filling\n",
    "# 5% represent ballast voyage\n",
    "# 95% is the safety limit for potential liquid thermal expansion\n",
    "bounds = [(0.05, 0.95)]  # Bounds in differential_evolution are specified as a list of tuples\n",
    "\n",
    "# Define objective function\n",
    "def BOR_function(LF):\n",
    "\n",
    "    # Update liquid filling\n",
    "    mid_tank.LF = LF[0]  # LF is now an array, take the first element\n",
    "\n",
    "    # Execute simulation\n",
    "    mid_tank.evaporate(evap_time)\n",
    "\n",
    "    # Calculate objective function\n",
    "    f = 1 - mid_tank.data['V_L'][-1] / mid_tank.data['V_L'][0]\n",
    "    \n",
    "    print(\"LF = %.3f, f=%.3e\" % (LF[0], f))\n",
    "    return f    \n",
    "\n",
    "# Perform global optimization using differential evolution\n",
    "result = differential_evolution(BOR_function, bounds, strategy='best1bin', maxiter=1000, popsize=15, tol=1e-6, mutation=(0.5, 1), recombination=0.7, disp=True)\n",
    "\n",
    "# Results\n",
    "print(\"Best solution found: LF =\", result.x[0])\n",
    "print(\"Function value:\", result.fun)\n"
   ]
  },
  {
   "cell_type": "markdown",
   "metadata": {},
   "source": [
    "### Visualisation of results"
   ]
  },
  {
   "cell_type": "markdown",
   "metadata": {},
   "source": [
    "#### Vapour temperature"
   ]
  },
  {
   "cell_type": "code",
   "execution_count": null,
   "metadata": {},
   "outputs": [],
   "source": [
    "mid_tank.plot_tv(t_unit='h')"
   ]
  },
  {
   "cell_type": "markdown",
   "metadata": {},
   "source": [
    "Visualise liquid and vapour heat ingresses, $\\dot{Q}_{\\text{L}}$ and  $\\dot{Q}_{\\text{V}}$.\n",
    "\n",
    "The plot also shows the vapour to liquid heat ingress, $\\dot{Q}_{VL}$, and  the partition of the vapour heat ingress that is transferred to the interface by the wall directly, $\\dot{Q}_{\\text{V,w}}$"
   ]
  },
  {
   "cell_type": "code",
   "execution_count": null,
   "metadata": {},
   "outputs": [],
   "source": [
    "# Specify y-axis units as W, and time units to hours\n",
    "mid_tank.plot_Q(unit = 'W', t_unit = 'h')"
   ]
  },
  {
   "cell_type": "markdown",
   "metadata": {},
   "source": [
    "#### Plot liquid volume"
   ]
  },
  {
   "cell_type": "code",
   "execution_count": null,
   "metadata": {},
   "outputs": [],
   "source": [
    "mid_tank.plot_V_L(t_unit='h')"
   ]
  },
  {
   "cell_type": "markdown",
   "metadata": {},
   "source": [
    "#### Plot evaporation rate, $\\dot{B}_{\\text{L}}$, and boil-off gas rate, $\\dot{B}_{}$"
   ]
  },
  {
   "cell_type": "code",
   "execution_count": null,
   "metadata": {},
   "outputs": [],
   "source": [
    "mid_tank.plot_BOG(unit='kg/h', t_unit='h')"
   ]
  },
  {
   "cell_type": "markdown",
   "metadata": {},
   "source": [
    "Optional: CSV data export\n",
    "\n",
    "If evaporation data is intended to be post-processed in another software, it can be exported readily with the help of the Pandas package."
   ]
  },
  {
   "cell_type": "code",
   "execution_count": null,
   "metadata": {},
   "outputs": [],
   "source": [
    "# Import pandas \n",
    "import pandas as pd"
   ]
  },
  {
   "cell_type": "markdown",
   "metadata": {},
   "source": [
    "Plot average vapour and boil-off gas temperature"
   ]
  },
  {
   "cell_type": "code",
   "execution_count": null,
   "metadata": {},
   "outputs": [],
   "source": [
    "mid_tank.plot_tv_BOG(t_unit='h')"
   ]
  },
  {
   "cell_type": "markdown",
   "metadata": {},
   "source": [
    "#### References\n",
    "\n",
    "U.S. Department of Energy. (2021, October). DOE/NASA Advances in Liquid Hydrogen Storage Workshop. Retrieved from [https://www.energy.gov/sites/default/files/2021-10/new-lh2-sphere.pdf]"
   ]
  }
 ],
 "metadata": {
  "@webio": {
   "lastCommId": null,
   "lastKernelId": null
  },
  "kernelspec": {
   "display_name": "Python 3 (ipykernel)",
   "language": "python",
   "name": "python3"
  },
  "language_info": {
   "codemirror_mode": {
    "name": "ipython",
    "version": 3
   },
   "file_extension": ".py",
   "mimetype": "text/x-python",
   "name": "python",
   "nbconvert_exporter": "python",
   "pygments_lexer": "ipython3",
   "version": "3.9.19"
  }
 },
 "nbformat": 4,
 "nbformat_minor": 4
}
