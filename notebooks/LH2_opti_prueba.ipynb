{
 "cells": [
  {
   "cell_type": "markdown",
   "metadata": {},
   "source": [
    "#### Case 2: Liquid hydrogen ($LH_2$) in a 2033 $\\text{m}^3$ tank\n",
    "\n",
    "This application corresponds to liquid hydrogen storage in the NASA's Space Launch System. It consists of a 2033 $m^3$ storage tank [NASA](https://www.energy.gov/sites/default/files/2021-10/new-lh2-sphere.pdf) in a tank with 8.4 m diameter and 40 m height. It will be assumed the following operation scenarios:\n",
    "\n",
    "* Daily boil-off rate of 0.1%  \n",
    "* Storage at atmospheric pressure with continuous removal of boil-off gas\n",
    "\n",
    "For purposes of the example, it is assumed that the storage tank is passively insulated with perlite.\n",
    "\n",
    "03/09/2024: Illustration of how to use SciPy to optimise"
   ]
  },
  {
   "cell_type": "code",
   "execution_count": 1,
   "metadata": {},
   "outputs": [],
   "source": [
    "# Scientific computing\n",
    "import numpy as np\n",
    "\n",
    "# Visualisation\n",
    "import matplotlib.pyplot as plt\n",
    "\n",
    "# Import the storage tank Class\n",
    "from cryoevap.storage_tanks import Tank\n",
    "\n",
    "# Import Cryogen class\n",
    "from cryoevap.cryogens import Cryogen"
   ]
  },
  {
   "cell_type": "markdown",
   "metadata": {},
   "source": [
    "#### Setup tank and cryogen properties\n"
   ]
  },
  {
   "cell_type": "code",
   "execution_count": 2,
   "metadata": {},
   "outputs": [],
   "source": [
    "# Cylindrical storage tank properties\n",
    "Q_roof = 0 # Roof heat ingress / W\n",
    "d_i = 8 # Internal diameter / m\n",
    "d_o = 8.4   # External diameter / m\n",
    "T_air = 293.15 # Temperature of the environment K\n",
    "\n",
    "# Set overall heat transfer coefficient through the walls for liquid and vapour\n",
    "U_L = 3.73e-1 # W/m2/K\n",
    "U_V = 3.73e-1 # W/m2/K\n",
    "\n",
    "# Specify heat transfer rate at the bottom\n",
    "# This will represent the heat conduction from the piping system\n",
    "Q_b = 100 # W, \n",
    "\n",
    "# Specify wall heat partitioning fraction\n",
    "eta_w= 0.9\n",
    "\n",
    "# Vertically orientated cylindrical tank volume\n",
    "V_tank = 2033 #m^3\n",
    "\n",
    "\n",
    "LF = 0.95 # Initial liquid filling / Dimensionless\n",
    "\n",
    "# Aspect ratio\n",
    "a = 0.5\n",
    "\n",
    "# Diameter as a function of the aspect ratio\n",
    "d_i = (4*V_tank/(a*np.pi))**(1/3) # Internal diameter / m\n",
    "d_o = 1.02 * d_i   # External diameter / m\n",
    "T_air = 293.15 # Temperature of the environment K\n",
    "\n",
    "# Specify tank operating pressure\n",
    "P = 101325 # Pa\n",
    "\n",
    "# Initialize mid-scale tank\n",
    "mid_tank = Tank(d_i, d_o, V_tank, LF)\n",
    "mid_tank.set_HeatTransProps(U_L, U_V, T_air, Q_b, Q_roof, eta_w)\n",
    "\n",
    "# Keep the tank roof insulated\n",
    "# mid_tank.U_roof = U_V\n",
    "\n",
    "# Initialise cryogen\n",
    "hydrogen = Cryogen(name = \"hydrogen\")\n",
    "hydrogen.set_coolprops(P)\n",
    "\n",
    "# Set overall heat transfer coefficient through the walls for liquid and vapour\n",
    "U_L = 3.73e-3 # W/m2/K\n",
    "U_V = 3.73e-3 # W/m2/K\n",
    "\n",
    "# At the tank bottom, the driving force is constant\n",
    "q_b = U_L*(T_air - hydrogen.T_sat)\n",
    "\n",
    "# Bottom heat flow\n",
    "Q_b = q_b * np.pi * d_i**2/4 \n",
    "\n",
    "\n",
    "\n",
    "# Initialize mid-scale tank\n",
    "mid_tank = Tank(d_i, d_o, V_tank, LF)\n",
    "mid_tank.set_HeatTransProps(U_L, U_V, T_air, Q_b, Q_roof, eta_w= eta_w)\n",
    "\n",
    "# Keep the tank roof insulated\n",
    "mid_tank.U_roof = 0 \n",
    "\n",
    "# Set cryogen\n",
    "mid_tank.cryogen = hydrogen"
   ]
  },
  {
   "cell_type": "code",
   "execution_count": 3,
   "metadata": {},
   "outputs": [
    {
     "data": {
      "text/plain": [
       "70.84834590663857"
      ]
     },
     "execution_count": 3,
     "metadata": {},
     "output_type": "execute_result"
    }
   ],
   "source": [
    "hydrogen.rho_L"
   ]
  },
  {
   "cell_type": "markdown",
   "metadata": {},
   "source": [
    "Calculate initial evaporation rate and transient period"
   ]
  },
  {
   "cell_type": "code",
   "execution_count": 4,
   "metadata": {},
   "outputs": [
    {
     "name": "stdout",
     "output_type": "stream",
     "text": [
      "The initial evaporation rate of hydrogen is 5.8 kg/h\n",
      "Transient period = 167720.315 s \n",
      "Simulation time: 47 h\n",
      "BOR = 0.102 %\n",
      "Height:8.649596241688993\n"
     ]
    }
   ],
   "source": [
    "# Calculate initial evaporation rate\n",
    "print(\"The initial evaporation rate of \" + hydrogen.name + \" is %.1f kg/h\" % (mid_tank.b_l_dot * 3600))\n",
    "\n",
    "# Estimate transient period duration\n",
    "print(\"Transient period = %.3f s \" % mid_tank.tau)\n",
    "\n",
    "# Minimum number of hours to achieve steady state \n",
    "tau_h = (np.floor(mid_tank.tau / 3600) + 1)\n",
    "\n",
    "# Print simulation time of the transient period for short-term storage\n",
    "print(\"Simulation time: %.0i h\" % tau_h )\n",
    "\n",
    "# Calculate boil-off rate\n",
    "BOR = (mid_tank.b_l_dot * 24 * 3600) / (mid_tank.V * mid_tank.LF * mid_tank.cryogen.rho_L)\n",
    "print(\"BOR = %.3f %%\" % (BOR * 100))\n",
    "# Show dimensions of the tank\n",
    "tank_h = mid_tank.l\n",
    "print(f\"Height:{tank_h}\")"
   ]
  },
  {
   "cell_type": "markdown",
   "metadata": {},
   "source": [
    "### Simulation setup and execution"
   ]
  },
  {
   "cell_type": "markdown",
   "metadata": {},
   "source": [
    "### Define optimisation parameters"
   ]
  },
  {
   "cell_type": "code",
   "execution_count": null,
   "metadata": {},
   "outputs": [],
   "source": [
    "# Define vertical spacing\n",
    "dz = 0.025\n",
    "\n",
    "# Calculate number of nodes\n",
    "n_z = 1 + int(np.round(mid_tank.l_V/dz, 0))\n",
    "\n",
    "# Define dimensionless computational grid\n",
    "mid_tank.z_grid = np.linspace(0, 1, n_z)\n",
    "\n",
    "# Define evaporation time as the transient period\n",
    "evap_time = 3600*24*7*52\n",
    "\n",
    "# Time step to plot each vapour temperature profile\n",
    "mid_tank.plot_interval = evap_time/6\n",
    "\n",
    "mid_tank.time_interval = 60\n",
    "\n",
    "mid_tank.evaporate(evap_time)"
   ]
  },
  {
   "cell_type": "markdown",
   "metadata": {},
   "source": [
    "### Plot response surface"
   ]
  },
  {
   "cell_type": "markdown",
   "metadata": {},
   "source": [
    "### Visualisation of results"
   ]
  },
  {
   "cell_type": "code",
   "execution_count": 6,
   "metadata": {},
   "outputs": [
    {
     "data": {
      "image/png": "[encoded data removed]",
      "text/plain": [
       "<Figure size 432x288 with 1 Axes>"
      ]
     },
     "metadata": {
      "needs_background": "light"
     },
     "output_type": "display_data"
    },
    {
     "data": {
      "image/png": "[encoded data removed]",
      "text/plain": [
       "<Figure size 432x432 with 4 Axes>"
      ]
     },
     "metadata": {
      "needs_background": "light"
     },
     "output_type": "display_data"
    },
    {
     "data": {
      "image/png": "[encoded data removed]",
      "text/plain": [
       "<Figure size 432x288 with 1 Axes>"
      ]
     },
     "metadata": {
      "needs_background": "light"
     },
     "output_type": "display_data"
    },
    {
     "data": {
      "image/png": "[encoded data removed]",
      "text/plain": [
       "<Figure size 432x288 with 1 Axes>"
      ]
     },
     "metadata": {
      "needs_background": "light"
     },
     "output_type": "display_data"
    },
    {
     "data": {
      "image/png": "[encoded data removed]",
      "text/plain": [
       "<Figure size 288x288 with 1 Axes>"
      ]
     },
     "metadata": {
      "needs_background": "light"
     },
     "output_type": "display_data"
    }
   ],
   "source": [
    "mid_tank.plot_tv(t_unit='h')\n",
    "# Specify y-axis units as W, and time units to hours\n",
    "mid_tank.plot_Q(unit = 'W', t_unit = 'h')\n",
    "mid_tank.plot_BOG(unit='kg/h', t_unit='h')\n",
    "mid_tank.plot_V_L(t_unit='h')\n",
    "# Average vapour and BOG temperature\n",
    "mid_tank.plot_tv_BOG(t_unit='h')\n"
   ]
  },
  {
   "cell_type": "code",
   "execution_count": 7,
   "metadata": {},
   "outputs": [
    {
     "data": {
      "text/plain": [
       "Text(0, 0.5, 'BOG')"
      ]
     },
     "execution_count": 7,
     "metadata": {},
     "output_type": "execute_result"
    },
    {
     "data": {
      "image/png": "[encoded data removed]",
      "text/plain": [
       "<Figure size 432x288 with 2 Axes>"
      ]
     },
     "metadata": {
      "needs_background": "light"
     },
     "output_type": "display_data"
    }
   ],
   "source": [
    "# Liquid filling\n",
    "LF_vec = np.linspace(0.05, 0.95, 9)\n",
    "\n",
    "# BOR objective function\n",
    "f_list = []\n",
    "# Total BOG objective function\n",
    "f2_list = []\n",
    "\n",
    "for LFi in LF_vec:\n",
    "    # Update liquid filling\n",
    "    mid_tank.LF = LFi\n",
    "\n",
    "    # Execute simulation\n",
    "    mid_tank.evaporate(evap_time)\n",
    "\n",
    "    # Calculate objective function\n",
    "    f = 1 - mid_tank.data['V_L'][-1] / mid_tank.data['V_L'][0]\n",
    "\n",
    "    f2 = mid_tank.data['V_L'][0] - mid_tank.data['V_L'][1]\n",
    "\n",
    "    # Append to list\n",
    "    f_list.append(f)\n",
    "    f2_list.append(f2)\n",
    "\n",
    "f_list = np.array(f_list)\n",
    "f2_list = np.array(f2_list)\n",
    "\n",
    "fig, ax = plt.subplots(1,2)\n",
    "# Plot\n",
    "ax[0].plot(LF_vec, (100*f_list), 'ro')\n",
    "ax[0].set_xlabel('LF')\n",
    "ax[0].set_ylabel('BOR')\n",
    "    \n",
    "ax[1].plot(LF_vec, f2_list, 'ro')\n",
    "ax[1].set_xlabel('LF')\n",
    "ax[1].set_ylabel('BOG')"
   ]
  },
  {
   "cell_type": "markdown",
   "metadata": {},
   "source": []
  },
  {
   "cell_type": "markdown",
   "metadata": {},
   "source": [
    "### Aspect ratio"
   ]
  },
  {
   "cell_type": "code",
   "execution_count": null,
   "metadata": {},
   "outputs": [
    {
     "name": "stdout",
     "output_type": "stream",
     "text": [
      "l = %.3f m 6.153138191721197\n",
      "l = %.3f m 7.453996079145667\n",
      "l = %.3f m 8.649596241688993\n",
      "l = %.3f m 9.767498038443932\n",
      "l = %.3f m 10.824666520645287\n",
      "l = %.3f m 11.832481217402668\n",
      "l = %.3f m 12.799043213602106\n",
      "l = %.3f m 13.730378173157291\n",
      "l = %.3f m 14.631121692967858\n",
      "l = %.3f m 15.504936661323228\n",
      "l = %.3f m 16.35478103452604\n",
      "l = %.3f m 17.183087022077277\n",
      "l = %.3f m 17.991885218267818\n"
     ]
    },
    {
     "data": {
      "text/plain": [
       "Text(0, 0.5, 'BOG / kg / h')"
      ]
     },
     "execution_count": 6,
     "metadata": {},
     "output_type": "execute_result"
    },
    {
     "data": {
      "image/png": "[encoded data removed]",
      "text/plain": [
       "<Figure size 720x360 with 2 Axes>"
      ]
     },
     "metadata": {
      "needs_background": "light"
     },
     "output_type": "display_data"
    }
   ],
   "source": [
    "# Aspect ratio\n",
    "#a_vec = np.linspace(0.3, 1.5, 13)\n",
    "a_vec = np.linspace(0.3, 1.5, 13)\n",
    "\n",
    "# BOR objective function\n",
    "f_list = []\n",
    "# Total BOG objective function\n",
    "f2_list = []\n",
    "\n",
    "for a in a_vec:\n",
    "    # Update aspect ratio\n",
    "    mid_tank.LF = 0.9\n",
    "    # a = 0.5\n",
    "    d_i = (4*V_tank/(a*np.pi))**(1/3) # Internal diameter / m\n",
    "    mid_tank.d_i = d_i\n",
    "    mid_tank.d_o = 1.02 * d_i\n",
    "\n",
    "    # Update  heat flow\n",
    "    Q_b = q_b * np.pi * d_i**2/4 \n",
    "    \n",
    "    mid_tank.set_HeatTransProps(U_L, U_V, T_air, Q_b, Q_roof, eta_w= eta_w)\n",
    "    mid_tank.U_roof = 0 # Insulated roof\n",
    "    # Calculate number of nodes\n",
    "    #n_z = 1 + int(np.round(mid_tank.l_V/dz, 0))\n",
    "    # Define dimensionless computational grid\n",
    "    mid_tank.z_grid = np.linspace(0, 1, n_z)\n",
    "\n",
    "    mid_tank.evaporate(evap_time)\n",
    "\n",
    "    print(\"l = %.3f m\", mid_tank.l)\n",
    "    # Calculate objective function\n",
    "    f = 1 - mid_tank.data['V_L'][-1] / mid_tank.data['V_L'][0]\n",
    "\n",
    "    f2 = (mid_tank.data['V_L'][0] - mid_tank.data['V_L'][-1])/evap_time\n",
    "\n",
    "    # Append to list\n",
    "    f_list.append(f)\n",
    "    f2_list.append(f2)\n",
    "\n",
    "f_list = np.array(f_list)\n",
    "f2_list = np.array(f2_list)\n",
    "\n",
    "fig, ax = plt.subplots(1,2, figsize = [10,5])\n",
    "# Plot\n",
    "ax[0].plot(a_vec, (100*f_list), 'ro')\n",
    "ax[0].set_xlabel('a=L/D')\n",
    "ax[0].set_ylabel('BOR')\n",
    "    \n",
    "ax[1].plot(a_vec, (3600*f2_list), 'ro')\n",
    "ax[1].set_xlabel('a=L/D')\n",
    "ax[1].set_ylabel('BOG / kg / h')"
   ]
  },
  {
   "cell_type": "code",
   "execution_count": null,
   "metadata": {},
   "outputs": [],
   "source": [
    "mid_tank.Q_L_in"
   ]
  },
  {
   "cell_type": "code",
   "execution_count": null,
   "metadata": {},
   "outputs": [],
   "source": [
    "mid_tank.Q_b"
   ]
  },
  {
   "cell_type": "code",
   "execution_count": null,
   "metadata": {},
   "outputs": [],
   "source": [
    "from scipy.optimize import Bounds, minimize\n",
    "\n",
    "# Minimum and maximum practical ranges\n",
    "# of initial liquid filling\n",
    "\n",
    "# 5% represent ballast voyage\n",
    "# 95% is the safety limit for potential liquid thermal expansion\n",
    "bounds = Bounds([0.05], [0.95])\n",
    "\n",
    "# Define objective function\n",
    "def BOR_function(LF):\n",
    "\n",
    "    # Update liquid filling\n",
    "    mid_tank.LF = LF\n",
    "\n",
    "    # Execute simulation\n",
    "    mid_tank.evaporate(evap_time)\n",
    "\n",
    "    # Calculate objective function\n",
    "    f = 1 - mid_tank.data['V_L'][-1] / mid_tank.data['V_L'][0]\n",
    "    \n",
    "    print(\"LF = %.3f, f=%.3e\" % (LF, f))\n",
    "    return f    \n",
    "\n",
    "# Initial liquid filling to optimise\n",
    "\n",
    "x0 = 0.9 \n",
    "res = minimize(BOR_function, x0, method='trust-constr', options={'verbose': 1}, bounds=bounds)"
   ]
  },
  {
   "cell_type": "code",
   "execution_count": 6,
   "metadata": {},
   "outputs": [
    {
     "data": {
      "text/plain": [
       "           message: `xtol` termination condition is satisfied.\n",
       "           success: True\n",
       "            status: 2\n",
       "               fun: 0.4569300159308297\n",
       "                 x: [ 7.383e-01]\n",
       "               nit: 144\n",
       "              nfev: 110\n",
       "              njev: 55\n",
       "              nhev: 0\n",
       "          cg_niter: 132\n",
       "      cg_stop_cond: 1\n",
       "              grad: [ 2.919e-02]\n",
       "   lagrangian_grad: [ 1.148e-03]\n",
       "            constr: [array([ 7.383e-01])]\n",
       "               jac: [<1x1 sparse matrix of type '<class 'numpy.float64'>'\n",
       "                    \twith 1 stored elements in Compressed Sparse Row format>]\n",
       "       constr_nfev: [0]\n",
       "       constr_njev: [0]\n",
       "       constr_nhev: [0]\n",
       "                 v: [array([-2.804e-02])]\n",
       "            method: tr_interior_point\n",
       "        optimality: 0.0011481466233907792\n",
       "  constr_violation: 0.0\n",
       "    execution_time: 510.5199148654938\n",
       "         tr_radius: 1.0000000000000005e-09\n",
       "    constr_penalty: 1.0\n",
       " barrier_parameter: 2.048000000000001e-09\n",
       " barrier_tolerance: 2.048000000000001e-09\n",
       "             niter: 144"
      ]
     },
     "execution_count": 6,
     "metadata": {},
     "output_type": "execute_result"
    }
   ],
   "source": [
    "res"
   ]
  },
  {
   "cell_type": "markdown",
   "metadata": {},
   "source": [
    "Global optimisation"
   ]
  },
  {
   "cell_type": "code",
   "execution_count": 7,
   "metadata": {},
   "outputs": [
    {
     "name": "stdout",
     "output_type": "stream",
     "text": [
      "LF = 0.783, f=4.429e-01\n",
      "LF = 0.142, f=1.219e+00\n",
      "LF = 0.368, f=6.833e-01\n",
      "LF = 0.435, f=6.172e-01\n",
      "LF = 0.707, f=4.682e-01\n",
      "LF = 0.560, f=5.319e-01\n",
      "LF = 0.871, f=4.196e-01\n",
      "LF = 0.723, f=4.617e-01\n",
      "LF = 0.253, f=8.520e-01\n",
      "LF = 0.318, f=7.461e-01\n",
      "LF = 0.488, f=5.772e-01\n",
      "LF = 0.199, f=9.915e-01\n",
      "LF = 0.637, f=4.964e-01\n",
      "LF = 0.934, f=4.050e-01\n",
      "LF = 0.084, f=1.672e+00\n",
      "LF = 0.760, f=4.514e-01\n",
      "LF = 0.582, f=5.202e-01\n",
      "LF = 0.554, f=5.358e-01\n",
      "LF = 0.567, f=5.287e-01\n",
      "LF = 0.500, f=5.681e-01\n",
      "LF = 0.164, f=1.122e+00\n",
      "LF = 0.887, f=4.163e-01\n",
      "LF = 0.133, f=1.260e+00\n",
      "LF = 0.937, f=4.048e-01\n",
      "LF = 0.897, f=4.129e-01\n",
      "LF = 0.103, f=1.489e+00\n",
      "LF = 0.864, f=4.220e-01\n",
      "LF = 0.931, f=4.054e-01\n",
      "LF = 0.863, f=4.210e-01\n",
      "LF = 0.904, f=4.114e-01\n",
      "differential_evolution step 1: f(x)= 0.4047787838656154\n",
      "LF = 0.934, f=4.047e-01\n",
      "LF = 0.779, f=4.440e-01\n",
      "LF = 0.473, f=5.859e-01\n",
      "LF = 0.882, f=4.171e-01\n",
      "LF = 0.925, f=4.068e-01\n",
      "LF = 0.786, f=4.418e-01\n",
      "LF = 0.801, f=4.378e-01\n",
      "LF = 0.935, f=4.047e-01\n",
      "LF = 0.600, f=5.110e-01\n",
      "LF = 0.509, f=5.619e-01\n",
      "LF = 0.501, f=5.673e-01\n",
      "LF = 0.623, f=5.017e-01\n",
      "LF = 0.861, f=4.218e-01\n",
      "LF = 0.906, f=4.110e-01\n",
      "LF = 0.847, f=4.252e-01\n",
      "differential_evolution step 2: f(x)= 0.40470632953972585\n",
      "LF = 0.891, f=4.144e-01\n",
      "LF = 0.916, f=4.088e-01\n",
      "LF = 0.909, f=4.103e-01\n",
      "LF = 0.325, f=7.298e-01\n",
      "LF = 0.920, f=4.084e-01\n",
      "LF = 0.760, f=4.497e-01\n",
      "LF = 0.789, f=4.412e-01\n",
      "LF = 0.176, f=1.063e+00\n",
      "LF = 0.807, f=4.368e-01\n",
      "LF = 0.915, f=4.090e-01\n",
      "LF = 0.414, f=6.318e-01\n",
      "LF = 0.654, f=4.885e-01\n",
      "LF = 0.510, f=5.613e-01\n",
      "LF = 0.307, f=7.587e-01\n",
      "LF = 0.893, f=4.145e-01\n",
      "differential_evolution step 3: f(x)= 0.40470632953972585\n",
      "LF = 0.332, f=7.199e-01\n",
      "LF = 0.929, f=4.064e-01\n",
      "LF = 0.158, f=1.133e+00\n",
      "LF = 0.786, f=4.431e-01\n",
      "LF = 0.913, f=4.095e-01\n",
      "LF = 0.917, f=4.086e-01\n",
      "LF = 0.892, f=4.142e-01\n",
      "LF = 0.325, f=7.306e-01\n",
      "LF = 0.934, f=4.052e-01\n",
      "LF = 0.308, f=7.523e-01\n",
      "LF = 0.934, f=4.053e-01\n",
      "LF = 0.935, f=4.045e-01\n",
      "LF = 0.885, f=4.158e-01\n",
      "LF = 0.923, f=4.072e-01\n",
      "LF = 0.926, f=4.066e-01\n",
      "differential_evolution step 4: f(x)= 0.40447139372608587\n",
      "LF = 0.923, f=4.072e-01\n",
      "LF = 0.872, f=4.188e-01\n",
      "LF = 0.898, f=4.128e-01\n",
      "LF = 0.935, f=4.045e-01\n",
      "LF = 0.930, f=4.057e-01\n",
      "LF = 0.940, f=4.035e-01\n",
      "LF = 0.922, f=4.073e-01\n",
      "LF = 0.918, f=4.083e-01\n",
      "LF = 0.923, f=4.071e-01\n",
      "LF = 0.167, f=1.097e+00\n",
      "LF = 0.940, f=4.041e-01\n",
      "LF = 0.944, f=4.026e-01\n",
      "LF = 0.787, f=4.416e-01\n",
      "LF = 0.939, f=4.039e-01\n",
      "LF = 0.945, f=4.025e-01\n",
      "differential_evolution step 5: f(x)= 0.4024594202863617\n",
      "LF = 0.941, f=4.032e-01\n",
      "LF = 0.945, f=4.026e-01\n",
      "LF = 0.098, f=1.527e+00\n",
      "LF = 0.942, f=4.039e-01\n",
      "LF = 0.947, f=4.018e-01\n",
      "LF = 0.557, f=5.328e-01\n",
      "LF = 0.947, f=4.024e-01\n",
      "LF = 0.450, f=6.017e-01\n",
      "LF = 0.840, f=4.277e-01\n",
      "LF = 0.944, f=4.026e-01\n",
      "LF = 0.928, f=4.060e-01\n",
      "LF = 0.922, f=4.074e-01\n",
      "LF = 0.949, f=4.016e-01\n",
      "LF = 0.704, f=4.683e-01\n",
      "LF = 0.946, f=4.025e-01\n",
      "differential_evolution step 6: f(x)= 0.40158313085131603\n",
      "LF = 0.948, f=4.017e-01\n",
      "LF = 0.949, f=4.017e-01\n",
      "LF = 0.637, f=4.944e-01\n",
      "LF = 0.490, f=5.744e-01\n",
      "LF = 0.918, f=4.087e-01\n",
      "LF = 0.920, f=4.078e-01\n",
      "LF = 0.918, f=4.083e-01\n",
      "LF = 0.949, f=4.015e-01\n",
      "LF = 0.946, f=4.022e-01\n",
      "LF = 0.922, f=4.073e-01\n",
      "LF = 0.919, f=4.081e-01\n",
      "LF = 0.177, f=1.057e+00\n",
      "LF = 0.945, f=4.030e-01\n",
      "LF = 0.368, f=6.764e-01\n",
      "LF = 0.361, f=6.898e-01\n",
      "differential_evolution step 7: f(x)= 0.4015363316562427\n",
      "LF = 0.942, f=4.035e-01\n",
      "LF = 0.946, f=4.023e-01\n",
      "LF = 0.795, f=4.394e-01\n",
      "LF = 0.946, f=4.024e-01\n",
      "LF = 0.947, f=4.020e-01\n",
      "LF = 0.948, f=4.019e-01\n",
      "LF = 0.416, f=6.298e-01\n",
      "LF = 0.705, f=4.689e-01\n",
      "LF = 0.910, f=4.102e-01\n",
      "LF = 0.949, f=4.016e-01\n",
      "LF = 0.921, f=4.075e-01\n",
      "LF = 0.949, f=4.016e-01\n",
      "LF = 0.946, f=4.023e-01\n",
      "LF = 0.657, f=4.862e-01\n",
      "LF = 0.142, f=1.225e+00\n",
      "differential_evolution step 8: f(x)= 0.4015363316562427\n",
      "LF = 0.949, f=4.022e-01\n",
      "LF = 0.947, f=4.020e-01\n",
      "LF = 0.949, f=4.016e-01\n",
      "LF = 0.950, f=4.015e-01\n",
      "LF = 0.946, f=4.022e-01\n",
      "LF = 0.078, f=1.763e+00\n",
      "LF = 0.948, f=4.026e-01\n",
      "LF = 0.949, f=4.014e-01\n",
      "LF = 0.141, f=1.221e+00\n",
      "LF = 0.949, f=4.024e-01\n",
      "LF = 0.949, f=4.016e-01\n",
      "LF = 0.774, f=4.453e-01\n",
      "LF = 0.948, f=4.019e-01\n",
      "LF = 0.613, f=5.052e-01\n",
      "LF = 0.613, f=5.062e-01\n",
      "differential_evolution step 9: f(x)= 0.40141530240533574\n",
      "LF = 0.513, f=5.592e-01\n",
      "LF = 0.949, f=4.020e-01\n",
      "LF = 0.625, f=4.996e-01\n",
      "LF = 0.137, f=1.254e+00\n",
      "LF = 0.943, f=4.036e-01\n",
      "LF = 0.948, f=4.016e-01\n",
      "LF = 0.949, f=4.016e-01\n",
      "LF = 0.711, f=4.660e-01\n",
      "LF = 0.948, f=4.020e-01\n",
      "LF = 0.949, f=4.016e-01\n",
      "LF = 0.081, f=1.721e+00\n",
      "LF = 0.121, f=1.392e+00\n",
      "LF = 0.949, f=4.024e-01\n",
      "LF = 0.949, f=4.015e-01\n",
      "LF = 0.949, f=4.015e-01\n",
      "differential_evolution step 10: f(x)= 0.40141530240533574\n",
      "LF = 0.451, f=6.015e-01\n",
      "LF = 0.249, f=8.643e-01\n",
      "LF = 0.950, f=4.020e-01\n",
      "LF = 0.600, f=5.111e-01\n",
      "LF = 0.949, f=4.018e-01\n",
      "LF = 0.950, f=4.014e-01\n",
      "LF = 0.949, f=4.015e-01\n",
      "LF = 0.950, f=4.014e-01\n",
      "LF = 0.949, f=4.016e-01\n",
      "LF = 0.950, f=4.014e-01\n",
      "LF = 0.949, f=4.016e-01\n",
      "LF = 0.949, f=4.016e-01\n",
      "LF = 0.949, f=4.015e-01\n",
      "LF = 0.949, f=4.015e-01\n",
      "LF = 0.949, f=4.016e-01\n",
      "differential_evolution step 11: f(x)= 0.40141530240533574\n",
      "LF = 0.949, f=4.015e-01\n",
      "LF = 0.950, f=4.014e-01\n",
      "LF = 0.949, f=4.016e-01\n",
      "LF = 0.949, f=4.015e-01\n",
      "LF = 0.950, f=4.014e-01\n",
      "LF = 0.370, f=6.752e-01\n",
      "LF = 0.317, f=7.461e-01\n",
      "LF = 0.950, f=4.019e-01\n",
      "LF = 0.950, f=4.014e-01\n",
      "LF = 0.708, f=4.671e-01\n",
      "LF = 0.102, f=1.509e+00\n",
      "LF = 0.950, f=4.022e-01\n",
      "LF = 0.950, f=4.014e-01\n",
      "LF = 0.950, f=4.015e-01\n",
      "LF = 0.950, f=4.015e-01\n",
      "differential_evolution step 12: f(x)= 0.4014069123546573\n",
      "LF = 0.949, f=4.015e-01\n",
      "LF = 0.949, f=4.016e-01\n",
      "LF = 0.949, f=4.016e-01\n",
      "LF = 0.949, f=4.016e-01\n",
      "LF = 0.950, f=4.015e-01\n",
      "LF = 0.950, f=4.015e-01\n",
      "LF = 0.949, f=4.015e-01\n",
      "LF = 0.949, f=4.016e-01\n",
      "LF = 0.950, f=4.015e-01\n",
      "LF = 0.949, f=4.015e-01\n",
      "LF = 0.949, f=4.016e-01\n",
      "LF = 0.949, f=4.015e-01\n",
      "LF = 0.949, f=4.015e-01\n",
      "LF = 0.949, f=4.015e-01\n",
      "LF = 0.949, f=4.016e-01\n",
      "differential_evolution step 13: f(x)= 0.4014069123546573\n",
      "LF = 0.950, f=4.015e-01\n",
      "LF = 0.949, f=4.015e-01\n",
      "LF = 0.676, f=4.788e-01\n",
      "LF = 0.950, f=4.017e-01\n",
      "LF = 0.817, f=4.329e-01\n",
      "LF = 0.950, f=4.016e-01\n",
      "LF = 0.391, f=6.534e-01\n",
      "LF = 0.950, f=4.019e-01\n",
      "LF = 0.950, f=4.015e-01\n",
      "LF = 0.949, f=4.016e-01\n",
      "LF = 0.950, f=4.015e-01\n",
      "LF = 0.949, f=4.016e-01\n",
      "LF = 0.949, f=4.015e-01\n",
      "LF = 0.950, f=4.015e-01\n",
      "LF = 0.949, f=4.016e-01\n",
      "differential_evolution step 14: f(x)= 0.4014069123546573\n",
      "LF = 0.949, f=4.016e-01\n",
      "LF = 0.949, f=4.015e-01\n",
      "LF = 0.949, f=4.016e-01\n",
      "LF = 0.949, f=4.015e-01\n",
      "LF = 0.950, f=4.015e-01\n",
      "LF = 0.950, f=4.015e-01\n",
      "LF = 0.950, f=4.014e-01\n",
      "LF = 0.950, f=4.015e-01\n",
      "LF = 0.950, f=4.015e-01\n",
      "LF = 0.949, f=4.016e-01\n",
      "LF = 0.950, f=4.015e-01\n",
      "LF = 0.949, f=4.015e-01\n",
      "LF = 0.949, f=4.015e-01\n",
      "LF = 0.950, f=4.015e-01\n",
      "LF = 0.949, f=4.015e-01\n",
      "differential_evolution step 15: f(x)= 0.4014069123546573\n",
      "LF = 0.950, f=4.015e-01\n",
      "LF = 0.950, f=4.015e-01\n",
      "LF = 0.950, f=4.015e-01\n",
      "LF = 0.950, f=4.014e-01\n",
      "LF = 0.950, f=4.015e-01\n",
      "LF = 0.949, f=4.015e-01\n",
      "LF = 0.950, f=4.015e-01\n",
      "LF = 0.950, f=4.014e-01\n",
      "LF = 0.950, f=4.015e-01\n",
      "LF = 0.949, f=4.015e-01\n",
      "LF = 0.949, f=4.016e-01\n",
      "LF = 0.949, f=4.015e-01\n",
      "LF = 0.949, f=4.015e-01\n",
      "LF = 0.949, f=4.015e-01\n",
      "LF = 0.950, f=4.015e-01\n",
      "differential_evolution step 16: f(x)= 0.4014069123546573\n",
      "LF = 0.949, f=4.016e-01\n",
      "LF = 0.950, f=4.015e-01\n",
      "LF = 0.950, f=4.015e-01\n",
      "LF = 0.950, f=4.015e-01\n",
      "LF = 0.950, f=4.015e-01\n",
      "LF = 0.950, f=4.015e-01\n",
      "LF = 0.950, f=4.015e-01\n",
      "LF = 0.949, f=4.016e-01\n",
      "LF = 0.949, f=4.016e-01\n",
      "LF = 0.950, f=4.015e-01\n",
      "LF = 0.949, f=4.016e-01\n",
      "LF = 0.949, f=4.015e-01\n",
      "LF = 0.950, f=4.015e-01\n",
      "LF = 0.950, f=4.015e-01\n",
      "LF = 0.950, f=4.014e-01\n",
      "differential_evolution step 17: f(x)= 0.4014069123546573\n",
      "LF = 0.949, f=4.016e-01\n",
      "LF = 0.950, f=4.014e-01\n",
      "LF = 0.950, f=4.014e-01\n",
      "LF = 0.950, f=4.015e-01\n",
      "LF = 0.950, f=4.015e-01\n",
      "LF = 0.950, f=4.015e-01\n",
      "LF = 0.949, f=4.016e-01\n",
      "LF = 0.949, f=4.015e-01\n",
      "LF = 0.950, f=4.015e-01\n",
      "LF = 0.950, f=4.015e-01\n",
      "LF = 0.950, f=4.015e-01\n",
      "LF = 0.949, f=4.015e-01\n",
      "LF = 0.950, f=4.014e-01\n",
      "LF = 0.950, f=4.015e-01\n",
      "LF = 0.950, f=4.015e-01\n",
      "differential_evolution step 18: f(x)= 0.4014069123546573\n",
      "LF = 0.950, f=4.015e-01\n",
      "LF = 0.950, f=4.015e-01\n",
      "LF = 0.949, f=4.016e-01\n",
      "LF = 0.950, f=4.015e-01\n",
      "LF = 0.950, f=4.015e-01\n",
      "LF = 0.950, f=4.015e-01\n",
      "LF = 0.950, f=4.015e-01\n",
      "LF = 0.950, f=4.014e-01\n",
      "LF = 0.949, f=4.016e-01\n",
      "LF = 0.950, f=4.015e-01\n",
      "LF = 0.949, f=4.015e-01\n",
      "LF = 0.950, f=4.015e-01\n",
      "LF = 0.950, f=4.015e-01\n",
      "LF = 0.949, f=4.016e-01\n",
      "LF = 0.950, f=4.015e-01\n",
      "differential_evolution step 19: f(x)= 0.4014069123546573\n",
      "LF = 0.950, f=4.015e-01\n",
      "LF = 0.949, f=4.016e-01\n",
      "LF = 0.950, f=4.015e-01\n",
      "LF = 0.950, f=4.014e-01\n",
      "LF = 0.949, f=4.015e-01\n",
      "LF = 0.950, f=4.015e-01\n",
      "LF = 0.949, f=4.016e-01\n",
      "LF = 0.950, f=4.015e-01\n",
      "LF = 0.949, f=4.015e-01\n",
      "LF = 0.950, f=4.015e-01\n",
      "LF = 0.949, f=4.016e-01\n",
      "LF = 0.949, f=4.016e-01\n",
      "LF = 0.949, f=4.015e-01\n",
      "LF = 0.950, f=4.015e-01\n",
      "LF = 0.950, f=4.015e-01\n",
      "differential_evolution step 20: f(x)= 0.4014069123546573\n",
      "LF = 0.950, f=4.015e-01\n",
      "LF = 0.949, f=4.015e-01\n",
      "LF = 0.949, f=4.016e-01\n",
      "LF = 0.950, f=4.015e-01\n",
      "LF = 0.949, f=4.015e-01\n"
     ]
    },
    {
     "ename": "KeyboardInterrupt",
     "evalue": "",
     "output_type": "error",
     "traceback": [
      "\u001b[0;31m---------------------------------------------------------------------------\u001b[0m",
      "\u001b[0;31mKeyboardInterrupt\u001b[0m                         Traceback (most recent call last)",
      "Cell \u001b[0;32mIn[7], line 25\u001b[0m\n\u001b[1;32m     22\u001b[0m     \u001b[38;5;28;01mreturn\u001b[39;00m f    \n\u001b[1;32m     24\u001b[0m \u001b[38;5;66;03m# Perform global optimization using differential evolution\u001b[39;00m\n\u001b[0;32m---> 25\u001b[0m result \u001b[38;5;241m=\u001b[39m \u001b[43mdifferential_evolution\u001b[49m\u001b[43m(\u001b[49m\u001b[43mBOR_function\u001b[49m\u001b[43m,\u001b[49m\u001b[43m \u001b[49m\u001b[43mbounds\u001b[49m\u001b[43m,\u001b[49m\u001b[43m \u001b[49m\u001b[43mstrategy\u001b[49m\u001b[38;5;241;43m=\u001b[39;49m\u001b[38;5;124;43m'\u001b[39;49m\u001b[38;5;124;43mbest1bin\u001b[39;49m\u001b[38;5;124;43m'\u001b[39;49m\u001b[43m,\u001b[49m\u001b[43m \u001b[49m\u001b[43mmaxiter\u001b[49m\u001b[38;5;241;43m=\u001b[39;49m\u001b[38;5;241;43m1000\u001b[39;49m\u001b[43m,\u001b[49m\u001b[43m \u001b[49m\u001b[43mpopsize\u001b[49m\u001b[38;5;241;43m=\u001b[39;49m\u001b[38;5;241;43m15\u001b[39;49m\u001b[43m,\u001b[49m\u001b[43m \u001b[49m\u001b[43mtol\u001b[49m\u001b[38;5;241;43m=\u001b[39;49m\u001b[38;5;241;43m1e-6\u001b[39;49m\u001b[43m,\u001b[49m\u001b[43m \u001b[49m\u001b[43mmutation\u001b[49m\u001b[38;5;241;43m=\u001b[39;49m\u001b[43m(\u001b[49m\u001b[38;5;241;43m0.5\u001b[39;49m\u001b[43m,\u001b[49m\u001b[43m \u001b[49m\u001b[38;5;241;43m1\u001b[39;49m\u001b[43m)\u001b[49m\u001b[43m,\u001b[49m\u001b[43m \u001b[49m\u001b[43mrecombination\u001b[49m\u001b[38;5;241;43m=\u001b[39;49m\u001b[38;5;241;43m0.7\u001b[39;49m\u001b[43m,\u001b[49m\u001b[43m \u001b[49m\u001b[43mdisp\u001b[49m\u001b[38;5;241;43m=\u001b[39;49m\u001b[38;5;28;43;01mTrue\u001b[39;49;00m\u001b[43m)\u001b[49m\n\u001b[1;32m     27\u001b[0m \u001b[38;5;66;03m# Results\u001b[39;00m\n\u001b[1;32m     28\u001b[0m \u001b[38;5;28mprint\u001b[39m(\u001b[38;5;124m\"\u001b[39m\u001b[38;5;124mBest solution found: LF =\u001b[39m\u001b[38;5;124m\"\u001b[39m, result\u001b[38;5;241m.\u001b[39mx[\u001b[38;5;241m0\u001b[39m])\n",
      "File \u001b[0;32m~/anaconda3/lib/python3.9/site-packages/scipy/optimize/_differentialevolution.py:502\u001b[0m, in \u001b[0;36mdifferential_evolution\u001b[0;34m(func, bounds, args, strategy, maxiter, popsize, tol, mutation, recombination, seed, callback, disp, polish, init, atol, updating, workers, constraints, x0, integrality, vectorized)\u001b[0m\n\u001b[1;32m    485\u001b[0m \u001b[38;5;66;03m# using a context manager means that any created Pool objects are\u001b[39;00m\n\u001b[1;32m    486\u001b[0m \u001b[38;5;66;03m# cleared up.\u001b[39;00m\n\u001b[1;32m    487\u001b[0m \u001b[38;5;28;01mwith\u001b[39;00m DifferentialEvolutionSolver(func, bounds, args\u001b[38;5;241m=\u001b[39margs,\n\u001b[1;32m    488\u001b[0m                                  strategy\u001b[38;5;241m=\u001b[39mstrategy,\n\u001b[1;32m    489\u001b[0m                                  maxiter\u001b[38;5;241m=\u001b[39mmaxiter,\n\u001b[0;32m   (...)\u001b[0m\n\u001b[1;32m    500\u001b[0m                                  integrality\u001b[38;5;241m=\u001b[39mintegrality,\n\u001b[1;32m    501\u001b[0m                                  vectorized\u001b[38;5;241m=\u001b[39mvectorized) \u001b[38;5;28;01mas\u001b[39;00m solver:\n\u001b[0;32m--> 502\u001b[0m     ret \u001b[38;5;241m=\u001b[39m \u001b[43msolver\u001b[49m\u001b[38;5;241;43m.\u001b[39;49m\u001b[43msolve\u001b[49m\u001b[43m(\u001b[49m\u001b[43m)\u001b[49m\n\u001b[1;32m    504\u001b[0m \u001b[38;5;28;01mreturn\u001b[39;00m ret\n",
      "File \u001b[0;32m~/anaconda3/lib/python3.9/site-packages/scipy/optimize/_differentialevolution.py:1164\u001b[0m, in \u001b[0;36mDifferentialEvolutionSolver.solve\u001b[0;34m(self)\u001b[0m\n\u001b[1;32m   1161\u001b[0m \u001b[38;5;28;01mfor\u001b[39;00m nit \u001b[38;5;129;01min\u001b[39;00m \u001b[38;5;28mrange\u001b[39m(\u001b[38;5;241m1\u001b[39m, \u001b[38;5;28mself\u001b[39m\u001b[38;5;241m.\u001b[39mmaxiter \u001b[38;5;241m+\u001b[39m \u001b[38;5;241m1\u001b[39m):\n\u001b[1;32m   1162\u001b[0m     \u001b[38;5;66;03m# evolve the population by a generation\u001b[39;00m\n\u001b[1;32m   1163\u001b[0m     \u001b[38;5;28;01mtry\u001b[39;00m:\n\u001b[0;32m-> 1164\u001b[0m         \u001b[38;5;28;43mnext\u001b[39;49m\u001b[43m(\u001b[49m\u001b[38;5;28;43mself\u001b[39;49m\u001b[43m)\u001b[49m\n\u001b[1;32m   1165\u001b[0m     \u001b[38;5;28;01mexcept\u001b[39;00m \u001b[38;5;167;01mStopIteration\u001b[39;00m:\n\u001b[1;32m   1166\u001b[0m         warning_flag \u001b[38;5;241m=\u001b[39m \u001b[38;5;28;01mTrue\u001b[39;00m\n",
      "File \u001b[0;32m~/anaconda3/lib/python3.9/site-packages/scipy/optimize/_differentialevolution.py:1578\u001b[0m, in \u001b[0;36mDifferentialEvolutionSolver.__next__\u001b[0;34m(self)\u001b[0m\n\u001b[1;32m   1576\u001b[0m     feasible \u001b[38;5;241m=\u001b[39m \u001b[38;5;28;01mTrue\u001b[39;00m\n\u001b[1;32m   1577\u001b[0m     cv \u001b[38;5;241m=\u001b[39m np\u001b[38;5;241m.\u001b[39matleast_2d([\u001b[38;5;241m0.\u001b[39m])\n\u001b[0;32m-> 1578\u001b[0m     energy \u001b[38;5;241m=\u001b[39m \u001b[38;5;28;43mself\u001b[39;49m\u001b[38;5;241;43m.\u001b[39;49m\u001b[43mfunc\u001b[49m\u001b[43m(\u001b[49m\u001b[43mparameters\u001b[49m\u001b[43m)\u001b[49m\n\u001b[1;32m   1579\u001b[0m     \u001b[38;5;28mself\u001b[39m\u001b[38;5;241m.\u001b[39m_nfev \u001b[38;5;241m+\u001b[39m\u001b[38;5;241m=\u001b[39m \u001b[38;5;241m1\u001b[39m\n\u001b[1;32m   1581\u001b[0m \u001b[38;5;66;03m# compare trial and population member\u001b[39;00m\n",
      "File \u001b[0;32m~/anaconda3/lib/python3.9/site-packages/scipy/_lib/_util.py:441\u001b[0m, in \u001b[0;36m_FunctionWrapper.__call__\u001b[0;34m(self, x)\u001b[0m\n\u001b[1;32m    440\u001b[0m \u001b[38;5;28;01mdef\u001b[39;00m \u001b[38;5;21m__call__\u001b[39m(\u001b[38;5;28mself\u001b[39m, x):\n\u001b[0;32m--> 441\u001b[0m     \u001b[38;5;28;01mreturn\u001b[39;00m \u001b[38;5;28;43mself\u001b[39;49m\u001b[38;5;241;43m.\u001b[39;49m\u001b[43mf\u001b[49m\u001b[43m(\u001b[49m\u001b[43mx\u001b[49m\u001b[43m,\u001b[49m\u001b[43m \u001b[49m\u001b[38;5;241;43m*\u001b[39;49m\u001b[38;5;28;43mself\u001b[39;49m\u001b[38;5;241;43m.\u001b[39;49m\u001b[43margs\u001b[49m\u001b[43m)\u001b[49m\n",
      "Cell \u001b[0;32mIn[7], line 16\u001b[0m, in \u001b[0;36mBOR_function\u001b[0;34m(LF)\u001b[0m\n\u001b[1;32m     13\u001b[0m mid_tank\u001b[38;5;241m.\u001b[39mLF \u001b[38;5;241m=\u001b[39m LF[\u001b[38;5;241m0\u001b[39m]  \u001b[38;5;66;03m# LF is now an array, take the first element\u001b[39;00m\n\u001b[1;32m     15\u001b[0m \u001b[38;5;66;03m# Execute simulation\u001b[39;00m\n\u001b[0;32m---> 16\u001b[0m \u001b[43mmid_tank\u001b[49m\u001b[38;5;241;43m.\u001b[39;49m\u001b[43mevaporate\u001b[49m\u001b[43m(\u001b[49m\u001b[43mevap_time\u001b[49m\u001b[43m)\u001b[49m\n\u001b[1;32m     18\u001b[0m \u001b[38;5;66;03m# Calculate objective function\u001b[39;00m\n\u001b[1;32m     19\u001b[0m f \u001b[38;5;241m=\u001b[39m \u001b[38;5;241m1\u001b[39m \u001b[38;5;241m-\u001b[39m mid_tank\u001b[38;5;241m.\u001b[39mdata[\u001b[38;5;124m'\u001b[39m\u001b[38;5;124mV_L\u001b[39m\u001b[38;5;124m'\u001b[39m][\u001b[38;5;241m-\u001b[39m\u001b[38;5;241m1\u001b[39m] \u001b[38;5;241m/\u001b[39m mid_tank\u001b[38;5;241m.\u001b[39mdata[\u001b[38;5;124m'\u001b[39m\u001b[38;5;124mV_L\u001b[39m\u001b[38;5;124m'\u001b[39m][\u001b[38;5;241m0\u001b[39m]\n",
      "File \u001b[0;32m~/anaconda3/lib/python3.9/site-packages/cryoevap/storage_tanks/tank.py:127\u001b[0m, in \u001b[0;36mTank.evaporate\u001b[0;34m(self, t_f)\u001b[0m\n\u001b[1;32m    124\u001b[0m IC \u001b[38;5;241m=\u001b[39m np\u001b[38;5;241m.\u001b[39mappend(VL_0, Tv_0)\n\u001b[1;32m    126\u001b[0m \u001b[38;5;66;03m# Integrate\u001b[39;00m\n\u001b[0;32m--> 127\u001b[0m sol \u001b[38;5;241m=\u001b[39m \u001b[43msolve_ivp\u001b[49m\u001b[43m(\u001b[49m\u001b[38;5;28;43mself\u001b[39;49m\u001b[38;5;241;43m.\u001b[39;49m\u001b[43msys_isobaric\u001b[49m\u001b[43m,\u001b[49m\u001b[43m \u001b[49m\u001b[43m(\u001b[49m\u001b[38;5;241;43m0\u001b[39;49m\u001b[43m,\u001b[49m\u001b[43m \u001b[49m\u001b[43mt_f\u001b[49m\u001b[43m)\u001b[49m\u001b[43m,\u001b[49m\u001b[43m \u001b[49m\u001b[43mIC\u001b[49m\u001b[43m,\u001b[49m\u001b[43m \u001b[49m\u001b[43mt_eval\u001b[49m\u001b[43m \u001b[49m\u001b[38;5;241;43m=\u001b[39;49m\u001b[43m \u001b[49m\u001b[43mt_eval\u001b[49m\u001b[43m,\u001b[49m\u001b[43m \u001b[49m\u001b[43mmethod\u001b[49m\u001b[38;5;241;43m=\u001b[39;49m\u001b[38;5;124;43m'\u001b[39;49m\u001b[38;5;124;43mRK45\u001b[39;49m\u001b[38;5;124;43m'\u001b[39;49m\u001b[43m,\u001b[49m\u001b[43m \u001b[49m\u001b[43matol\u001b[49m\u001b[38;5;241;43m=\u001b[39;49m\u001b[38;5;241;43m1e-6\u001b[39;49m\u001b[43m,\u001b[49m\u001b[43m \u001b[49m\u001b[43mrtol\u001b[49m\u001b[38;5;241;43m=\u001b[39;49m\u001b[38;5;241;43m1e-6\u001b[39;49m\u001b[43m)\u001b[49m        \n\u001b[1;32m    129\u001b[0m \u001b[38;5;66;03m# Set tank solution object with the volume and vapour temperature profiles\u001b[39;00m\n\u001b[1;32m    130\u001b[0m \u001b[38;5;66;03m# as a function of time\u001b[39;00m\n\u001b[1;32m    131\u001b[0m \u001b[38;5;28mself\u001b[39m\u001b[38;5;241m.\u001b[39msol \u001b[38;5;241m=\u001b[39m sol\n",
      "File \u001b[0;32m~/anaconda3/lib/python3.9/site-packages/scipy/integrate/_ivp/ivp.py:713\u001b[0m, in \u001b[0;36msolve_ivp\u001b[0;34m(fun, t_span, y0, method, t_eval, dense_output, events, vectorized, args, **options)\u001b[0m\n\u001b[1;32m    711\u001b[0m \u001b[38;5;28;01mif\u001b[39;00m t_eval_step\u001b[38;5;241m.\u001b[39msize \u001b[38;5;241m>\u001b[39m \u001b[38;5;241m0\u001b[39m:\n\u001b[1;32m    712\u001b[0m     \u001b[38;5;28;01mif\u001b[39;00m sol \u001b[38;5;129;01mis\u001b[39;00m \u001b[38;5;28;01mNone\u001b[39;00m:\n\u001b[0;32m--> 713\u001b[0m         sol \u001b[38;5;241m=\u001b[39m \u001b[43msolver\u001b[49m\u001b[38;5;241;43m.\u001b[39;49m\u001b[43mdense_output\u001b[49m\u001b[43m(\u001b[49m\u001b[43m)\u001b[49m\n\u001b[1;32m    714\u001b[0m     ts\u001b[38;5;241m.\u001b[39mappend(t_eval_step)\n\u001b[1;32m    715\u001b[0m     ys\u001b[38;5;241m.\u001b[39mappend(sol(t_eval_step))\n",
      "File \u001b[0;32m~/anaconda3/lib/python3.9/site-packages/scipy/integrate/_ivp/base.py:224\u001b[0m, in \u001b[0;36mOdeSolver.dense_output\u001b[0;34m(self)\u001b[0m\n\u001b[1;32m    222\u001b[0m     \u001b[38;5;28;01mreturn\u001b[39;00m ConstantDenseOutput(\u001b[38;5;28mself\u001b[39m\u001b[38;5;241m.\u001b[39mt_old, \u001b[38;5;28mself\u001b[39m\u001b[38;5;241m.\u001b[39mt, \u001b[38;5;28mself\u001b[39m\u001b[38;5;241m.\u001b[39my)\n\u001b[1;32m    223\u001b[0m \u001b[38;5;28;01melse\u001b[39;00m:\n\u001b[0;32m--> 224\u001b[0m     \u001b[38;5;28;01mreturn\u001b[39;00m \u001b[38;5;28;43mself\u001b[39;49m\u001b[38;5;241;43m.\u001b[39;49m\u001b[43m_dense_output_impl\u001b[49m\u001b[43m(\u001b[49m\u001b[43m)\u001b[49m\n",
      "File \u001b[0;32m~/anaconda3/lib/python3.9/site-packages/scipy/integrate/_ivp/rk.py:179\u001b[0m, in \u001b[0;36mRungeKutta._dense_output_impl\u001b[0;34m(self)\u001b[0m\n\u001b[1;32m    178\u001b[0m \u001b[38;5;28;01mdef\u001b[39;00m \u001b[38;5;21m_dense_output_impl\u001b[39m(\u001b[38;5;28mself\u001b[39m):\n\u001b[0;32m--> 179\u001b[0m     Q \u001b[38;5;241m=\u001b[39m \u001b[38;5;28;43mself\u001b[39;49m\u001b[38;5;241;43m.\u001b[39;49m\u001b[43mK\u001b[49m\u001b[38;5;241;43m.\u001b[39;49m\u001b[43mT\u001b[49m\u001b[38;5;241;43m.\u001b[39;49m\u001b[43mdot\u001b[49m\u001b[43m(\u001b[49m\u001b[38;5;28;43mself\u001b[39;49m\u001b[38;5;241;43m.\u001b[39;49m\u001b[43mP\u001b[49m\u001b[43m)\u001b[49m\n\u001b[1;32m    180\u001b[0m     \u001b[38;5;28;01mreturn\u001b[39;00m RkDenseOutput(\u001b[38;5;28mself\u001b[39m\u001b[38;5;241m.\u001b[39mt_old, \u001b[38;5;28mself\u001b[39m\u001b[38;5;241m.\u001b[39mt, \u001b[38;5;28mself\u001b[39m\u001b[38;5;241m.\u001b[39my_old, Q)\n",
      "\u001b[0;31mKeyboardInterrupt\u001b[0m: "
     ]
    }
   ],
   "source": [
    "from scipy.optimize import Bounds, differential_evolution\n",
    "\n",
    "# Minimum and maximum practical ranges\n",
    "# of initial liquid filling\n",
    "# 5% represent ballast voyage\n",
    "# 95% is the safety limit for potential liquid thermal expansion\n",
    "bounds = [(0.05, 0.95)]  # Bounds in differential_evolution are specified as a list of tuples\n",
    "\n",
    "# Define objective function\n",
    "def BOR_function(LF):\n",
    "\n",
    "    # Update liquid filling\n",
    "    mid_tank.LF = LF[0]  # LF is now an array, take the first element\n",
    "\n",
    "    # Execute simulation\n",
    "    mid_tank.evaporate(evap_time)\n",
    "\n",
    "    # Calculate objective function\n",
    "    \n",
    "    # Liquid volume aet the end of the evaporation\n",
    "    V_LF = mid_tank.data['V_L'][-1]\n",
    "\n",
    "    # Liquid volume at the beginning\n",
    "    V_L0 = mid_tank.data['V_L'][0]\n",
    "\n",
    "    # Objective function\n",
    "    f = 1 - V_LF/ V_L0\n",
    "    \n",
    "    print(\"LF = %.3f, V_L0=%.3f, V_LF = %.3f,, f=%.3e\" % (LF[0], V_L0, V_LF, f))\n",
    "    return f    \n",
    "\n",
    "# Perform global optimization using differential evolution\n",
    "result = differential_evolution(BOR_function, bounds, strategy='best1bin', maxiter=1000, popsize=15, tol=1e-6, mutation=(0.5, 1), recombination=0.7, disp=True)\n",
    "\n",
    "# Results\n",
    "print(\"Best solution found: LF =\", result.x[0])\n",
    "print(\"Function value:\", result.fun)\n"
   ]
  },
  {
   "cell_type": "markdown",
   "metadata": {},
   "source": [
    "#### References\n",
    "\n",
    "U.S. Department of Energy. (2021, October). DOE/NASA Advances in Liquid Hydrogen Storage Workshop. Retrieved from [https://www.energy.gov/sites/default/files/2021-10/new-lh2-sphere.pdf]"
   ]
  }
 ],
 "metadata": {
  "@webio": {
   "lastCommId": null,
   "lastKernelId": null
  },
  "kernelspec": {
   "display_name": "cryoenv",
   "language": "python",
   "name": "python3"
  },
  "language_info": {
   "codemirror_mode": {
    "name": "ipython",
    "version": 3
   },
   "file_extension": ".py",
   "mimetype": "text/x-python",
   "name": "python",
   "nbconvert_exporter": "python",
   "pygments_lexer": "ipython3",
   "version": "3.10.4"
  }
 },
 "nbformat": 4,
 "nbformat_minor": 4
}
