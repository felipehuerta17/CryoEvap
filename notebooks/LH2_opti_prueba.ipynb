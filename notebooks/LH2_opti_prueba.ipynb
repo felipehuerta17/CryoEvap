{
 "cells": [
  {
   "cell_type": "markdown",
   "metadata": {},
   "source": [
    "#### Case 2: Liquid hydrogen ($LH_2$) in a 2033 $\\text{m}^3$ tank\n",
    "\n",
    "This application corresponds to liquid hydrogen storage in the NASA's Space Launch System. It consists of a 2033 $m^3$ storage tank [NASA](https://www.energy.gov/sites/default/files/2021-10/new-lh2-sphere.pdf) in a tank with 8.4 m diameter and 40 m height. It will be assumed the following operation scenarios:\n",
    "\n",
    "* Daily boil-off rate of 0.1%  \n",
    "* Storage at atmospheric pressure with continuous removal of boil-off gas\n",
    "\n",
    "For purposes of the example, it is assumed that the storage tank is passively insulated with perlite.\n",
    "\n",
    "03/09/2024: Illustration of how to use SciPy to optimise"
   ]
  },
  {
   "cell_type": "code",
   "execution_count": 1,
   "metadata": {},
   "outputs": [],
   "source": [
    "# Scientific computing\n",
    "import numpy as np\n",
    "\n",
    "# Visualisation\n",
    "import matplotlib.pyplot as plt\n",
    "\n",
    "# Import the storage tank Class\n",
    "from cryoevap.storage_tanks import Tank\n",
    "\n",
    "# Import Cryogen class\n",
    "from cryoevap.cryogens import Cryogen"
   ]
  },
  {
   "cell_type": "markdown",
   "metadata": {},
   "source": [
    "#### Setup tank and cryogen properties\n"
   ]
  },
  {
   "cell_type": "code",
   "execution_count": 2,
   "metadata": {},
   "outputs": [],
   "source": [
    "# Cylindrical storage tank properties\n",
    "Q_roof = 0 # Roof heat ingress / W\n",
    "d_i = 8 # Internal diameter / m\n",
    "d_o = 8.4   # External diameter / m\n",
    "T_air = 293.15 # Temperature of the environment K\n",
    "\n",
    "# Set overall heat transfer coefficient through the walls for liquid and vapour\n",
    "U_L = 3.73e-1 # W/m2/K\n",
    "U_V = 3.73e-1 # W/m2/K\n",
    "\n",
    "# Specify heat transfer rate at the bottom\n",
    "# This will represent the heat conduction from the piping system\n",
    "Q_b = 100 # W, \n",
    "\n",
    "# Vertically orientated cylindrical tank volume\n",
    "V_tank = 2033 #m^3\n",
    "\n",
    "# Initial liquid filling / Dimensionless\n",
    "LF = 0.50 \n",
    "\n",
    "# Specify tank operating pressure\n",
    "P = 101325 # Pa\n",
    "\n",
    "# Initialize mid-scale tank\n",
    "mid_tank = Tank(d_i, d_o, V_tank, LF)\n",
    "mid_tank.set_HeatTransProps(U_L, U_V, T_air, Q_b, Q_roof, eta_w= 0.8)\n",
    "\n",
    "# Keep the tank roof insulated\n",
    "mid_tank.U_roof = 0\n",
    "\n",
    "# Initialise cryogen\n",
    "hydrogen = Cryogen(name = \"hydrogen\")\n",
    "hydrogen.set_coolprops(P)\n",
    "\n",
    "# Set cryogen\n",
    "mid_tank.cryogen = hydrogen"
   ]
  },
  {
   "cell_type": "markdown",
   "metadata": {},
   "source": [
    "Calculate initial evaporation rate and transient period"
   ]
  },
  {
   "cell_type": "code",
   "execution_count": 3,
   "metadata": {},
   "outputs": [
    {
     "data": {
      "text/plain": [
       "0.5"
      ]
     },
     "execution_count": 3,
     "metadata": {},
     "output_type": "execute_result"
    }
   ],
   "source": [
    "mid_tank.LF"
   ]
  },
  {
   "cell_type": "code",
   "execution_count": 4,
   "metadata": {},
   "outputs": [
    {
     "name": "stdout",
     "output_type": "stream",
     "text": [
      "The initial evaporation rate of hydrogen is 8.6 kg/h\n",
      "Transient period = 1127967.052 s \n",
      "Simulation time: 314 h\n",
      "BOR = 0.288 %\n"
     ]
    }
   ],
   "source": [
    "# Calculate initial evaporation rate\n",
    "print(\"The initial evaporation rate of \" + hydrogen.name + \" is %.1f kg/h\" % (mid_tank.b_l_dot * 3600))\n",
    "\n",
    "# Estimate transient period duration\n",
    "print(\"Transient period = %.3f s \" % mid_tank.tau)\n",
    "\n",
    "# Minimum number of hours to achieve steady state \n",
    "tau_h = (np.floor(mid_tank.tau / 3600) + 1)\n",
    "\n",
    "# Print simulation time of the transient period for short-term storage\n",
    "print(\"Simulation time: %.0i h\" % tau_h )\n",
    "\n",
    "# Calculate boil-off rate\n",
    "BOR = (mid_tank.b_l_dot * 24 * 3600) / (mid_tank.V * mid_tank.LF * mid_tank.cryogen.rho_L)\n",
    "print(\"BOR = %.3f %%\" % (BOR * 100))"
   ]
  },
  {
   "cell_type": "markdown",
   "metadata": {},
   "source": [
    "### Simulation setup and execution"
   ]
  },
  {
   "cell_type": "markdown",
   "metadata": {},
   "source": [
    "### Define optimisation parameters"
   ]
  },
  {
   "cell_type": "code",
   "execution_count": 5,
   "metadata": {},
   "outputs": [],
   "source": [
    "# Define vertical spacing\n",
    "dz = 0.1\n",
    "\n",
    "# Calculate number of nodes\n",
    "n_z = 1 + int(np.round(mid_tank.l_V/dz, 0))\n",
    "\n",
    "# Define dimensionless computational grid\n",
    "mid_tank.z_grid = np.linspace(0, 1, n_z)\n",
    "\n",
    "# Define evaporation time as the transient period\n",
    "# evap_time = 3600 * tau_h\n",
    "\n",
    "evap_time = 3600\n",
    "# Time step to plot each vapour temperature profile\n",
    "mid_tank.plot_interval = evap_time/6\n",
    "\n",
    "# Time step to record data, relevant for plotting integrated quantities such as\n",
    "# the vapour to liquid heat transfer rate, Q_VL\n",
    "mid_tank.time_interval = 60\n",
    "\n",
    "# mid_tank.evaporate(evap_time)"
   ]
  },
  {
   "cell_type": "code",
   "execution_count": 6,
   "metadata": {},
   "outputs": [
    {
     "name": "stderr",
     "output_type": "stream",
     "text": [
      "/tmp/ipykernel_17375/4018950756.py:22: DeprecationWarning: Conversion of an array with ndim > 0 to a scalar is deprecated, and will error in future. Ensure you extract a single element from your array before performing this operation. (Deprecated NumPy 1.25.)\n",
      "  print(\"LF = %.3f, f=%.3e\" % (LF, f))\n"
     ]
    },
    {
     "name": "stdout",
     "output_type": "stream",
     "text": [
      "LF = 0.900, f=7.206e-05\n",
      "LF = 0.900, f=7.206e-05\n",
      "LF = 0.844, f=7.602e-05\n",
      "LF = 0.844, f=7.602e-05\n",
      "LF = 0.384, f=1.525e-04\n",
      "LF = 0.384, f=1.525e-04\n",
      "LF = 0.722, f=8.683e-05\n",
      "LF = 0.722, f=8.683e-05\n",
      "LF = 0.801, f=7.946e-05\n",
      "LF = 0.801, f=7.946e-05\n",
      "LF = 0.857, f=7.509e-05\n",
      "LF = 0.857, f=7.509e-05\n",
      "LF = 0.920, f=7.076e-05\n",
      "LF = 0.920, f=7.076e-05\n",
      "LF = 0.945, f=6.920e-05\n",
      "LF = 0.945, f=6.920e-05\n",
      "`gtol` termination condition is satisfied.\n",
      "Number of iterations: 16, function evaluations: 16, CG iterations: 7, optimality: 2.54e-10, constraint violation: 0.00e+00, execution time: 5.9e+01 s.\n"
     ]
    }
   ],
   "source": [
    "from scipy.optimize import Bounds, minimize\n",
    "\n",
    "# Minimum and maximum practical ranges\n",
    "# of initial liquid filling\n",
    "\n",
    "# 5% represent ballast voyage\n",
    "# 95% is the safety limit for potential liquid thermal expansion\n",
    "bounds = Bounds([0.05], [0.95])\n",
    "\n",
    "# Define objective function\n",
    "def BOR_function(LF):\n",
    "\n",
    "    # Update liquid filling\n",
    "    mid_tank.LF = LF\n",
    "\n",
    "    # Execute simulation\n",
    "    mid_tank.evaporate(evap_time)\n",
    "\n",
    "    # Calculate objective function\n",
    "    f = 1 - mid_tank.data['V_L'][-1] / mid_tank.data['V_L'][0]\n",
    "    \n",
    "    print(\"LF = %.3f, f=%.3e\" % (LF, f))\n",
    "    return f    \n",
    "\n",
    "# Initial liquid filling to optimise\n",
    "\n",
    "x0 = 0.9 \n",
    "res = minimize(BOR_function, x0, method='trust-constr', options={'verbose': 1}, bounds=bounds)"
   ]
  },
  {
   "cell_type": "code",
   "execution_count": 14,
   "metadata": {},
   "outputs": [
    {
     "data": {
      "text/plain": [
       "           message: `gtol` termination condition is satisfied.\n",
       "           success: True\n",
       "            status: 1\n",
       "               fun: 6.91974099107373e-05\n",
       "                 x: [ 9.452e-01]\n",
       "               nit: 16\n",
       "              nfev: 16\n",
       "              njev: 8\n",
       "              nhev: 0\n",
       "          cg_niter: 7\n",
       "      cg_stop_cond: 1\n",
       "              grad: [-6.370e-05]\n",
       "   lagrangian_grad: [-2.537e-10]\n",
       "            constr: [array([ 9.452e-01])]\n",
       "               jac: [<1x1 sparse matrix of type '<class 'numpy.float64'>'\n",
       "                    \twith 1 stored elements in Compressed Sparse Row format>]\n",
       "       constr_nfev: [0]\n",
       "       constr_njev: [0]\n",
       "       constr_nhev: [0]\n",
       "                 v: [array([ 6.369e-05])]\n",
       "            method: tr_interior_point\n",
       "        optimality: 2.536784571603246e-10\n",
       "  constr_violation: 0.0\n",
       "    execution_time: 59.17054271697998\n",
       "         tr_radius: 2597999.6212934707\n",
       "    constr_penalty: 1.0\n",
       " barrier_parameter: 2.560000000000001e-07\n",
       " barrier_tolerance: 2.560000000000001e-07\n",
       "             niter: 16"
      ]
     },
     "execution_count": 14,
     "metadata": {},
     "output_type": "execute_result"
    }
   ],
   "source": [
    "res"
   ]
  },
  {
   "cell_type": "markdown",
   "metadata": {},
   "source": [
    "### Visualisation of results"
   ]
  },
  {
   "cell_type": "markdown",
   "metadata": {},
   "source": [
    "#### Vapour temperature"
   ]
  },
  {
   "cell_type": "code",
   "execution_count": 7,
   "metadata": {},
   "outputs": [
    {
     "data": {
      "image/png": "[encoded data removed]",
      "text/plain": [
       "<Figure size 432x288 with 1 Axes>"
      ]
     },
     "metadata": {
      "needs_background": "light"
     },
     "output_type": "display_data"
    }
   ],
   "source": [
    "mid_tank.plot_tv(t_unit='h')"
   ]
  },
  {
   "cell_type": "markdown",
   "metadata": {},
   "source": [
    "Visualise liquid and vapour heat ingresses, $\\dot{Q}_{\\text{L}}$ and  $\\dot{Q}_{\\text{V}}$.\n",
    "\n",
    "The plot also shows the vapour to liquid heat ingress, $\\dot{Q}_{VL}$, and  the partition of the vapour heat ingress that is transferred to the interface by the wall directly, $\\dot{Q}_{\\text{V,w}}$"
   ]
  },
  {
   "cell_type": "code",
   "execution_count": 8,
   "metadata": {},
   "outputs": [
    {
     "data": {
      "image/png": "[encoded data removed]",
      "text/plain": [
       "<Figure size 432x432 with 4 Axes>"
      ]
     },
     "metadata": {
      "needs_background": "light"
     },
     "output_type": "display_data"
    }
   ],
   "source": [
    "# Specify y-axis units as W, and time units to hours\n",
    "mid_tank.plot_Q(unit = 'W', t_unit = 'h')"
   ]
  },
  {
   "cell_type": "markdown",
   "metadata": {},
   "source": [
    "#### Plot liquid volume"
   ]
  },
  {
   "cell_type": "code",
   "execution_count": 9,
   "metadata": {},
   "outputs": [
    {
     "data": {
      "image/png": "[encoded data removed]",
      "text/plain": [
       "<Figure size 432x288 with 1 Axes>"
      ]
     },
     "metadata": {
      "needs_background": "light"
     },
     "output_type": "display_data"
    }
   ],
   "source": [
    "mid_tank.plot_V_L(t_unit='h')"
   ]
  },
  {
   "cell_type": "markdown",
   "metadata": {},
   "source": [
    "#### Plot evaporation rate, $\\dot{B}_{\\text{L}}$, and boil-off gas rate, $\\dot{B}_{}$"
   ]
  },
  {
   "cell_type": "code",
   "execution_count": 10,
   "metadata": {},
   "outputs": [
    {
     "data": {
      "image/png": "[encoded data removed]",
      "text/plain": [
       "<Figure size 432x288 with 1 Axes>"
      ]
     },
     "metadata": {
      "needs_background": "light"
     },
     "output_type": "display_data"
    }
   ],
   "source": [
    "mid_tank.plot_BOG(unit='kg/h', t_unit='h')"
   ]
  },
  {
   "cell_type": "markdown",
   "metadata": {},
   "source": [
    "Optional: CSV data export\n",
    "\n",
    "If evaporation data is intended to be post-processed in another software, it can be exported readily with the help of the Pandas package."
   ]
  },
  {
   "cell_type": "code",
   "execution_count": 11,
   "metadata": {},
   "outputs": [],
   "source": [
    "# Import pandas \n",
    "import pandas as pd"
   ]
  },
  {
   "cell_type": "code",
   "execution_count": 12,
   "metadata": {},
   "outputs": [
    {
     "data": {
      "text/html": [
       "<div>\n",
       "<style scoped>\n",
       "    .dataframe tbody tr th:only-of-type {\n",
       "        vertical-align: middle;\n",
       "    }\n",
       "\n",
       "    .dataframe tbody tr th {\n",
       "        vertical-align: top;\n",
       "    }\n",
       "\n",
       "    .dataframe thead th {\n",
       "        text-align: right;\n",
       "    }\n",
       "</style>\n",
       "<table border=\"1\" class=\"dataframe\">\n",
       "  <thead>\n",
       "    <tr style=\"text-align: right;\">\n",
       "      <th></th>\n",
       "      <th>Time</th>\n",
       "      <th>Tv_avg</th>\n",
       "      <th>rho_V_avg</th>\n",
       "      <th>Q_VL</th>\n",
       "      <th>Q_L</th>\n",
       "      <th>Q_V</th>\n",
       "      <th>V_L</th>\n",
       "      <th>B_L</th>\n",
       "      <th>BOG</th>\n",
       "      <th>drho_V_avg</th>\n",
       "      <th>dV_L</th>\n",
       "      <th>T_BOG</th>\n",
       "      <th>Q_Vw</th>\n",
       "      <th>Q_tot</th>\n",
       "    </tr>\n",
       "  </thead>\n",
       "  <tbody>\n",
       "    <tr>\n",
       "      <th>0</th>\n",
       "      <td>0</td>\n",
       "      <td>20.368904</td>\n",
       "      <td>1.332170</td>\n",
       "      <td>0.000000</td>\n",
       "      <td>1026.438216</td>\n",
       "      <td>59.536677</td>\n",
       "      <td>1921.544326</td>\n",
       "      <td>0.002617</td>\n",
       "      <td>0.002617</td>\n",
       "      <td>0.000000e+00</td>\n",
       "      <td>0.000000</td>\n",
       "      <td>20.368904</td>\n",
       "      <td>47.629341</td>\n",
       "      <td>1174.067557</td>\n",
       "    </tr>\n",
       "    <tr>\n",
       "      <th>1</th>\n",
       "      <td>60</td>\n",
       "      <td>20.369302</td>\n",
       "      <td>1.332136</td>\n",
       "      <td>0.043884</td>\n",
       "      <td>1026.437032</td>\n",
       "      <td>59.537773</td>\n",
       "      <td>1921.542110</td>\n",
       "      <td>0.002617</td>\n",
       "      <td>0.002630</td>\n",
       "      <td>-5.597976e-07</td>\n",
       "      <td>-0.000037</td>\n",
       "      <td>20.369303</td>\n",
       "      <td>47.630219</td>\n",
       "      <td>1174.111135</td>\n",
       "    </tr>\n",
       "    <tr>\n",
       "      <th>2</th>\n",
       "      <td>120</td>\n",
       "      <td>20.369699</td>\n",
       "      <td>1.332103</td>\n",
       "      <td>0.061407</td>\n",
       "      <td>1026.435849</td>\n",
       "      <td>59.538870</td>\n",
       "      <td>1921.539894</td>\n",
       "      <td>0.002617</td>\n",
       "      <td>0.002630</td>\n",
       "      <td>-5.582903e-07</td>\n",
       "      <td>-0.000037</td>\n",
       "      <td>20.369703</td>\n",
       "      <td>47.631096</td>\n",
       "      <td>1174.128352</td>\n",
       "    </tr>\n",
       "    <tr>\n",
       "      <th>3</th>\n",
       "      <td>180</td>\n",
       "      <td>20.370095</td>\n",
       "      <td>1.332069</td>\n",
       "      <td>0.030819</td>\n",
       "      <td>1026.434665</td>\n",
       "      <td>59.539968</td>\n",
       "      <td>1921.537678</td>\n",
       "      <td>0.002617</td>\n",
       "      <td>0.002630</td>\n",
       "      <td>-5.617897e-07</td>\n",
       "      <td>-0.000037</td>\n",
       "      <td>20.370103</td>\n",
       "      <td>47.631974</td>\n",
       "      <td>1174.097458</td>\n",
       "    </tr>\n",
       "    <tr>\n",
       "      <th>4</th>\n",
       "      <td>240</td>\n",
       "      <td>20.370497</td>\n",
       "      <td>1.332035</td>\n",
       "      <td>0.059021</td>\n",
       "      <td>1026.433481</td>\n",
       "      <td>59.541064</td>\n",
       "      <td>1921.535462</td>\n",
       "      <td>0.002617</td>\n",
       "      <td>0.002631</td>\n",
       "      <td>-5.735256e-07</td>\n",
       "      <td>-0.000037</td>\n",
       "      <td>20.370509</td>\n",
       "      <td>47.632851</td>\n",
       "      <td>1174.125353</td>\n",
       "    </tr>\n",
       "  </tbody>\n",
       "</table>\n",
       "</div>"
      ],
      "text/plain": [
       "   Time     Tv_avg  rho_V_avg      Q_VL          Q_L        Q_V          V_L  \\\n",
       "0     0  20.368904   1.332170  0.000000  1026.438216  59.536677  1921.544326   \n",
       "1    60  20.369302   1.332136  0.043884  1026.437032  59.537773  1921.542110   \n",
       "2   120  20.369699   1.332103  0.061407  1026.435849  59.538870  1921.539894   \n",
       "3   180  20.370095   1.332069  0.030819  1026.434665  59.539968  1921.537678   \n",
       "4   240  20.370497   1.332035  0.059021  1026.433481  59.541064  1921.535462   \n",
       "\n",
       "        B_L       BOG    drho_V_avg      dV_L      T_BOG       Q_Vw  \\\n",
       "0  0.002617  0.002617  0.000000e+00  0.000000  20.368904  47.629341   \n",
       "1  0.002617  0.002630 -5.597976e-07 -0.000037  20.369303  47.630219   \n",
       "2  0.002617  0.002630 -5.582903e-07 -0.000037  20.369703  47.631096   \n",
       "3  0.002617  0.002630 -5.617897e-07 -0.000037  20.370103  47.631974   \n",
       "4  0.002617  0.002631 -5.735256e-07 -0.000037  20.370509  47.632851   \n",
       "\n",
       "         Q_tot  \n",
       "0  1174.067557  \n",
       "1  1174.111135  \n",
       "2  1174.128352  \n",
       "3  1174.097458  \n",
       "4  1174.125353  "
      ]
     },
     "execution_count": 12,
     "metadata": {},
     "output_type": "execute_result"
    }
   ],
   "source": [
    "# Create dataframe from dictionary\n",
    "df_evap = pd.DataFrame.from_dict(mid_tank.data)\n",
    "\n",
    "# Save file to the current working directory\n",
    "df_evap.to_csv('iso_LH2_2033m3.csv')\n",
    "\n",
    "# Show the first five columns of the dataframe in console\n",
    "df_evap.head()"
   ]
  },
  {
   "cell_type": "markdown",
   "metadata": {},
   "source": [
    "Plot average vapour and boil-off gas temperature"
   ]
  },
  {
   "cell_type": "code",
   "execution_count": 13,
   "metadata": {},
   "outputs": [
    {
     "data": {
      "image/png": "[encoded data removed]",
      "text/plain": [
       "<Figure size 288x288 with 1 Axes>"
      ]
     },
     "metadata": {
      "needs_background": "light"
     },
     "output_type": "display_data"
    }
   ],
   "source": [
    "mid_tank.plot_tv_BOG(t_unit='h')"
   ]
  },
  {
   "cell_type": "markdown",
   "metadata": {},
   "source": [
    "#### References\n",
    "\n",
    "U.S. Department of Energy. (2021, October). DOE/NASA Advances in Liquid Hydrogen Storage Workshop. Retrieved from [https://www.energy.gov/sites/default/files/2021-10/new-lh2-sphere.pdf]"
   ]
  }
 ],
 "metadata": {
  "@webio": {
   "lastCommId": null,
   "lastKernelId": null
  },
  "kernelspec": {
   "display_name": "Python 3 (ipykernel)",
   "language": "python",
   "name": "python3"
  },
  "language_info": {
   "codemirror_mode": {
    "name": "ipython",
    "version": 3
   },
   "file_extension": ".py",
   "mimetype": "text/x-python",
   "name": "python",
   "nbconvert_exporter": "python",
   "pygments_lexer": "ipython3",
   "version": "3.10.4"
  }
 },
 "nbformat": 4,
 "nbformat_minor": 2
}
