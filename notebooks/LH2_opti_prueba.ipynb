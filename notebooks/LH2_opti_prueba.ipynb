{
 "cells": [
  {
   "cell_type": "markdown",
   "metadata": {},
   "source": [
    "#### Case 2: Liquid hydrogen ($LH_2$) in a 2033 $\\text{m}^3$ tank\n",
    "\n",
    "This application corresponds to liquid hydrogen storage in the NASA's Space Launch System. It consists of a 2033 $m^3$ storage tank [NASA](https://www.energy.gov/sites/default/files/2021-10/new-lh2-sphere.pdf) in a tank with 8.4 m diameter and 40 m height. It will be assumed the following operation scenarios:\n",
    "\n",
    "* Daily boil-off rate of 0.1%  \n",
    "* Storage at atmospheric pressure with continuous removal of boil-off gas\n",
    "\n",
    "For purposes of the example, it is assumed that the storage tank is passively insulated with perlite.\n",
    "\n",
    "03/09/2024: Illustration of how to use SciPy to optimise"
   ]
  },
  {
   "cell_type": "code",
   "execution_count": null,
   "metadata": {},
   "outputs": [],
   "source": [
    "# Scientific computing\n",
    "import numpy as np\n",
    "\n",
    "# Visualisation\n",
    "import matplotlib.pyplot as plt\n",
    "\n",
    "# Import the storage tank Class\n",
    "from cryoevap.storage_tanks import Tank\n",
    "\n",
    "# Import Cryogen class\n",
    "from cryoevap.cryogens import Cryogen"
   ]
  },
  {
   "cell_type": "markdown",
   "metadata": {},
   "source": [
    "#### Setup tank and cryogen properties\n"
   ]
  },
  {
   "cell_type": "code",
   "execution_count": null,
   "metadata": {},
   "outputs": [],
   "source": [
    "# Cylindrical storage tank properties\n",
    "Q_roof = 0 # Roof heat ingress / W\n",
    "\n",
    "# Vertically orientated cylindrical tank volume\n",
    "V_tank = 2033/100 #m^3\n",
    "\n",
    "# aspect ratio\n",
    "a = 0.5\n",
    "\n",
    "d_i = (4*V_tank/(a*np.pi))**(1/3) # Internal diameter / m\n",
    "d_o = d_i + 0.04   # External diameter / m\n",
    "T_air = 293.15 # Temperature of the environment K\n",
    "\n",
    "# Set overall heat transfer coefficient through the walls for liquid and vapour\n",
    "U_L = 3.73e-3 # W/m2/K\n",
    "U_V = 3.73e-3 # W/m2/K\n",
    "\n",
    "# Specify heat transfer rate at the bottom\n",
    "# This will represent the heat conduction from the piping system\n",
    "Q_b = 10 # 100 # W, \n",
    "\n",
    "\n",
    "#V_tank = 500 #m^3\n",
    "\n",
    "# Initial liquid filling / Dimensionless\n",
    "LF = 0.95 \n",
    "\n",
    "# Specify tank operating pressure\n",
    "P = 101325 # Pa\n",
    "\n",
    "eta_w = 0.9 # Evaporative fraction\n",
    "\n",
    "# Initialize mid-scale tank\n",
    "mid_tank = Tank(d_i, d_o, V_tank, LF)\n",
    "mid_tank.set_HeatTransProps(U_L, U_V, T_air, Q_b, Q_roof, eta_w= eta_w)\n",
    "\n",
    "# Keep the tank roof insulated\n",
    "mid_tank.U_roof = 0 #U_V * (1-eta_w)\n",
    "\n",
    "# Initialise cryogen\n",
    "hydrogen = Cryogen(name = \"hydrogen\")\n",
    "hydrogen.set_coolprops(P)\n",
    "\n",
    "# Set cryogen\n",
    "mid_tank.cryogen = hydrogen"
   ]
  },
  {
   "cell_type": "markdown",
   "metadata": {},
   "source": [
    "Calculate initial evaporation rate and transient period"
   ]
  },
  {
   "cell_type": "code",
   "execution_count": null,
   "metadata": {},
   "outputs": [],
   "source": [
    "# Calculate initial evaporation rate\n",
    "print(\"The initial evaporation rate of \" + hydrogen.name + \" is %.1f kg/h\" % (mid_tank.b_l_dot * 3600))\n",
    "\n",
    "# Estimate transient period duration\n",
    "print(\"Transient period = %.3f s \" % mid_tank.tau)\n",
    "\n",
    "# Minimum number of hours to achieve steady state \n",
    "tau_h = (np.floor(mid_tank.tau / 3600) + 1)\n",
    "\n",
    "# Print simulation time of the transient period for short-term storage\n",
    "print(\"Simulation time: %.0i h\" % tau_h )\n",
    "\n",
    "# Calculate boil-off rate\n",
    "BOR = (mid_tank.b_l_dot * 24 * 3600) / (mid_tank.V * mid_tank.LF * mid_tank.cryogen.rho_L)\n",
    "print(\"BOR = %.3f %%\" % (BOR * 100))"
   ]
  },
  {
   "cell_type": "markdown",
   "metadata": {},
   "source": [
    "### Simulation setup and execution"
   ]
  },
  {
   "cell_type": "markdown",
   "metadata": {},
   "source": [
    "### Define optimisation parameters"
   ]
  },
  {
   "cell_type": "code",
   "execution_count": null,
   "metadata": {},
   "outputs": [],
   "source": [
    "# Define vertical spacing\n",
    "dz = 0.04\n",
    "\n",
    "# Calculate number of nodes\n",
    "n_z = 1 + int(np.round(mid_tank.l_V/dz, 0))\n",
    "\n",
    "# Define dimensionless computational grid\n",
    "mid_tank.z_grid = np.linspace(0, 1, n_z)\n",
    "\n",
    "# Define evaporation time as the transient period\n",
    "evap_time = 3600 * 48\n",
    "\n",
    "# evap_time = 3600\n",
    "# Time step to plot each vapour temperature profile\n",
    "mid_tank.plot_interval = evap_time/6\n",
    "\n",
    "# Time step to record data, relevant for plotting integrated quantities such as\n",
    "# the vapour to liquid heat transfer rate, Q_VL\n",
    "mid_tank.time_interval = 60\n",
    "\n",
    "mid_tank.evaporate(evap_time)"
   ]
  },
  {
   "cell_type": "markdown",
   "metadata": {},
   "source": [
    "### Plot response surface"
   ]
  },
  {
   "cell_type": "code",
   "execution_count": null,
   "metadata": {},
   "outputs": [],
   "source": [
    "# Liquid filling\n",
    "LF_vec = np.linspace(0.05, 0.95, 9)\n",
    "\n",
    "# BOR objective function\n",
    "f_list = []\n",
    "# Total BOG objective function\n",
    "f2_list = []\n",
    "\n",
    "for LFi in LF_vec:\n",
    "    # Update liquid filling\n",
    "    mid_tank.LF = LFi\n",
    "\n",
    "    # Execute simulation\n",
    "    mid_tank.evaporate(evap_time)\n",
    "\n",
    "    # Calculate objective function\n",
    "    f = 1 - mid_tank.data['V_L'][-1] / mid_tank.data['V_L'][0]\n",
    "\n",
    "    f2 = mid_tank.data['V_L'][0] - mid_tank.data['V_L'][1]\n",
    "\n",
    "    # Append to list\n",
    "    f_list.append(f)\n",
    "    f2_list.append(f2)\n",
    "\n",
    "f_list = np.array(f_list)\n",
    "f2_list = np.array(f2_list)\n",
    "\n",
    "fig, ax = plt.subplots(1,2)\n",
    "# Plot\n",
    "ax[0].plot(LF_vec, (100*f_list), 'ro')\n",
    "ax[0].set_xlabel('LF')\n",
    "ax[0].set_ylabel('BOR')\n",
    "    \n",
    "ax[1].plot(LF_vec, f2_list, 'ro')\n",
    "ax[1].set_xlabel('LF')\n",
    "ax[1].set_ylabel('BOG')"
   ]
  },
  {
   "cell_type": "markdown",
   "metadata": {},
   "source": []
  },
  {
   "cell_type": "markdown",
   "metadata": {},
   "source": [
    "### Aspect ratio"
   ]
  },
  {
   "cell_type": "code",
   "execution_count": null,
   "metadata": {},
   "outputs": [],
   "source": [
    "# Aspect ratio\n",
    "a_vec = np.linspace(0.1, 2, 7)\n",
    "\n",
    "# BOR objective function\n",
    "f_list = []\n",
    "# Total BOG objective function\n",
    "f2_list = []\n",
    "\n",
    "for a in a_vec:\n",
    "    # Update aspect ratio\n",
    "    # a = 0.5\n",
    "    d_i = (4*V_tank/(a*np.pi))**(1/3) # Internal diameter / m\n",
    "    mid_tank.d_i = d_i\n",
    "    \n",
    "    mid_tank.set_HeatTransProps(U_L, U_V, T_air, Q_b, Q_roof, eta_w= eta_w)\n",
    "\n",
    "    # Execute simulation\n",
    "    mid_tank.evaporate(evap_time)\n",
    "\n",
    "    # Calculate objective function\n",
    "    f = 1 - mid_tank.data['V_L'][-1] / mid_tank.data['V_L'][0]\n",
    "\n",
    "    f2 = mid_tank.data['V_L'][0] - mid_tank.data['V_L'][-1]\n",
    "\n",
    "    # Append to list\n",
    "    f_list.append(f)\n",
    "    f2_list.append(f2)\n",
    "\n",
    "f_list = np.array(f_list)\n",
    "f2_list = np.array(f2_list)\n",
    "\n",
    "fig, ax = plt.subplots(1,2)\n",
    "# Plot\n",
    "ax[0].plot(a_vec, (100*f_list), 'ro')\n",
    "ax[0].set_xlabel('a=L/D')\n",
    "ax[0].set_ylabel('BOR')\n",
    "    \n",
    "ax[1].plot(a_vec, f2_list, 'ro')\n",
    "ax[1].set_xlabel('a=L/D')\n",
    "ax[1].set_ylabel('BOG')"
   ]
  },
  {
   "cell_type": "code",
   "execution_count": null,
   "metadata": {},
   "outputs": [],
   "source": [
    "from scipy.optimize import Bounds, minimize\n",
    "\n",
    "# Minimum and maximum practical ranges\n",
    "# of initial liquid filling\n",
    "\n",
    "# 5% represent ballast voyage\n",
    "# 95% is the safety limit for potential liquid thermal expansion\n",
    "bounds = Bounds([0.05], [0.95])\n",
    "\n",
    "# Define objective function\n",
    "def BOR_function(LF):\n",
    "\n",
    "    # Update liquid filling\n",
    "    mid_tank.LF = LF\n",
    "\n",
    "    # Execute simulation\n",
    "    mid_tank.evaporate(evap_time)\n",
    "\n",
    "    # Calculate objective function\n",
    "    f = 1 - mid_tank.data['V_L'][-1] / mid_tank.data['V_L'][0]\n",
    "    \n",
    "    print(\"LF = %.3f, f=%.3e\" % (LF, f))\n",
    "    return f    \n",
    "\n",
    "# Initial liquid filling to optimise\n",
    "\n",
    "x0 = 0.9 \n",
    "res = minimize(BOR_function, x0, method='trust-constr', options={'verbose': 1}, bounds=bounds)"
   ]
  },
  {
   "cell_type": "markdown",
   "metadata": {},
   "source": [
    "Global optimisation"
   ]
  },
  {
   "cell_type": "code",
   "execution_count": null,
   "metadata": {},
   "outputs": [],
   "source": [
    "from scipy.optimize import Bounds, differential_evolution\n",
    "\n",
    "# Minimum and maximum practical ranges\n",
    "# of initial liquid filling\n",
    "# 5% represent ballast voyage\n",
    "# 95% is the safety limit for potential liquid thermal expansion\n",
    "bounds = [(0.05, 0.95)]  # Bounds in differential_evolution are specified as a list of tuples\n",
    "\n",
    "# Define objective function\n",
    "def BOR_function(LF):\n",
    "\n",
    "    # Update liquid filling\n",
    "    mid_tank.LF = LF[0]  # LF is now an array, take the first element\n",
    "\n",
    "    # Execute simulation\n",
    "    mid_tank.evaporate(evap_time)\n",
    "\n",
    "    # Calculate objective function\n",
    "    \n",
    "    # Liquid volume aet the end of the evaporation\n",
    "    V_LF = mid_tank.data['V_L'][-1]\n",
    "\n",
    "    # Liquid volume at the beginning\n",
    "    V_L0 = mid_tank.data['V_L'][0]\n",
    "\n",
    "    # Objective function\n",
    "    f = 1 - V_LF/ V_L0\n",
    "    \n",
    "    print(\"LF = %.3f, V_L0=%.3f, V_LF = %.3f,, f=%.3e\" % (LF[0], V_L0, V_LF, f))\n",
    "    return f    \n",
    "\n",
    "# Perform global optimization using differential evolution\n",
    "result = differential_evolution(BOR_function, bounds, strategy='best1bin', maxiter=1000, popsize=15, tol=1e-6, mutation=(0.5, 1), recombination=0.7, disp=True)\n",
    "\n",
    "# Results\n",
    "print(\"Best solution found: LF =\", result.x[0])\n",
    "print(\"Function value:\", result.fun)\n"
   ]
  },
  {
   "cell_type": "markdown",
   "metadata": {},
   "source": [
    "### Visualisation of results"
   ]
  },
  {
   "cell_type": "markdown",
   "metadata": {},
   "source": [
    "#### Vapour temperature"
   ]
  },
  {
   "cell_type": "code",
   "execution_count": null,
   "metadata": {},
   "outputs": [],
   "source": [
    "mid_tank.plot_tv(t_unit='h')"
   ]
  },
  {
   "cell_type": "markdown",
   "metadata": {},
   "source": [
    "Visualise liquid and vapour heat ingresses, $\\dot{Q}_{\\text{L}}$ and  $\\dot{Q}_{\\text{V}}$.\n",
    "\n",
    "The plot also shows the vapour to liquid heat ingress, $\\dot{Q}_{VL}$, and  the partition of the vapour heat ingress that is transferred to the interface by the wall directly, $\\dot{Q}_{\\text{V,w}}$"
   ]
  },
  {
   "cell_type": "code",
   "execution_count": null,
   "metadata": {},
   "outputs": [],
   "source": [
    "# Specify y-axis units as W, and time units to hours\n",
    "mid_tank.plot_Q(unit = 'W', t_unit = 'h')"
   ]
  },
  {
   "cell_type": "markdown",
   "metadata": {},
   "source": [
    "#### Plot liquid volume"
   ]
  },
  {
   "cell_type": "code",
   "execution_count": null,
   "metadata": {},
   "outputs": [],
   "source": [
    "mid_tank.plot_V_L(t_unit='h')"
   ]
  },
  {
   "cell_type": "markdown",
   "metadata": {},
   "source": [
    "#### Plot evaporation rate, $\\dot{B}_{\\text{L}}$, and boil-off gas rate, $\\dot{B}_{}$"
   ]
  },
  {
   "cell_type": "code",
   "execution_count": null,
   "metadata": {},
   "outputs": [],
   "source": [
    "mid_tank.plot_BOG(unit='kg/h', t_unit='h')"
   ]
  },
  {
   "cell_type": "markdown",
   "metadata": {},
   "source": [
    "Optional: CSV data export\n",
    "\n",
    "If evaporation data is intended to be post-processed in another software, it can be exported readily with the help of the Pandas package."
   ]
  },
  {
   "cell_type": "code",
   "execution_count": null,
   "metadata": {},
   "outputs": [],
   "source": [
    "# Import pandas \n",
    "import pandas as pd"
   ]
  },
  {
   "cell_type": "markdown",
   "metadata": {},
   "source": [
    "Plot average vapour and boil-off gas temperature"
   ]
  },
  {
   "cell_type": "code",
   "execution_count": null,
   "metadata": {},
   "outputs": [],
   "source": [
    "mid_tank.plot_tv_BOG(t_unit='h')"
   ]
  },
  {
   "cell_type": "markdown",
   "metadata": {},
   "source": [
    "#### References\n",
    "\n",
    "U.S. Department of Energy. (2021, October). DOE/NASA Advances in Liquid Hydrogen Storage Workshop. Retrieved from [https://www.energy.gov/sites/default/files/2021-10/new-lh2-sphere.pdf]"
   ]
  }
 ],
 "metadata": {
  "@webio": {
   "lastCommId": null,
   "lastKernelId": null
  },
  "kernelspec": {
   "display_name": "Python 3 (ipykernel)",
   "language": "python",
   "name": "python3"
  },
  "language_info": {
   "codemirror_mode": {
    "name": "ipython",
    "version": 3
   },
   "file_extension": ".py",
   "mimetype": "text/x-python",
   "name": "python",
   "nbconvert_exporter": "python",
   "pygments_lexer": "ipython3",
   "version": "3.10.4"
  }
 },
 "nbformat": 4,
 "nbformat_minor": 2
}
